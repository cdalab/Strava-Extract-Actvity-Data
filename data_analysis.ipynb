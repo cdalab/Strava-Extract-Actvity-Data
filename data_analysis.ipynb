{
 "cells": [
  {
   "cell_type": "code",
   "execution_count": null,
   "outputs": [],
   "source": [
    "import os.path\n",
    "\n",
    "import pandas as pd\n",
    "\n",
    "activities_df = pd.read_csv('link/riders_time_interval_pages_links.csv')\n",
    "activities_df_from_31 = pd.read_csv('link/riders_time_interval_pages_links_from_31.csv')"
   ],
   "metadata": {
    "collapsed": false,
    "pycharm": {
     "name": "#%%\n"
    }
   }
  },
  {
   "cell_type": "code",
   "execution_count": null,
   "outputs": [],
   "source": [
    "activities_df.head()"
   ],
   "metadata": {
    "collapsed": false,
    "pycharm": {
     "name": "#%%\n"
    }
   }
  },
  {
   "cell_type": "code",
   "execution_count": null,
   "outputs": [],
   "source": [
    "\n",
    "activities_df_from_31.head()"
   ],
   "metadata": {
    "collapsed": false,
    "pycharm": {
     "name": "#%%\n"
    }
   }
  },
  {
   "cell_type": "code",
   "execution_count": null,
   "outputs": [],
   "source": [
    "concat_activities_df = pd.concat([activities_df,activities_df_from_31])"
   ],
   "metadata": {
    "collapsed": false,
    "pycharm": {
     "name": "#%%\n"
    }
   }
  },
  {
   "cell_type": "code",
   "execution_count": null,
   "outputs": [],
   "source": [
    "concat_activities_df.head()"
   ],
   "metadata": {
    "collapsed": false,
    "pycharm": {
     "name": "#%%\n"
    }
   }
  },
  {
   "cell_type": "code",
   "execution_count": null,
   "outputs": [],
   "source": [
    "concat_activities_df[31:36]"
   ],
   "metadata": {
    "collapsed": false,
    "pycharm": {
     "name": "#%%\n"
    }
   }
  },
  {
   "cell_type": "code",
   "execution_count": null,
   "outputs": [],
   "source": [
    "activities_df_from_31.head()\n"
   ],
   "metadata": {
    "collapsed": false,
    "pycharm": {
     "name": "#%%\n"
    }
   }
  },
  {
   "cell_type": "code",
   "execution_count": null,
   "outputs": [],
   "source": [
    "len(concat_activities_df)"
   ],
   "metadata": {
    "collapsed": false,
    "pycharm": {
     "name": "#%%\n"
    }
   }
  },
  {
   "cell_type": "code",
   "execution_count": null,
   "outputs": [],
   "source": [
    "len(activities_df_from_31)"
   ],
   "metadata": {
    "collapsed": false,
    "pycharm": {
     "name": "#%%\n"
    }
   }
  },
  {
   "cell_type": "code",
   "execution_count": null,
   "outputs": [],
   "source": [
    "len(activities_df)"
   ],
   "metadata": {
    "collapsed": false,
    "pycharm": {
     "name": "#%%\n"
    }
   }
  },
  {
   "cell_type": "code",
   "execution_count": null,
   "outputs": [],
   "source": [
    "concat_activities_df[30:32]\n"
   ],
   "metadata": {
    "collapsed": false,
    "pycharm": {
     "name": "#%%\n"
    }
   }
  },
  {
   "cell_type": "code",
   "execution_count": null,
   "outputs": [],
   "source": [
    "concat_activities_df = concat_activities_df.reset_index(drop=True)"
   ],
   "metadata": {
    "collapsed": false,
    "pycharm": {
     "name": "#%%\n"
    }
   }
  },
  {
   "cell_type": "code",
   "execution_count": null,
   "outputs": [],
   "source": [
    "concat_activities_df[30:32]"
   ],
   "metadata": {
    "collapsed": false,
    "pycharm": {
     "name": "#%%\n"
    }
   }
  },
  {
   "cell_type": "code",
   "execution_count": null,
   "outputs": [],
   "source": [
    "# concat_activities_df.to_csv('link/riders_time_interval_pages_links.csv',index=False,header=True)"
   ],
   "metadata": {
    "collapsed": false,
    "pycharm": {
     "name": "#%%\n"
    }
   }
  },
  {
   "cell_type": "code",
   "execution_count": null,
   "outputs": [],
   "source": [
    "activities_df = pd.read_csv('link/riders_time_interval_pages_links.csv')\n",
    "activities_df"
   ],
   "metadata": {
    "collapsed": false,
    "pycharm": {
     "name": "#%%\n"
    }
   }
  },
  {
   "cell_type": "code",
   "execution_count": null,
   "outputs": [],
   "source": [
    "import pandas as pd\n",
    "\n",
    "activities_df = pd.read_csv('link/riders_time_interval_pages_links.csv')\n",
    "activities_df2 = pd.read_csv('link/riders_time_interval_pages_links_old_good.csv')"
   ],
   "metadata": {
    "collapsed": false,
    "pycharm": {
     "name": "#%%\n"
    }
   }
  },
  {
   "cell_type": "code",
   "execution_count": null,
   "outputs": [],
   "source": [
    "activities_df.equals(activities_df2)"
   ],
   "metadata": {
    "collapsed": false,
    "pycharm": {
     "name": "#%%\n"
    }
   }
  },
  {
   "cell_type": "code",
   "execution_count": null,
   "outputs": [],
   "source": [
    "same = (activities_df == activities_df2)['activities']"
   ],
   "metadata": {
    "collapsed": false,
    "pycharm": {
     "name": "#%%\n"
    }
   }
  },
  {
   "cell_type": "code",
   "execution_count": null,
   "outputs": [],
   "source": [],
   "metadata": {
    "collapsed": false,
    "pycharm": {
     "name": "#%%\n"
    }
   }
  },
  {
   "cell_type": "code",
   "execution_count": null,
   "outputs": [],
   "source": [
    "\n",
    "\n",
    "same = (activities_df['activities'] == activities_df2['activities'])"
   ],
   "metadata": {
    "collapsed": false,
    "pycharm": {
     "name": "#%%\n"
    }
   }
  },
  {
   "cell_type": "code",
   "execution_count": null,
   "outputs": [],
   "source": [
    "\n",
    "test_frame = pd.DataFrame(zip(activities_df[~same]['activities'],activities_df2[~same]['activities']),columns=['1','2'])"
   ],
   "metadata": {
    "collapsed": false,
    "pycharm": {
     "name": "#%%\n"
    }
   }
  },
  {
   "cell_type": "code",
   "execution_count": null,
   "outputs": [],
   "source": [
    "test1 = test_frame.loc[3,'2']"
   ],
   "metadata": {
    "collapsed": false,
    "pycharm": {
     "name": "#%%\n"
    }
   }
  },
  {
   "cell_type": "code",
   "execution_count": null,
   "outputs": [],
   "source": [
    "import pandas as pd\n",
    "\n",
    "df1 = pd.read_csv('link/riders_activity_links.csv')\n",
    "df2 = pd.read_csv('link/riders_activity_links2.csv')"
   ],
   "metadata": {
    "collapsed": false,
    "pycharm": {
     "name": "#%%\n"
    }
   }
  },
  {
   "cell_type": "code",
   "execution_count": null,
   "outputs": [],
   "source": [
    "for (i,r1),(j,r2) in zip(df1.iterrows(),df2.iterrows()):\n",
    "    if r1['activity_id'] != r2['activity_id']:\n",
    "        print(i)"
   ],
   "metadata": {
    "collapsed": false,
    "pycharm": {
     "name": "#%%\n"
    }
   }
  },
  {
   "cell_type": "code",
   "execution_count": null,
   "outputs": [],
   "source": [
    "import pandas as pd\n",
    "\n",
    "error_df = pd.read_csv('log/ERROR_DF_87.68.185.244_download_week_interval_pages.csv')"
   ],
   "metadata": {
    "collapsed": false,
    "pycharm": {
     "name": "#%%\n"
    }
   }
  },
  {
   "cell_type": "code",
   "execution_count": null,
   "outputs": [],
   "source": [
    "from urllib.parse import parse_qsl\n",
    "import os\n",
    "import json\n",
    "\n",
    "def _get_interval_html_file_and_dir(html_files_path, strava_id, url_param_dict):\n",
    "    html_file_name = \"_\".join(url_param_dict.values())\n",
    "    html_file_dir = f\"{html_files_path}/{strava_id}\"\n",
    "    return html_file_dir, html_file_name\n",
    "\n",
    "for i,r in error_df.iterrows():\n",
    "    params = json.loads(r['params'])\n",
    "    strava_id = float(params['rider_time_interval']) if 'strava_id' in params else None\n",
    "    time_interval_link = params['time_interval_link'] if 'time_interval_link' in params else None\n",
    "    url_param_dict = dict(parse_qsl(time_interval_link)) if time_interval_link else None\n",
    "    if url_param_dict:\n",
    "        html_file_dir, html_file_name = _get_interval_html_file_and_dir('link/riders_time_interval_pages',strava_id,\n",
    "                                                                                 url_param_dict)\n",
    "        is_exists = os.path.exists(f'{html_file_dir}/{html_file_name}')\n",
    "        if not is_exists:\n",
    "            print(f'{html_file_dir}/{html_file_name}')"
   ],
   "metadata": {
    "collapsed": false,
    "pycharm": {
     "name": "#%%\n"
    }
   }
  },
  {
   "cell_type": "code",
   "execution_count": null,
   "outputs": [],
   "source": [
    "\n",
    "dict_test = dict(strava_id='122345678',time_interval='123456789')\n",
    "\n",
    "pd.DataFrame([dict_test])"
   ],
   "metadata": {
    "collapsed": false,
    "pycharm": {
     "name": "#%%\n"
    }
   }
  },
  {
   "cell_type": "code",
   "execution_count": null,
   "outputs": [],
   "source": [
    "import os\n",
    "\n",
    "path = r\"C:\\Users\\User\\OneDrive - post.bgu.ac.il\\STRAVA data\\link\\\"\n",
    "os.path.exists(path)"
   ],
   "metadata": {
    "collapsed": false,
    "pycharm": {
     "name": "#%%\n"
    }
   }
  },
  {
   "cell_type": "code",
   "execution_count": null,
   "outputs": [],
   "source": [
    "riders_path = r\"C:\\Users\\User\\OneDrive - post.bgu.ac.il\\STRAVA data\\link\\riders_time_interval_pages\"\n",
    "os.path.exists(riders_path)\n"
   ],
   "metadata": {
    "collapsed": false,
    "pycharm": {
     "name": "#%%\n"
    }
   }
  },
  {
   "cell_type": "code",
   "execution_count": null,
   "outputs": [],
   "source": [
    "riders = os.listdir(riders_path)\n",
    "for rider in riders:\n",
    "    rider_dir_path = f\"{riders_path}\\\\{rider}\"\n",
    "    if not os.path.isdir(rider_dir_path):\n",
    "        print('not dir')\n",
    "    else:\n",
    "        for html in os.listdir(rider_dir_path):\n",
    "            ride_path = f\"{rider_dir_path}\\\\{html}\"\n",
    "            if os.path.isdir(ride_path):\n",
    "                print('dir')\n"
   ],
   "metadata": {
    "collapsed": false,
    "pycharm": {
     "name": "#%%\n"
    }
   }
  },
  {
   "cell_type": "code",
   "execution_count": null,
   "outputs": [],
   "source": [
    "riders_path = r\"link\\riders_time_interval_pages\"\n",
    "\n",
    "riders = os.listdir(riders_path)\n",
    "for rider in riders:\n",
    "    print('s')\n",
    "    rider_dir_path = f\"{riders_path}\\\\{rider}\"\n",
    "    if os.path.isdir(rider_dir_path):\n",
    "        files = os.listdir(rider_dir_path)\n",
    "        for file in files:\n",
    "            try:\n",
    "                split_name=file.split('.html')[0].split('_')\n",
    "                if split_name[0]=='miles':\n",
    "                    print('test')\n",
    "                    new_file=f\"{split_name[2]}_{split_name[1]}_{split_name[0]}_{split_name[3]}.html\"\n",
    "                    if os.path.exists(f'{rider_dir_path}\\\\{new_file}'):\n",
    "                        os.remove(f'{rider_dir_path}\\\\{file}')\n",
    "                    else:\n",
    "                        os.rename(f'{rider_dir_path}\\\\{file}',f'{rider_dir_path}\\\\{new_file}')\n",
    "            except:\n",
    "                pass\n",
    "\n",
    "\n",
    "    else:\n",
    "        print('not dir')"
   ],
   "metadata": {
    "collapsed": false,
    "pycharm": {
     "name": "#%%\n"
    }
   }
  },
  {
   "cell_type": "code",
   "execution_count": null,
   "outputs": [],
   "source": [
    "activity_links_file_path =r\"C:\\Users\\User\\OneDrive - post.bgu.ac.il\\STRAVA data\\link\\riders_activity_links.csv\"\n",
    "another_link_file = r\"link\\riders_activity_links.csv\""
   ],
   "metadata": {
    "collapsed": false,
    "pycharm": {
     "name": "#%%\n"
    }
   }
  },
  {
   "cell_type": "code",
   "execution_count": null,
   "outputs": [],
   "source": [
    "act_l = pd.read_csv(activity_links_file_path)\n",
    "act_l2 = pd.read_csv(another_link_file)"
   ],
   "metadata": {
    "collapsed": false,
    "pycharm": {
     "name": "#%%\n"
    }
   }
  },
  {
   "cell_type": "code",
   "execution_count": null,
   "outputs": [],
   "source": [
    "rider_l = act_l.loc[act_l['strava_id']==3407398.0]\n",
    "rider_l[rider_l['activity_id']==104151271]"
   ],
   "metadata": {
    "collapsed": false,
    "pycharm": {
     "name": "#%%\n"
    }
   }
  },
  {
   "cell_type": "code",
   "execution_count": null,
   "outputs": [],
   "source": [
    "\n",
    "rider_l2 = act_l2.loc[act_l2['strava_id']==2021447.0]"
   ],
   "metadata": {
    "collapsed": false,
    "pycharm": {
     "name": "#%%\n"
    }
   }
  },
  {
   "cell_type": "code",
   "execution_count": null,
   "outputs": [],
   "source": [
    "rider_l2[rider_l2.duplicated()]\n"
   ],
   "metadata": {
    "collapsed": false,
    "pycharm": {
     "name": "#%%\n"
    }
   }
  },
  {
   "cell_type": "code",
   "execution_count": null,
   "outputs": [],
   "source": [
    "\n",
    "act_l.drop_duplicates()"
   ],
   "metadata": {
    "collapsed": false,
    "pycharm": {
     "name": "#%%\n"
    }
   }
  },
  {
   "cell_type": "code",
   "execution_count": null,
   "outputs": [],
   "source": [
    "act_l[act_l.duplicated()]"
   ],
   "metadata": {
    "collapsed": false,
    "pycharm": {
     "name": "#%%\n"
    }
   }
  },
  {
   "cell_type": "code",
   "execution_count": null,
   "outputs": [],
   "source": [
    "len(act_l)"
   ],
   "metadata": {
    "collapsed": false,
    "pycharm": {
     "name": "#%%\n"
    }
   }
  },
  {
   "cell_type": "code",
   "execution_count": null,
   "outputs": [],
   "source": [
    "\n",
    "act_l = pd.read_csv(activity_links_file_path)"
   ],
   "metadata": {
    "collapsed": false,
    "pycharm": {
     "name": "#%%\n"
    }
   }
  },
  {
   "cell_type": "code",
   "execution_count": null,
   "outputs": [],
   "source": [
    "act_l['strava_id'].unique()"
   ],
   "metadata": {
    "collapsed": false,
    "pycharm": {
     "name": "#%%\n"
    }
   }
  },
  {
   "cell_type": "code",
   "execution_count": null,
   "outputs": [],
   "source": [
    "act_l =act_l.sort_values('strava_id').reset_index(drop=True)"
   ],
   "metadata": {
    "collapsed": false,
    "pycharm": {
     "name": "#%%\n"
    }
   }
  },
  {
   "cell_type": "code",
   "execution_count": null,
   "outputs": [],
   "source": [
    "act_l[act_l['strava_id']==134614.0]"
   ],
   "metadata": {
    "collapsed": false,
    "pycharm": {
     "name": "#%%\n"
    }
   }
  },
  {
   "cell_type": "code",
   "execution_count": null,
   "outputs": [],
   "source": [
    "# act_l.to_csv(activity_links_file_path,index=False,header=True)"
   ],
   "metadata": {
    "collapsed": false,
    "pycharm": {
     "name": "#%%\n"
    }
   }
  },
  {
   "cell_type": "code",
   "execution_count": null,
   "outputs": [],
   "source": [
    "act_l = pd.read_csv(activity_links_file_path)\n",
    "act_l2 = pd.read_csv(another_link_file)\n",
    "rider1 = act_l[act_l['strava_id']==1005431.0]\n",
    "rider2 = act_l2[act_l2['strava_id']==1005431.0]"
   ],
   "metadata": {
    "collapsed": false,
    "pycharm": {
     "name": "#%%\n"
    }
   }
  },
  {
   "cell_type": "code",
   "execution_count": null,
   "outputs": [],
   "source": [
    "len(rider1)"
   ],
   "metadata": {
    "collapsed": false,
    "pycharm": {
     "name": "#%%\n"
    }
   }
  },
  {
   "cell_type": "code",
   "execution_count": null,
   "outputs": [],
   "source": [
    "len(rider2)\n"
   ],
   "metadata": {
    "collapsed": false,
    "pycharm": {
     "name": "#%%\n"
    }
   }
  },
  {
   "cell_type": "code",
   "execution_count": null,
   "outputs": [],
   "source": [
    "rider1[~(rider1['activity_id'].isin(rider2['activity_id'].values))]"
   ],
   "metadata": {
    "collapsed": false,
    "pycharm": {
     "name": "#%%\n"
    }
   }
  },
  {
   "cell_type": "code",
   "execution_count": null,
   "outputs": [],
   "source": [
    "\n",
    "set(rider1['activity_id'])-set(rider2['activity_id'])"
   ],
   "metadata": {
    "collapsed": false,
    "pycharm": {
     "name": "#%%\n"
    }
   }
  },
  {
   "cell_type": "code",
   "execution_count": null,
   "outputs": [],
   "source": [
    "act_l = pd.read_csv(activity_links_file_path)\n",
    "\n",
    "act_l['strava_id'].unique()"
   ],
   "metadata": {
    "collapsed": false,
    "pycharm": {
     "name": "#%%\n"
    }
   }
  },
  {
   "cell_type": "code",
   "execution_count": null,
   "outputs": [],
   "source": [
    "job_tuples=[]\n",
    "for n,g in act_l.groupby('strava_id'):\n",
    "    job_tuples.append((g.index[0],g.index[-1]+1))\n",
    "\n",
    "job_tuples"
   ],
   "metadata": {
    "collapsed": false,
    "pycharm": {
     "name": "#%%\n"
    }
   }
  },
  {
   "cell_type": "code",
   "execution_count": null,
   "outputs": [],
   "source": [
    "with open('data/jobs.txt','w+') as f:\n",
    "    for job in job_tuples:\n",
    "        li = job[0]\n",
    "        hi= job[1]\n",
    "        f.write(f\"python main.py -c download_activity_pages -if link/riders_activity_links.csv -of link/riders_activity_pages -li {li} -hi {hi}\\n\")\n"
   ],
   "metadata": {
    "collapsed": false,
    "pycharm": {
     "name": "#%%\n"
    }
   }
  },
  {
   "cell_type": "code",
   "execution_count": null,
   "outputs": [],
   "source": [
    "\n",
    "activity_links_file_path =r\"C:\\Users\\User\\OneDrive - post.bgu.ac.il\\STRAVA data\\link\\riders_activity_links.csv\"\n",
    "import pandas as pd\n",
    "\n",
    "act_l = pd.read_csv(activity_links_file_path)\n"
   ],
   "metadata": {
    "collapsed": false,
    "pycharm": {
     "name": "#%%\n"
    }
   }
  },
  {
   "cell_type": "code",
   "execution_count": null,
   "outputs": [],
   "source": [
    "act_l[act_l.duplicated()]"
   ],
   "metadata": {
    "collapsed": false,
    "pycharm": {
     "name": "#%%\n"
    }
   }
  },
  {
   "cell_type": "code",
   "execution_count": null,
   "outputs": [],
   "source": [
    "before_act_l = act_l[:77571]\n",
    "after_act_l = act_l[77571:]\n",
    "after_act_l"
   ],
   "metadata": {
    "collapsed": false,
    "pycharm": {
     "name": "#%%\n"
    }
   }
  },
  {
   "cell_type": "code",
   "execution_count": null,
   "outputs": [],
   "source": [
    "before_act_l"
   ],
   "metadata": {
    "collapsed": false,
    "pycharm": {
     "name": "#%%\n"
    }
   }
  },
  {
   "cell_type": "code",
   "execution_count": null,
   "outputs": [],
   "source": [
    "job_dict= {}\n",
    "for n,g in before_act_l.groupby('strava_id'):\n",
    "    job_dict[n]=(g.index[0],g.index[-1]+1)\n",
    "\n",
    "job_dict"
   ],
   "metadata": {
    "collapsed": false,
    "pycharm": {
     "name": "#%%\n"
    }
   }
  },
  {
   "cell_type": "code",
   "execution_count": null,
   "outputs": [],
   "source": [
    "job_dict[616061.0]"
   ],
   "metadata": {
    "collapsed": false,
    "pycharm": {
     "name": "#%%\n"
    }
   }
  },
  {
   "cell_type": "code",
   "execution_count": null,
   "outputs": [],
   "source": [
    "#TODO:: download activities again for cyclists I request to follow - user kvspek@gmail.com\n",
    "for n,g in act_l.groupby('strava_id'):\n",
    "    print(n, len(g))"
   ],
   "metadata": {
    "collapsed": false,
    "pycharm": {
     "name": "#%%\n"
    }
   }
  },
  {
   "cell_type": "code",
   "execution_count": null,
   "outputs": [],
   "source": [
    "[593390.0,5943644.0,6094073.0,616061.0,644524.0,6913455.0,7019829.0,7491815.0,759393.0,812782.0,8424173.0,9503563.0,9545283.0]"
   ],
   "metadata": {
    "collapsed": false,
    "pycharm": {
     "name": "#%%\n"
    }
   }
  },
  {
   "cell_type": "code",
   "execution_count": null,
   "outputs": [],
   "source": [
    "for n,g in after_act_l.groupby('strava_id'):\n",
    "    print(n, len(g))"
   ],
   "metadata": {
    "collapsed": false,
    "pycharm": {
     "name": "#%%\n"
    }
   }
  },
  {
   "cell_type": "code",
   "execution_count": null,
   "outputs": [],
   "source": [
    "job_dict[593390.0]"
   ],
   "metadata": {
    "collapsed": false,
    "pycharm": {
     "name": "#%%\n"
    }
   }
  },
  {
   "cell_type": "code",
   "execution_count": null,
   "outputs": [],
   "source": [
    "\n",
    "before_act_l[before_act_l['strava_id']==593390.0]"
   ],
   "metadata": {
    "collapsed": false,
    "pycharm": {
     "name": "#%%\n"
    }
   }
  },
  {
   "cell_type": "code",
   "execution_count": null,
   "outputs": [],
   "source": [
    "\n",
    "before_act_l.tail()"
   ],
   "metadata": {
    "collapsed": false,
    "pycharm": {
     "name": "#%%\n"
    }
   }
  },
  {
   "cell_type": "code",
   "execution_count": null,
   "outputs": [],
   "source": [
    "\n",
    "with open('data/jobs.txt','a+') as f:\n",
    "    for n,g in after_act_l.groupby('strava_id'):\n",
    "        r = [n]\n",
    "        f.write(f\"python main.py -c download_activity_pages -if link/riders_activity_links.csv -of link/riders_activity_pages -r {r}\\n\")\n"
   ],
   "metadata": {
    "collapsed": false,
    "pycharm": {
     "name": "#%%\n"
    }
   }
  },
  {
   "cell_type": "code",
   "execution_count": null,
   "outputs": [],
   "source": [],
   "metadata": {
    "collapsed": false,
    "pycharm": {
     "name": "#%%\n"
    }
   }
  },
  {
   "cell_type": "code",
   "execution_count": null,
   "outputs": [],
   "source": [],
   "metadata": {
    "collapsed": false,
    "pycharm": {
     "name": "#%%\n"
    }
   }
  },
  {
   "cell_type": "code",
   "execution_count": null,
   "outputs": [],
   "source": [],
   "metadata": {
    "collapsed": false,
    "pycharm": {
     "name": "#%%\n"
    }
   }
  },
  {
   "cell_type": "code",
   "execution_count": null,
   "outputs": [],
   "source": [],
   "metadata": {
    "collapsed": false,
    "pycharm": {
     "name": "#%%\n"
    }
   }
  },
  {
   "cell_type": "code",
   "execution_count": null,
   "outputs": [],
   "source": [
    "\n",
    "import pandas as pd\n",
    "df = pd.read_csv('link/activity_analysis_links.csv')\n",
    "idxes=[df[df['option_type']=='/heartrate'].index[0],\\\n",
    "df[df['option_type']=='/zone-distribution'].index[0],\\\n",
    "df[df['option_type']=='/est-power-curve'].index[0],\\\n",
    "df[df['option_type']=='/analysis'].index[0],\\\n",
    "df[df['option_type']=='/power-curve'].index[0],\\\n",
    "df[df['option_type']=='/power-distribution'].index[0],\\\n",
    "df[df['option_type']=='/est-power-distribution'].index[0]]\n",
    "df.loc[idxes].to_csv('activity_analysis_links_test.csv',index=False,header=True)"
   ],
   "metadata": {
    "collapsed": false,
    "pycharm": {
     "name": "#%%\n"
    }
   }
  },
  {
   "cell_type": "code",
   "execution_count": null,
   "outputs": [],
   "source": [
    "df['option_type'].unique()"
   ],
   "metadata": {
    "collapsed": false,
    "pycharm": {
     "name": "#%%\n"
    }
   }
  },
  {
   "cell_type": "code",
   "execution_count": null,
   "outputs": [],
   "source": [
    "df['activity_type'].unique()"
   ],
   "metadata": {
    "collapsed": false,
    "pycharm": {
     "name": "#%%\n"
    }
   }
  },
  {
   "cell_type": "code",
   "execution_count": null,
   "outputs": [],
   "source": [
    "\n",
    "import pandas as pd\n",
    "df = pd.read_csv('link/activity_link_types.csv')\n",
    "df"
   ],
   "metadata": {
    "collapsed": false,
    "pycharm": {
     "name": "#%%\n"
    }
   }
  },
  {
   "cell_type": "code",
   "execution_count": null,
   "outputs": [],
   "source": [
    "df.drop_duplicates()"
   ],
   "metadata": {
    "collapsed": false,
    "pycharm": {
     "name": "#%%\n"
    }
   }
  },
  {
   "cell_type": "code",
   "execution_count": null,
   "outputs": [],
   "source": [
    "activity_types = df['activity_type'].unique()\n",
    "activity_types"
   ],
   "metadata": {
    "collapsed": false,
    "pycharm": {
     "name": "#%%\n"
    }
   }
  },
  {
   "cell_type": "code",
   "execution_count": null,
   "outputs": [],
   "source": [
    "ACTIVITY_TYPES_TO_IGNORE = ['Nordic Ski', 'Run', 'Workout', 'Roller Ski', 'Weight Training', 'Ice Skate', 'Crossfit', 'Walk', 'Winter Sport', 'Treadmill workout', 'Hike']\n",
    "set(activity_types) - set(ACTIVITY_TYPES_TO_IGNORE)"
   ],
   "metadata": {
    "collapsed": false,
    "pycharm": {
     "name": "#%%\n"
    }
   }
  },
  {
   "cell_type": "code",
   "execution_count": null,
   "outputs": [],
   "source": [
    "\n",
    "df[df['activity_type']=='Race']"
   ],
   "metadata": {
    "collapsed": false,
    "pycharm": {
     "name": "#%%\n"
    }
   }
  },
  {
   "cell_type": "code",
   "execution_count": null,
   "outputs": [],
   "source": [
    "import pandas as pd\n",
    "races_links_df = pd.read_csv('link/races_activity_links.csv')\n",
    "races_links_df"
   ],
   "metadata": {
    "collapsed": false,
    "pycharm": {
     "name": "#%%\n"
    }
   }
  },
  {
   "cell_type": "code",
   "execution_count": null,
   "outputs": [],
   "source": [
    "print(len(races_links_df['activity_id'].unique()))\n",
    "print(len(df['activity_id'].unique()))"
   ],
   "metadata": {
    "collapsed": false,
    "pycharm": {
     "name": "#%%\n"
    }
   }
  },
  {
   "cell_type": "code",
   "execution_count": null,
   "outputs": [],
   "source": [
    "races_links_df[races_links_df['activity_type']=='Race']"
   ],
   "metadata": {
    "collapsed": false,
    "pycharm": {
     "name": "#%%\n"
    }
   }
  },
  {
   "cell_type": "code",
   "execution_count": null,
   "outputs": [],
   "source": [
    "additional_activities = set(df['activity_id']) - set(races_links_df['activity_id'])\n",
    "additional_activities"
   ],
   "metadata": {
    "collapsed": false,
    "pycharm": {
     "name": "#%%\n"
    }
   }
  },
  {
   "cell_type": "code",
   "execution_count": null,
   "outputs": [],
   "source": [
    "from utils import *"
   ],
   "metadata": {
    "collapsed": false,
    "pycharm": {
     "name": "#%%\n"
    }
   }
  },
  {
   "cell_type": "code",
   "execution_count": null,
   "outputs": [],
   "source": [
    "for i,r in df[df['activity_id'].isin(additional_activities)].iterrows():\n",
    "    row=dict(rider_id=r['rider_id'],activity_link=r['activity_link'],\n",
    "             activity_id=r['activity_id'],activity_type=r['activity_type'])\n",
    "    append_row_to_csv('link/races_activity_links.csv', row)"
   ],
   "metadata": {
    "collapsed": false,
    "pycharm": {
     "name": "#%%\n"
    }
   }
  },
  {
   "cell_type": "code",
   "execution_count": null,
   "outputs": [],
   "source": [
    "import pandas as pd\n",
    "races_links_df = pd.read_csv('link/races_activity_links.csv')\n",
    "riders_links_df = pd.read_csv('link/riders_activity_links.csv')\n",
    "riders_links_ISN_df = pd.read_csv('link/riders_activity_links_ISN.csv')\n",
    "riders_links_ISN_df"
   ],
   "metadata": {
    "collapsed": false,
    "pycharm": {
     "name": "#%%\n"
    }
   }
  },
  {
   "cell_type": "code",
   "execution_count": null,
   "outputs": [],
   "source": [
    "len(set(races_links_df['activity_id']))"
   ],
   "metadata": {
    "collapsed": false,
    "pycharm": {
     "name": "#%%\n"
    }
   }
  },
  {
   "cell_type": "code",
   "execution_count": null,
   "outputs": [],
   "source": [
    "# other_teams_riders = set(riders_links_df['rider_id']).intersection(set(riders_links_ISN_df['rider_id']))\n",
    "other_teams_riders_links_df = riders_links_df[~riders_links_df['rider_id'].isin(set(riders_links_ISN_df['rider_id']))]\n",
    "other_teams_riders_links_df\n",
    "# len(set(riders_links_ISN_df['rider_id']))"
   ],
   "metadata": {
    "collapsed": false,
    "pycharm": {
     "name": "#%%\n"
    }
   }
  },
  {
   "cell_type": "code",
   "execution_count": null,
   "outputs": [],
   "source": [
    "len(other_teams_riders_links_df['activity_id'].unique())"
   ],
   "metadata": {
    "collapsed": false,
    "pycharm": {
     "name": "#%%\n"
    }
   }
  },
  {
   "cell_type": "code",
   "execution_count": null,
   "outputs": [],
   "source": [
    "riders_links_df[riders_links_df['rider_id'].isin(set(riders_links_ISN_df['rider_id']))]"
   ],
   "metadata": {
    "collapsed": false,
    "pycharm": {
     "name": "#%%\n"
    }
   }
  },
  {
   "cell_type": "code",
   "execution_count": null,
   "outputs": [],
   "source": [
    "other_teams_riders_links_df.loc[other_teams_riders_links_df.groupby('rider_id')['activity_id'].filter(lambda x: len(x)<2).index]"
   ],
   "metadata": {
    "collapsed": false,
    "pycharm": {
     "name": "#%%\n"
    }
   }
  },
  {
   "cell_type": "code",
   "execution_count": null,
   "outputs": [],
   "source": [
    "with open('data/out.txt') as f:\n",
    "    rider_strings = f.readlines()\n",
    "rider_strings[:10]"
   ],
   "metadata": {
    "collapsed": false,
    "pycharm": {
     "name": "#%%\n"
    }
   }
  },
  {
   "cell_type": "code",
   "execution_count": null,
   "outputs": [],
   "source": [
    "riders = [float(e.replace('\\n','')) for e in rider_strings[:-1]]\n",
    "riders[:10]"
   ],
   "metadata": {
    "collapsed": false,
    "pycharm": {
     "name": "#%%\n"
    }
   }
  },
  {
   "cell_type": "code",
   "execution_count": null,
   "outputs": [],
   "source": [
    "rider_strings[-1]\n",
    "\n"
   ],
   "metadata": {
    "collapsed": false,
    "pycharm": {
     "name": "#%%\n"
    }
   }
  },
  {
   "cell_type": "code",
   "execution_count": null,
   "outputs": [],
   "source": [
    "import pandas as pd\n",
    "ISN_urls_df = pd.read_csv('data/ISN_merged_strava_urls.csv')\n",
    "ISN_urls_df.head()"
   ],
   "metadata": {
    "collapsed": false,
    "pycharm": {
     "name": "#%%\n"
    }
   }
  },
  {
   "cell_type": "code",
   "execution_count": null,
   "outputs": [],
   "source": [
    "ISN_urls_df['strava_id'].dtype"
   ],
   "metadata": {
    "collapsed": false,
    "pycharm": {
     "name": "#%%\n"
    }
   }
  },
  {
   "cell_type": "code",
   "execution_count": null,
   "outputs": [],
   "source": [],
   "metadata": {
    "collapsed": false,
    "pycharm": {
     "name": "#%%\n"
    }
   }
  },
  {
   "cell_type": "code",
   "execution_count": null,
   "outputs": [],
   "source": [
    "with open('non ISN riders.txt','w+') as f:\n",
    "    f.writelines([f\"{e}\\n\" for e in riders if e not in ISN_urls_df['strava_id'].values])"
   ],
   "metadata": {
    "collapsed": false,
    "pycharm": {
     "name": "#%%\n"
    }
   }
  },
  {
   "cell_type": "code",
   "execution_count": null,
   "outputs": [],
   "source": [
    "import os\n",
    "all_comp_files = os.listdir('data/riders tracking')\n",
    "rider_dict = {}\n",
    "comp_dict={}\n",
    "lst=[]\n",
    "for f in all_comp_files:\n",
    "    path = f'data/riders tracking/{f}'\n",
    "    with open(path) as file:\n",
    "        riders_in_files = [e.replace('\\n','') for e in file.readlines()]\n",
    "        comp_dict[f] = riders_in_files\n",
    "        for r in riders_in_files:\n",
    "            rider_dict[r] = f\n",
    "        lst.extend(riders_in_files)"
   ],
   "metadata": {
    "collapsed": false,
    "pycharm": {
     "name": "#%%\n"
    }
   }
  },
  {
   "cell_type": "code",
   "execution_count": null,
   "outputs": [],
   "source": [
    "lst\n"
   ],
   "metadata": {
    "collapsed": false,
    "pycharm": {
     "name": "#%%\n"
    }
   }
  },
  {
   "cell_type": "code",
   "execution_count": null,
   "outputs": [],
   "source": [
    "import pandas as pd\n",
    "\n",
    "strava_urls = pd.read_csv('data/all_cyclists_strava_urls-with private info.csv')"
   ],
   "metadata": {
    "collapsed": false,
    "pycharm": {
     "name": "#%%\n"
    }
   }
  },
  {
   "cell_type": "code",
   "execution_count": null,
   "outputs": [],
   "source": [
    "strava_cyclists = set(strava_urls[(strava_urls['private_account']==0)]['strava_id'].apply(str).values)\n",
    "strava_cyclists"
   ],
   "metadata": {
    "collapsed": false,
    "pycharm": {
     "name": "#%%\n"
    }
   }
  },
  {
   "cell_type": "code",
   "execution_count": null,
   "outputs": [],
   "source": [
    "set(lst).difference(strava_cyclists)"
   ],
   "metadata": {
    "collapsed": false,
    "pycharm": {
     "name": "#%%\n"
    }
   }
  },
  {
   "cell_type": "code",
   "execution_count": null,
   "outputs": [],
   "source": [
    "[print(l) for l in set(strava_cyclists).difference(lst)]"
   ],
   "metadata": {
    "collapsed": false,
    "pycharm": {
     "name": "#%%\n"
    }
   }
  },
  {
   "cell_type": "code",
   "execution_count": null,
   "outputs": [],
   "source": [
    "'1005431.0' in lst"
   ],
   "metadata": {
    "collapsed": false,
    "pycharm": {
     "name": "#%%\n"
    }
   }
  },
  {
   "cell_type": "code",
   "execution_count": null,
   "outputs": [],
   "source": [
    "strava_cyclists.difference(lst)"
   ],
   "metadata": {
    "collapsed": false,
    "pycharm": {
     "name": "#%%\n"
    }
   }
  },
  {
   "cell_type": "code",
   "execution_count": null,
   "outputs": [],
   "source": [
    "private_cyclists = set(strava_urls[(strava_urls['private_account']==1)]['strava_id'].apply(str).values)\n",
    "set.intersection(private_cyclists,lst)"
   ],
   "metadata": {
    "collapsed": false,
    "pycharm": {
     "name": "#%%\n"
    }
   }
  },
  {
   "cell_type": "code",
   "execution_count": null,
   "outputs": [],
   "source": [
    "lst_new = set(lst)- {'30821570.0'}\n",
    "set.intersection(private_cyclists,lst_new)"
   ],
   "metadata": {
    "collapsed": false,
    "pycharm": {
     "name": "#%%\n"
    }
   }
  },
  {
   "cell_type": "code",
   "execution_count": null,
   "outputs": [],
   "source": [
    "with open('data/all_riders.txt','a') as f:\n",
    "    for c in lst_new:\n",
    "        f.write(f\"{c}\\n\")\n",
    "\n"
   ],
   "metadata": {
    "collapsed": false,
    "pycharm": {
     "name": "#%%\n"
    }
   }
  },
  {
   "cell_type": "code",
   "execution_count": null,
   "outputs": [],
   "source": [],
   "metadata": {
    "collapsed": false,
    "pycharm": {
     "name": "#%%\n"
    }
   }
  },
  {
   "cell_type": "code",
   "execution_count": null,
   "outputs": [],
   "source": [
    "comp_dict={}\n",
    "mine_files = os.listdir('link/riders_time_interval_pages')\n",
    "for f in mine_files:\n",
    "    if os.path.isdir(f'link/riders_time_interval_pages/{f}'):\n",
    "        rider_files = os.listdir(f'link/riders_time_interval_pages/{f}')\n",
    "        if len(rider_files)==1:\n",
    "            os.r"
   ],
   "metadata": {
    "collapsed": false,
    "pycharm": {
     "name": "#%%\n"
    }
   }
  },
  {
   "cell_type": "code",
   "execution_count": null,
   "outputs": [],
   "source": [
    "import pandas as pd\n",
    "\n",
    "strava_urls = pd.read_csv('data/all_cyclists_strava_urls.csv')\n",
    "strava_urls['private_account'] = 0\n",
    "strava_urls['approved'] = 0"
   ],
   "metadata": {
    "collapsed": false,
    "pycharm": {
     "name": "#%%\n"
    }
   }
  },
  {
   "cell_type": "code",
   "execution_count": null,
   "outputs": [],
   "source": [
    "with open('log/cyclist_private_accounts.txt') as f:\n",
    "    private_accounts = f.readlines()\n",
    "private_accounts = [float(e.strip().split('/')[-1]) for e in private_accounts]\n",
    "# private_accounts[:5]\n",
    "print(len(private_accounts))"
   ],
   "metadata": {
    "collapsed": false,
    "pycharm": {
     "name": "#%%\n"
    }
   }
  },
  {
   "cell_type": "code",
   "execution_count": null,
   "outputs": [],
   "source": [
    "import collections\n",
    "print([item for item, count in collections.Counter(private_accounts).items() if count > 1])"
   ],
   "metadata": {
    "collapsed": false,
    "pycharm": {
     "name": "#%%\n"
    }
   }
  },
  {
   "cell_type": "code",
   "execution_count": null,
   "outputs": [],
   "source": [
    "print(len(set(private_accounts)))"
   ],
   "metadata": {
    "collapsed": false,
    "pycharm": {
     "name": "#%%\n"
    }
   }
  },
  {
   "cell_type": "code",
   "execution_count": null,
   "outputs": [],
   "source": [
    "strava_urls"
   ],
   "metadata": {
    "collapsed": false,
    "pycharm": {
     "name": "#%%\n"
    }
   }
  },
  {
   "cell_type": "code",
   "execution_count": null,
   "outputs": [],
   "source": [
    "dup_cyclists = strava_urls[strava_urls['strava_id'].duplicated()]['strava_id'].values\n",
    "strava_urls[strava_urls['strava_id'].isin(dup_cyclists)]"
   ],
   "metadata": {
    "collapsed": false,
    "pycharm": {
     "name": "#%%\n"
    }
   }
  },
  {
   "cell_type": "code",
   "execution_count": null,
   "outputs": [],
   "source": [
    "for i,r in strava_urls.iterrows():\n",
    "    if r['strava_id'] in private_accounts:\n",
    "        print(r['strava_id'])\n",
    "        strava_urls.at[i,'private_account']=1\n"
   ],
   "metadata": {
    "collapsed": false,
    "pycharm": {
     "name": "#%%\n"
    }
   }
  },
  {
   "cell_type": "code",
   "execution_count": null,
   "outputs": [],
   "source": [
    "len(strava_urls[strava_urls['private_account']==1])\n"
   ],
   "metadata": {
    "collapsed": false,
    "pycharm": {
     "name": "#%%\n"
    }
   }
  },
  {
   "cell_type": "code",
   "execution_count": null,
   "outputs": [],
   "source": [
    "set(private_accounts) - set(list(strava_urls[strava_urls['private_account']==1]['strava_id']))"
   ],
   "metadata": {
    "collapsed": false,
    "pycharm": {
     "name": "#%%\n"
    }
   }
  },
  {
   "cell_type": "code",
   "execution_count": null,
   "outputs": [],
   "source": [
    "len(strava_urls['strava_id'].unique())"
   ],
   "metadata": {
    "collapsed": false,
    "pycharm": {
     "name": "#%%\n"
    }
   }
  },
  {
   "cell_type": "code",
   "execution_count": null,
   "outputs": [],
   "source": [
    "# strava_urls.to_csv('data/all_cyclists_strava_urls.csv',index=False,header=True)"
   ],
   "metadata": {
    "collapsed": false,
    "pycharm": {
     "name": "#%%\n"
    }
   }
  },
  {
   "cell_type": "code",
   "execution_count": null,
   "outputs": [],
   "source": [
    "import pandas as pd\n",
    "import os\n",
    "output_path = \"M:/Maor/STRAVA/Strava-Extract-Actvity-Data\"\n",
    "for file in os.listdir(f\"{output_path}/link\"):\n",
    "    csv_content = pd.read_csv(f'{output_path}/link/{file}')\n",
    "    csv_content.drop_duplicates().to_csv(f'{output_path}/link/{file}',index=False)"
   ],
   "metadata": {
    "collapsed": false,
    "pycharm": {
     "name": "#%%\n"
    }
   }
  },
  {
   "cell_type": "code",
   "execution_count": 27,
   "outputs": [
    {
     "ename": "SyntaxError",
     "evalue": "unexpected EOF while parsing (Temp/ipykernel_16876/3126393897.py, line 7)",
     "output_type": "error",
     "traceback": [
      "\u001B[1;36m  File \u001B[1;32m\"C:\\Users\\User\\AppData\\Local\\Temp/ipykernel_16876/3126393897.py\"\u001B[1;36m, line \u001B[1;32m7\u001B[0m\n\u001B[1;33m    \u001B[0m\n\u001B[1;37m    ^\u001B[0m\n\u001B[1;31mSyntaxError\u001B[0m\u001B[1;31m:\u001B[0m unexpected EOF while parsing\n"
     ]
    }
   ],
   "source": [
    "\n",
    "for i in range(1,32):\n",
    "    if not os.path.exists(f'data/riders tracking/105-{i}.txt'):\n",
    "        open(f'data/riders tracking/105-{i}.txt','w+')\n",
    "for i in range(2,22):\n",
    "    if not os.path.exists(f'data/riders tracking/111-{i}.txt'):\n",
    "        open(f'data/riders tracking/111-{i}.txt','w+')"
   ],
   "metadata": {
    "collapsed": false,
    "pycharm": {
     "name": "#%%\n"
    }
   }
  },
  {
   "cell_type": "code",
   "execution_count": 38,
   "outputs": [],
   "source": [
    "\n",
    "# all_riders_list = []\n",
    "# with open('data/all_riders.txt') as file:\n",
    "#     riders_in_file = [e.replace('\\n','') for e in file.readlines()]\n",
    "#     all_riders_list.extend(riders_in_file)\n",
    "# all_riders = set(all_riders_list)\n"
   ],
   "metadata": {
    "collapsed": false,
    "pycharm": {
     "name": "#%%\n"
    }
   }
  },
  {
   "cell_type": "code",
   "execution_count": 89,
   "outputs": [],
   "source": [
    "# riders_to_remove = all_riders - set([str(c) for c in strava_urls_to_download['strava_id'].values])\n",
    "# new_riders_to_download =  set([str(c) for c in strava_urls_to_download['strava_id'].values]) - all_riders\n",
    "# len(new_riders_to_download)\n"
   ],
   "metadata": {
    "collapsed": false,
    "pycharm": {
     "name": "#%%\n"
    }
   }
  },
  {
   "cell_type": "code",
   "execution_count": null,
   "outputs": [],
   "source": [
    "# import os\n",
    "# tracking_path = 'data/riders tracking'\n",
    "# for r in os.listdir(tracking_path):\n",
    "#     changed = False\n",
    "#     with open(f'./{tracking_path}/{r}') as f:\n",
    "#         file_lines = f.read()\n",
    "#     for r_to_rm in riders_to_remove:\n",
    "#         if r_to_rm in file_lines:\n",
    "#             file_lines = file_lines.replace(f'{r_to_rm}\\n','')\n",
    "#             print(r_to_rm)\n",
    "#             changed=True\n",
    "#     if changed:\n",
    "#         with open(f'{tracking_path}/{r}','w') as f:\n",
    "#             f.write(file_lines)\n"
   ],
   "metadata": {
    "collapsed": false,
    "pycharm": {
     "name": "#%%\n"
    }
   }
  },
  {
   "cell_type": "code",
   "execution_count": null,
   "outputs": [],
   "source": [
    "# changed = False\n",
    "# with open('data/all_riders.txt','r') as file:\n",
    "#     # riders_in_file = [e.replace('\\n','') for e in file.readlines()]\n",
    "#     file_lines = file.read()\n",
    "# for r_to_rm in riders_to_remove:\n",
    "#     if r_to_rm in file_lines:\n",
    "#         file_lines = file_lines.replace(f'{r_to_rm}\\n','')\n",
    "#         print(r_to_rm)\n",
    "#         changed=True\n",
    "# if changed:\n",
    "#     with open('data/all_riders.txt','w') as f:\n",
    "#             f.write(file_lines)"
   ],
   "metadata": {
    "collapsed": false,
    "pycharm": {
     "name": "#%%\n"
    }
   }
  },
  {
   "cell_type": "code",
   "execution_count": null,
   "outputs": [],
   "source": [
    "# all_riders_list = []\n",
    "# with open('data/all_riders.txt') as file:\n",
    "#     riders_in_file = [e.replace('\\n','') for e in file.readlines()]\n",
    "#     all_riders_list.extend(riders_in_file)\n",
    "# all_riders = set(all_riders_list)\n",
    "# riders_to_remove = all_riders - set([str(c) for c in strava_urls_to_download['strava_id'].values])\n",
    "# len(riders_to_remove)"
   ],
   "metadata": {
    "collapsed": false,
    "pycharm": {
     "name": "#%%\n"
    }
   }
  },
  {
   "cell_type": "code",
   "execution_count": null,
   "outputs": [],
   "source": [
    "import pandas as pd\n",
    "\n",
    "strava_urls = pd.read_csv('data/all_cyclists_strava_urls.csv')\n",
    "strava_urls['private_account'] = 0\n",
    "strava_urls['approved'] = 0"
   ],
   "metadata": {
    "collapsed": false,
    "pycharm": {
     "name": "#%%\n"
    }
   }
  },
  {
   "cell_type": "code",
   "execution_count": null,
   "outputs": [],
   "source": [
    "with open('log/cyclist_private_accounts.txt') as f:\n",
    "    private_accounts = f.readlines()\n",
    "private_accounts = [float(e.strip().split('/')[-1]) for e in private_accounts]\n",
    "# private_accounts[:5]\n",
    "print(len(private_accounts))"
   ],
   "metadata": {
    "collapsed": false,
    "pycharm": {
     "name": "#%%\n"
    }
   }
  },
  {
   "cell_type": "code",
   "execution_count": null,
   "outputs": [],
   "source": [
    "import collections\n",
    "print([item for item, count in collections.Counter(private_accounts).items() if count > 1])"
   ],
   "metadata": {
    "collapsed": false,
    "pycharm": {
     "name": "#%%\n"
    }
   }
  },
  {
   "cell_type": "code",
   "execution_count": null,
   "outputs": [],
   "source": [
    "print(len(set(private_accounts)))\n"
   ],
   "metadata": {
    "collapsed": false,
    "pycharm": {
     "name": "#%%\n"
    }
   }
  },
  {
   "cell_type": "code",
   "execution_count": null,
   "outputs": [],
   "source": [
    "dup_cyclists = strava_urls[strava_urls['strava_id'].duplicated()]['strava_id'].values\n",
    "strava_urls[strava_urls['strava_id'].isin(dup_cyclists)]"
   ],
   "metadata": {
    "collapsed": false,
    "pycharm": {
     "name": "#%%\n"
    }
   }
  },
  {
   "cell_type": "code",
   "execution_count": null,
   "outputs": [],
   "source": [
    "for i,r in strava_urls.iterrows():\n",
    "    if r['strava_id'] in private_accounts:\n",
    "        print(r['strava_id'])\n",
    "        strava_urls.at[i,'private_account']=1\n"
   ],
   "metadata": {
    "collapsed": false,
    "pycharm": {
     "name": "#%%\n"
    }
   }
  },
  {
   "cell_type": "code",
   "execution_count": null,
   "outputs": [],
   "source": [
    "len(strava_urls[strava_urls['private_account']==1])\n"
   ],
   "metadata": {
    "collapsed": false,
    "pycharm": {
     "name": "#%%\n"
    }
   }
  },
  {
   "cell_type": "code",
   "execution_count": null,
   "outputs": [],
   "source": [
    "set(private_accounts) - set(list(strava_urls[strava_urls['private_account']==1]['strava_id']))"
   ],
   "metadata": {
    "collapsed": false,
    "pycharm": {
     "name": "#%%\n"
    }
   }
  },
  {
   "cell_type": "code",
   "execution_count": null,
   "outputs": [],
   "source": [
    "len(strava_urls['strava_id'].unique())"
   ],
   "metadata": {
    "collapsed": false,
    "pycharm": {
     "name": "#%%\n"
    }
   }
  },
  {
   "cell_type": "code",
   "execution_count": null,
   "outputs": [],
   "source": [
    "# strava_urls.to_csv('data/all_cyclists_strava_urls.csv',index=False,header=True)"
   ],
   "metadata": {
    "collapsed": false,
    "pycharm": {
     "name": "#%%\n"
    }
   }
  },
  {
   "cell_type": "code",
   "execution_count": 1,
   "outputs": [
    {
     "ename": "NameError",
     "evalue": "name 'pd' is not defined",
     "output_type": "error",
     "traceback": [
      "\u001B[1;31m---------------------------------------------------------------------------\u001B[0m",
      "\u001B[1;31mNameError\u001B[0m                                 Traceback (most recent call last)",
      "\u001B[1;32m~\\AppData\\Local\\Temp/ipykernel_9516/191413956.py\u001B[0m in \u001B[0;36m<module>\u001B[1;34m\u001B[0m\n\u001B[1;32m----> 1\u001B[1;33m \u001B[0mteams_df\u001B[0m \u001B[1;33m=\u001B[0m \u001B[0mpd\u001B[0m\u001B[1;33m.\u001B[0m\u001B[0mread_csv\u001B[0m\u001B[1;33m(\u001B[0m\u001B[1;34m'data/teams.csv'\u001B[0m\u001B[1;33m)\u001B[0m\u001B[1;33m\u001B[0m\u001B[1;33m\u001B[0m\u001B[0m\n\u001B[0m\u001B[0;32m      2\u001B[0m \u001B[0mteams_df\u001B[0m\u001B[1;33m[\u001B[0m\u001B[1;34m'team_class'\u001B[0m\u001B[1;33m]\u001B[0m\u001B[1;33m.\u001B[0m\u001B[0munique\u001B[0m\u001B[1;33m(\u001B[0m\u001B[1;33m)\u001B[0m\u001B[1;33m\u001B[0m\u001B[1;33m\u001B[0m\u001B[0m\n\u001B[0;32m      3\u001B[0m \u001B[1;33m\u001B[0m\u001B[0m\n",
      "\u001B[1;31mNameError\u001B[0m: name 'pd' is not defined"
     ]
    }
   ],
   "source": [
    "teams_df = pd.read_csv('data/teams.csv')\n",
    "teams_df['team_class'].unique()"
   ],
   "metadata": {
    "collapsed": false,
    "pycharm": {
     "name": "#%%\n"
    }
   }
  },
  {
   "cell_type": "code",
   "execution_count": null,
   "outputs": [],
   "source": [
    "cyclists_teams_df = pd.read_csv('data/cyclists_teams.csv')\n",
    "cyclists_teams_df"
   ],
   "metadata": {
    "collapsed": false,
    "pycharm": {
     "name": "#%%\n"
    }
   }
  },
  {
   "cell_type": "code",
   "execution_count": null,
   "outputs": [],
   "source": [
    "import pandas as pd\n",
    "strava_urls = pd.read_csv('data/all_cyclists_strava_urls-with private info.csv')\n",
    "strava_urls_non_privates = strava_urls[(strava_urls['private_account']==0)]\n",
    "strava_urls_privates = strava_urls[(strava_urls['private_account']==1)]\n",
    "strava_urls_privates_approved = strava_urls[(strava_urls['approved']==1)]\n",
    "\n",
    "strava_cyclists = set(strava_urls['cyclist_id'])\n",
    "strava_cyclists_non_privates = set(strava_urls_non_privates['cyclist_id'])\n",
    "strava_cyclists_privates = set(strava_urls_privates['cyclist_id'])\n",
    "strava_urls_privates_approved = set(strava_urls_privates_approved['cyclist_id'])"
   ],
   "metadata": {
    "collapsed": false,
    "pycharm": {
     "name": "#%%\n"
    }
   }
  },
  {
   "cell_type": "code",
   "execution_count": null,
   "outputs": [],
   "source": [
    "all_cyclists_to_download = cyclists_teams_df['cyclist_id'].unique()\n",
    "len(all_cyclists_to_download)"
   ],
   "metadata": {
    "collapsed": false,
    "pycharm": {
     "name": "#%%\n"
    }
   }
  },
  {
   "cell_type": "code",
   "execution_count": null,
   "outputs": [],
   "source": [
    "possible_cyclists_to_download = (strava_cyclists.intersection(all_cyclists_to_download))\n",
    "len(possible_cyclists_to_download)"
   ],
   "metadata": {
    "collapsed": false,
    "pycharm": {
     "name": "#%%\n"
    }
   }
  },
  {
   "cell_type": "code",
   "execution_count": null,
   "outputs": [],
   "source": [
    "possible_cyclists_to_download_non_private = (strava_cyclists_non_privates.intersection(all_cyclists_to_download))\n",
    "len(possible_cyclists_to_download_non_private)"
   ],
   "metadata": {
    "collapsed": false,
    "pycharm": {
     "name": "#%%\n"
    }
   }
  },
  {
   "cell_type": "code",
   "execution_count": null,
   "outputs": [],
   "source": [
    "possible_cyclists_to_download_private_approved = (strava_urls_privates_approved.intersection(all_cyclists_to_download))\n",
    "len(possible_cyclists_to_download_private_approved)"
   ],
   "metadata": {
    "collapsed": false,
    "pycharm": {
     "name": "#%%\n"
    }
   }
  },
  {
   "cell_type": "code",
   "execution_count": null,
   "outputs": [],
   "source": [
    "strava_urls_to_download = strava_urls[strava_urls['cyclist_id'].isin(possible_cyclists_to_download)]\n",
    "strava_urls_to_download"
   ],
   "metadata": {
    "collapsed": false,
    "pycharm": {
     "name": "#%%\n"
    }
   }
  },
  {
   "cell_type": "code",
   "execution_count": 89,
   "outputs": [],
   "source": [
    "# import pandas as pd\n",
    "# import os\n",
    "# output_path = \"M:/Maor/STRAVA/Strava-Extract-Actvity-Data\"\n",
    "# for file in os.listdir(f\"{output_path}/link\"):\n",
    "#     print(file)\n",
    "#     csv_content = pd.read_csv(f'{output_path}/link/{file}')\n",
    "#     csv_content.drop_duplicates().to_csv(f'{output_path}/link/{file}',index=False)"
   ],
   "metadata": {
    "collapsed": false,
    "pycharm": {
     "name": "#%%\n"
    }
   }
  },
  {
   "cell_type": "code",
   "execution_count": 90,
   "outputs": [],
   "source": [
    "# for i in range(1,32):\n",
    "#     if not os.path.exists(f'data/riders tracking/105-{i}.txt'):\n",
    "#         open(f'data/riders tracking/105-{i}.txt','w+')\n",
    "# for i in range(2,22):\n",
    "#     if not os.path.exists(f'data/riders tracking/111-{i}.txt'):\n",
    "#         open(f'data/riders tracking/111-{i}.txt','w+')\n"
   ],
   "metadata": {
    "collapsed": false,
    "pycharm": {
     "name": "#%%\n"
    }
   }
  },
  {
   "cell_type": "code",
   "execution_count": null,
   "outputs": [],
   "source": [
    "def get_rider_to_remove(to_remove_from,strava_urls_to_download):\n",
    "    return to_remove_from - set([str(c) for c in strava_urls_to_download['strava_id'].values])\n",
    "def get_riders_to_download(current_riders,strava_urls_to_download):\n",
    "    return set([str(c) for c in strava_urls_to_download['strava_id'].values]) - current_riders"
   ],
   "metadata": {
    "collapsed": false,
    "pycharm": {
     "name": "#%%\n"
    }
   }
  },
  {
   "cell_type": "code",
   "execution_count": null,
   "outputs": [],
   "source": [
    "def remove_from_tracking_files(riders_to_remove):\n",
    "    tracking_path = 'data/riders tracking'\n",
    "    for r in os.listdir(tracking_path):\n",
    "        changed = False\n",
    "        with open(f'./{tracking_path}/{r}') as f:\n",
    "            file_lines = f.read()\n",
    "        for r_to_rm in riders_to_remove:\n",
    "            if r_to_rm in file_lines:\n",
    "                file_lines = file_lines.replace(f'{r_to_rm}\\n','')\n",
    "                file_lines = file_lines.replace(f'{r_to_rm}','')\n",
    "                print(r_to_rm)\n",
    "                changed=True\n",
    "        if changed:\n",
    "            with open(f'{tracking_path}/{r}','w') as f:\n",
    "                f.write(file_lines)\n"
   ],
   "metadata": {
    "collapsed": false,
    "pycharm": {
     "name": "#%%\n"
    }
   }
  },
  {
   "cell_type": "code",
   "execution_count": null,
   "outputs": [],
   "source": [
    "def remove_from_all_riders_file(riders_to_remove):\n",
    "    changed = False\n",
    "    with open('data/all_riders.txt','r') as file:\n",
    "        # riders_in_file = [e.replace('\\n','') for e in file.readlines()]\n",
    "        file_lines = file.read()\n",
    "    for r_to_rm in riders_to_remove:\n",
    "        if r_to_rm in file_lines:\n",
    "            file_lines = file_lines.replace(f'{r_to_rm}\\n','')\n",
    "            print(r_to_rm)\n",
    "            changed=True\n",
    "    if changed:\n",
    "        with open('data/all_riders.txt','w') as f:\n",
    "                f.write(file_lines)"
   ],
   "metadata": {
    "collapsed": false,
    "pycharm": {
     "name": "#%%\n"
    }
   }
  },
  {
   "cell_type": "code",
   "execution_count": null,
   "outputs": [],
   "source": [
    "def get_all_riders_from_tracking_files():\n",
    "    all_comp_files = os.listdir('data/riders tracking')\n",
    "    all_riders_from_files=[]\n",
    "    for f in all_comp_files:\n",
    "        path = f'data/riders tracking/{f}'\n",
    "        with open(path) as file:\n",
    "            riders_in_files = [e.replace('\\n','') for e in file.readlines()]\n",
    "            all_riders_from_files.extend(riders_in_files)\n",
    "    return set(all_riders_from_files)\n"
   ],
   "metadata": {
    "collapsed": false,
    "pycharm": {
     "name": "#%%\n"
    }
   }
  },
  {
   "cell_type": "code",
   "execution_count": 95,
   "outputs": [
    {
     "data": {
      "text/plain": "0"
     },
     "execution_count": 95,
     "metadata": {},
     "output_type": "execute_result"
    }
   ],
   "source": [
    "len(get_rider_to_remove(get_all_riders_from_tracking_files(),strava_urls_to_download))"
   ],
   "metadata": {
    "collapsed": false,
    "pycharm": {
     "name": "#%%\n"
    }
   }
  },
  {
   "cell_type": "code",
   "execution_count": 96,
   "outputs": [],
   "source": [
    "remove_from_tracking_files(get_rider_to_remove(get_all_riders_from_tracking_files(),strava_urls_to_download))"
   ],
   "metadata": {
    "collapsed": false,
    "pycharm": {
     "name": "#%%\n"
    }
   }
  },
  {
   "cell_type": "code",
   "execution_count": 97,
   "outputs": [
    {
     "data": {
      "text/plain": "0"
     },
     "execution_count": 97,
     "metadata": {},
     "output_type": "execute_result"
    }
   ],
   "source": [
    "len(get_rider_to_remove(get_all_riders_from_tracking_files(),strava_urls_to_download))"
   ],
   "metadata": {
    "collapsed": false,
    "pycharm": {
     "name": "#%%\n"
    }
   }
  },
  {
   "cell_type": "code",
   "execution_count": 98,
   "outputs": [
    {
     "data": {
      "text/plain": "0"
     },
     "execution_count": 98,
     "metadata": {},
     "output_type": "execute_result"
    }
   ],
   "source": [
    "riders_to_remove=get_rider_to_remove(get_all_riders_from_tracking_files(),strava_urls_to_download)\n",
    "len(riders_to_remove)\n"
   ],
   "metadata": {
    "collapsed": false,
    "pycharm": {
     "name": "#%%\n"
    }
   }
  },
  {
   "cell_type": "code",
   "execution_count": 99,
   "outputs": [
    {
     "data": {
      "text/plain": "368"
     },
     "execution_count": 99,
     "metadata": {},
     "output_type": "execute_result"
    }
   ],
   "source": [
    "len(get_all_riders_from_tracking_files())"
   ],
   "metadata": {
    "collapsed": false,
    "pycharm": {
     "name": "#%%\n"
    }
   }
  },
  {
   "cell_type": "code",
   "execution_count": 100,
   "outputs": [
    {
     "data": {
      "text/plain": "25"
     },
     "execution_count": 100,
     "metadata": {},
     "output_type": "execute_result"
    }
   ],
   "source": [
    "to_download_10_teams = get_riders_to_download(get_all_riders_from_tracking_files(),strava_urls_to_download)\n",
    "len(to_download_10_teams)"
   ],
   "metadata": {
    "collapsed": false,
    "pycharm": {
     "name": "#%%\n"
    }
   }
  },
  {
   "cell_type": "code",
   "execution_count": 2,
   "outputs": [],
   "source": [
    "def assign_riders_to_computers(riders_to_download,all_riders):\n",
    "    computer_path = 'data/riders tracking'\n",
    "    computers = os.listdir(computer_path)\n",
    "    computers_count = len(computers)\n",
    "    riders_number_in_file = len(all_riders) / len(computers_count)\n",
    "    for computer in computers:\n",
    "        computer_path=f\"{computer_path}/{computer}\"\n",
    "        with open(computer_path)as f:\n",
    "            riders_in_files = [e.replace('\\n','') for e in f.readlines()]\n",
    "        riders_to_add_count = riders_number_in_file - len(riders_in_files)\n",
    "        if riders_to_add_count < 0:\n",
    "            print(computer_path)\n",
    "        else:\n",
    "            riders_to_add = riders_to_download[:riders_to_add_count]\n",
    "            riders_to_download = riders_to_download[riders_to_add_count:]\n",
    "            for r in riders_to_add:\n",
    "                with open(computer_path,'a')as f:\n",
    "                    f.write(f\"{r}\\n\")"
   ],
   "metadata": {
    "collapsed": false,
    "pycharm": {
     "name": "#%%\n"
    }
   }
  },
  {
   "cell_type": "code",
   "execution_count": 102,
   "outputs": [],
   "source": [
    "def write_riders_to_download_to_file(riders_to_download,file_path):\n",
    "    with open(file_path,'a') as f:\n",
    "        for r in riders_to_download:\n",
    "            f.write(f\"{r}\\n\")"
   ],
   "metadata": {
    "collapsed": false,
    "pycharm": {
     "name": "#%%\n"
    }
   }
  },
  {
   "cell_type": "code",
   "execution_count": 103,
   "outputs": [],
   "source": [
    "write_riders_to_download_to_file(to_download_10_teams,'data/riders_to_download.txt')"
   ],
   "metadata": {
    "collapsed": false,
    "pycharm": {
     "name": "#%%\n"
    }
   }
  },
  {
   "cell_type": "code",
   "execution_count": 3,
   "outputs": [
    {
     "ename": "FileNotFoundError",
     "evalue": "[WinError 3] The system cannot find the path specified: 'M:/Maor/STRAVA/Strava-Extract-Actvity-Data/link/riders_activity_pages'",
     "output_type": "error",
     "traceback": [
      "\u001B[1;31m---------------------------------------------------------------------------\u001B[0m",
      "\u001B[1;31mFileNotFoundError\u001B[0m                         Traceback (most recent call last)",
      "\u001B[1;32m~\\AppData\\Local\\Temp/ipykernel_9516/2542114714.py\u001B[0m in \u001B[0;36m<module>\u001B[1;34m\u001B[0m\n\u001B[0;32m      2\u001B[0m \u001B[1;32mimport\u001B[0m \u001B[0mos\u001B[0m\u001B[1;33m\u001B[0m\u001B[1;33m\u001B[0m\u001B[0m\n\u001B[0;32m      3\u001B[0m \u001B[0moutput_path\u001B[0m \u001B[1;33m=\u001B[0m \u001B[1;34m\"M:/Maor/STRAVA/Strava-Extract-Actvity-Data\"\u001B[0m\u001B[1;33m\u001B[0m\u001B[1;33m\u001B[0m\u001B[0m\n\u001B[1;32m----> 4\u001B[1;33m \u001B[0mriders\u001B[0m\u001B[1;33m=\u001B[0m \u001B[0mos\u001B[0m\u001B[1;33m.\u001B[0m\u001B[0mlistdir\u001B[0m\u001B[1;33m(\u001B[0m\u001B[1;34mf\"{output_path}/link/riders_activity_pages\"\u001B[0m\u001B[1;33m)\u001B[0m\u001B[1;33m\u001B[0m\u001B[1;33m\u001B[0m\u001B[0m\n\u001B[0m\u001B[0;32m      5\u001B[0m \u001B[1;33m\u001B[0m\u001B[0m\n",
      "\u001B[1;31mFileNotFoundError\u001B[0m: [WinError 3] The system cannot find the path specified: 'M:/Maor/STRAVA/Strava-Extract-Actvity-Data/link/riders_activity_pages'"
     ]
    }
   ],
   "source": [
    "import pandas as pd\n",
    "import os\n",
    "output_path = \"M:/Maor/STRAVA/Strava-Extract-Actvity-Data\"\n",
    "riders= os.listdir(f\"{output_path}/link/riders_activity_pages\")"
   ],
   "metadata": {
    "collapsed": false,
    "pycharm": {
     "name": "#%%\n"
    }
   }
  },
  {
   "cell_type": "code",
   "execution_count": 105,
   "outputs": [
    {
     "data": {
      "text/plain": "1007"
     },
     "execution_count": 105,
     "metadata": {},
     "output_type": "execute_result"
    }
   ],
   "source": [
    "len(riders)"
   ],
   "metadata": {
    "collapsed": false,
    "pycharm": {
     "name": "#%%\n"
    }
   }
  },
  {
   "cell_type": "code",
   "execution_count": 7,
   "outputs": [
    {
     "data": {
      "text/plain": "{'10491203.0',\n '10545603.0',\n '10572608.0',\n '1060066.0',\n '1060821.0',\n '106309.0',\n '10674388.0',\n '10723151.0',\n '1073908.0',\n '10746593.0',\n '1074765.0',\n '10757845.0',\n '10780095.0',\n '10797363.0',\n '108291.0',\n '1084629.0',\n '1088533.0',\n '10887608.0',\n '10888294.0',\n '10925190.0',\n '10963068.0',\n '109652.0',\n '1097683.0',\n '11003971.0',\n '110144.0',\n '11380582.0',\n '1149416.0',\n '1149672.0',\n '1203945.0',\n '12340957.0',\n '12412479.0',\n '12427707.0',\n '12427912.0',\n '1243195.0',\n '12443008.0',\n '12478124.0',\n '12484732.0',\n '12509175.0',\n '12541394.0',\n '12542977.0',\n '13150403.0',\n '1321028.0',\n '13306598.0',\n '13352275.0',\n '13355589.0',\n '13375757.0',\n '13393892.0',\n '13394459.0',\n '13547623.0',\n '1413161.0',\n '14396227.0',\n '1462159.0',\n '1462851.0',\n '14899637.0',\n '1508855.0',\n '15104335.0',\n '15131615.0',\n '1514397.0',\n '15151623.0',\n '1516637.0',\n '15178847.0',\n '15293379.0',\n '15310584.0',\n '15336498.0',\n '15341472.0',\n '15372436.0',\n '15393684.0',\n '1546243.0',\n '15466114.0',\n '15508012.0',\n '15517763.0',\n '1554175.0',\n '15578122.0',\n '15599886.0',\n '15684915.0',\n '15704131.0',\n '15726977.0',\n '15742761.0',\n '15781522.0',\n '15806002.0',\n '15837093.0',\n '1587801.0',\n '1592337.0',\n '1593769.0',\n '15962338.0',\n '1597609.0',\n '16032744.0',\n '16072751.0',\n '1614029.0',\n '1618017.0',\n '1695722.0',\n '18644505.0',\n '19026523.0',\n '20385823.0',\n '20595081.0',\n '2136208.0',\n '2137836.0',\n '21430034.0',\n '2144572.0',\n '2159786.0',\n '218097.0',\n '22746675.0',\n '2276607.0',\n '2393015.0',\n '24030059.0',\n '2404608.0',\n '240775.0',\n '24123324.0',\n '2424131.0',\n '2424243.0',\n '2424738.0',\n '2435844.0',\n '2436476.0',\n '259171.0',\n '2593237.0',\n '26297021.0',\n '2656389.0',\n '28009789.0',\n '28233128.0',\n '28864199.0',\n '28869974.0',\n '28980231.0',\n '2900824.0',\n '29028250.0',\n '2905568.0',\n '2905599.0',\n '2905866.0',\n '29083345.0',\n '291164.0',\n '2911686.0',\n '29140444.0',\n '2916067.0',\n '2916501.0',\n '2922866.0',\n '2926114.0',\n '2935665.0',\n '295073.0',\n '2956675.0',\n '29568372.0',\n '2957127.0',\n '2957348.0',\n '2959728.0',\n '296808.0',\n '2971302.0',\n '29740629.0',\n '2987896.0',\n '29960839.0',\n '3005446.0',\n '30101310.0',\n '3018523.0',\n '30291.0',\n '3037336.0',\n '3046537.0',\n '30466500.0',\n '305721.0',\n '3060100.0',\n '306330.0',\n '3068615.0',\n '307079.0',\n '3073764.0',\n '30908889.0',\n '3092222.0',\n '3098160.0',\n '3100044.0',\n '3103884.0',\n '31080739.0',\n '31100833.0',\n '3114986.0',\n '311729.0',\n '311892.0',\n '31191629.0',\n '31201992.0',\n '3123001.0',\n '3125765.0',\n '31279728.0',\n '3128098.0',\n '31331997.0',\n '3134246.0',\n '31343453.0',\n '313453.0',\n '31409265.0',\n '3143676.0',\n '314706.0',\n '315770.0',\n '3157807.0',\n '3168759.0',\n '3175306.0',\n '3194779.0',\n '3209994.0',\n '3211284.0',\n '321346.0',\n '32218021.0',\n '3224465.0',\n '323139.0',\n '32320205.0',\n '323461.0',\n '32362188.0',\n '32370120.0',\n '32402498.0',\n '32408511.0',\n '3243335.0',\n '3249116.0',\n '3372719.0',\n '3386103.0',\n '3402367.0',\n '34079190.0',\n '340874.0',\n '340943.0',\n '3409968.0',\n '3416738.0',\n '3417330.0',\n '3417988.0',\n '3418221.0',\n '3418802.0',\n '3419730.0',\n '3422017.0',\n '3423315.0',\n '3428163.0',\n '3429256.0',\n '3433850.0',\n '3438082.0',\n '34475636.0',\n '3459281.0',\n '34697234.0',\n '3470393.0',\n '3471468.0',\n '34780520.0',\n '3481824.0',\n '3488983.0',\n '3490128.0',\n '3491673.0',\n '3512815.0',\n '3516359.0',\n '35175024.0',\n '3520134.0',\n '3530526.0',\n '35372190.0',\n '3542239.0',\n '3552075.0',\n '35597701.0',\n '3564229.0',\n '3569497.0',\n '3574069.0',\n '3575404.0',\n '3576629.0',\n '3579677.0',\n '3581686.0',\n '3585457.0',\n '358580.0',\n '3586046.0',\n '3595088.0',\n '3597358.0',\n '3597686.0',\n '3598759.0',\n '36543340.0',\n '37046240.0',\n '37974168.0',\n '381804.0',\n '382890.0',\n '3834960.0',\n '3836102.0',\n '3845114.0',\n '3855537.0',\n '3862386.0',\n '3877385.0',\n '388879.0',\n '38905095.0',\n '3909207.0',\n '391026.0',\n '3916602.0',\n '3931267.0',\n '3943249.0',\n '3943346.0',\n '3948047.0',\n '3949717.0',\n '3952053.0',\n '3952107.0',\n '395702.0',\n '3964385.0',\n '3966534.0',\n '3969029.0',\n '3976177.0',\n '3979847.0',\n '3983163.0',\n '39834967.0',\n '3983729.0',\n '3983783.0',\n '3988420.0',\n '3989143.0',\n '3999972.0',\n '4000084.0',\n '40087798.0',\n '4013280.0',\n '4013766.0',\n '4018952.0',\n '4027056.0',\n '402858.0',\n '403508.0',\n '41905231.0',\n '430673.0',\n '4331431.0',\n '433483.0',\n '4334886.0',\n '4339786.0',\n '434588.0',\n '43757885.0',\n '437664.0',\n '439230.0',\n '439420.0',\n '4394333.0',\n '439826.0',\n '440227.0',\n '4402594.0',\n '4411135.0',\n '4420357.0',\n '4449223.0',\n '44576934.0',\n '44644405.0',\n '4472797.0',\n '44778602.0',\n '4487940.0',\n '4488376.0',\n '4490396.0',\n '4496597.0',\n '4501663.0',\n '450531.0',\n '45180733.0',\n '452713.0',\n '452871.0',\n '4529953.0',\n '4537138.0',\n '4548902.0',\n '4559866.0',\n '4571461.0',\n '4581235.0',\n '4587013.0',\n '461374.0',\n '462617.0',\n '463766.0',\n '46449479.0',\n '4663085.0',\n '4671192.0',\n '4672076.0',\n '4688695.0',\n '4698922.0',\n '47083734.0',\n '4730293.0',\n '4743603.0',\n '4753119.0',\n '4776556.0',\n '479385.0',\n '4805595.0',\n '48184453.0',\n '4828361.0',\n '4848511.0',\n '4848800.0',\n '4851916.0',\n '48673211.0',\n '4876079.0',\n '4884884.0',\n '48849524.0',\n '4892114.0',\n '4899033.0',\n '490505.0',\n '4913072.0',\n '4929761.0',\n '4936138.0',\n '4937747.0',\n '4951011.0',\n '4957556.0',\n '49597893.0',\n '49785133.0',\n '4980290.0',\n '4981408.0',\n '4987279.0',\n '4993592.0',\n '4994417.0',\n '500032.0',\n '5008587.0',\n '5030844.0',\n '5052874.0',\n '5060232.0',\n '506748.0',\n '5070415.0',\n '50757.0',\n '50907.0',\n '5092295.0',\n '5103065.0',\n '5106272.0',\n '5111949.0',\n '5114165.0',\n '513412.0',\n '5180371.0',\n '518177.0',\n '5183286.0',\n '5190714.0',\n '5201565.0',\n '520785.0',\n '5213678.0',\n '5214857.0',\n '522423.0',\n '524774.0',\n '5250418.0',\n '5259739.0',\n '5276222.0',\n '5280109.0',\n '5287750.0',\n '5303751.0',\n '5311912.0',\n '534744.0',\n '5361003.0',\n '5375759.0',\n '538528.0',\n '5387245.0',\n '541253.0',\n '542394.0',\n '543029.0',\n '5444867.0',\n '5478108.0',\n '5495492.0',\n '5501879.0',\n '5502015.0',\n '550866.0',\n '5530842.0',\n '553380.0',\n '553718.0',\n '5571896.0',\n '6003518.0',\n '604426.0',\n '6046315.0',\n '6061359.0',\n '6068080.0',\n '6072239.0',\n '610985.0',\n '6119866.0',\n '6122694.0',\n '6123206.0',\n '6137589.0',\n '6160387.0',\n '6174220.0',\n '6188.0',\n '6206971.0',\n '621446.0',\n '6221802.0',\n '6222.0',\n '622396.0',\n '6238618.0',\n '6244348.0',\n '6274194.0',\n '630070.0',\n '6316317.0',\n '6324145.0',\n '63330472.0',\n '63456809.0',\n '6364497.0',\n '6374317.0',\n '6379583.0',\n '6390713.0',\n '6392625.0',\n '6394625.0',\n '6398824.0',\n '648928.0',\n '6587978.0',\n '6606707.0',\n '6610252.0',\n '66176341.0',\n '663394.0',\n '664724.0',\n '666711.0',\n '667297.0',\n '6679786.0',\n '670021.0',\n '6707377.0',\n '6728810.0',\n '6731460.0',\n '6743305.0',\n '6762797.0',\n '6766614.0',\n '6781983.0',\n '683033.0',\n '6898466.0',\n '690926.0',\n '692158.0',\n '694754.0',\n '6948313.0',\n '69544.0',\n '6959002.0',\n '69711305.0',\n '6973093.0',\n '6976598.0',\n '699991.0',\n '7026027.0',\n '7033791.0',\n '7038403.0',\n '704876.0',\n '7061008.0',\n '7070320.0',\n '7121246.0',\n '7131403.0',\n '713550.0',\n '7163533.0',\n '7171805.0',\n '7173167.0',\n '7177418.0',\n '7178190.0',\n '7181420.0',\n '7186660.0',\n '720544.0',\n '7778529.0',\n '8201227.0',\n '8253496.0',\n '831403.0',\n '8350667.0',\n '8362026.0',\n '8367340.0',\n '8409483.0',\n '84189953.0',\n '8843343.0',\n '9112353.0',\n '9112966.0',\n '9115047.0',\n '9135247.0',\n '915323.0',\n '9162783.0',\n '9176921.0',\n '9177420.0',\n '9180611.0',\n '9192145.0',\n '9232885.0',\n '924131.0',\n '926573.0',\n '92669.0',\n '9286245.0',\n '9311914.0',\n '9319641.0',\n '9389733.0',\n '9393290.0',\n '9399506.0',\n '9421925.0',\n '9458446.0',\n '9479785.0',\n '9533389.0',\n '9567228.0',\n '957045.0',\n '9659008.0',\n '9678215.0',\n '9680598.0',\n '9695585.0',\n '9722733.0',\n '972735.0',\n '974099.0',\n '9766703.0',\n '9776534.0',\n '9781378.0',\n '9782781.0',\n '9796680.0',\n '9796952.0',\n '9816212.0',\n '982321.0',\n '983735.0',\n '983850.0',\n '9840210.0',\n '984825.0',\n '9873166.0',\n '9920708.0',\n '9939269.0',\n '9941501.0',\n '9951862.0',\n '9980001.0'}"
     },
     "execution_count": 7,
     "metadata": {},
     "output_type": "execute_result"
    }
   ],
   "source": [
    "set(strava_cyclists).difference(riders)\n",
    "\n"
   ],
   "metadata": {
    "collapsed": false,
    "pycharm": {
     "name": "#%%\n"
    }
   }
  },
  {
   "cell_type": "code",
   "execution_count": 30,
   "outputs": [
    {
     "data": {
      "text/plain": "[]"
     },
     "execution_count": 30,
     "metadata": {},
     "output_type": "execute_result"
    }
   ],
   "source": [
    "riders_to_download = list(get_riders_to_download(get_all_riders_from_tracking_files()))\n",
    "riders_to_download"
   ],
   "metadata": {
    "collapsed": false,
    "pycharm": {
     "name": "#%%\n"
    }
   }
  },
  {
   "cell_type": "code",
   "execution_count": 4,
   "outputs": [
    {
     "name": "stdout",
     "output_type": "stream",
     "text": [
      "369\n",
      "368\n"
     ]
    }
   ],
   "source": [
    "\n",
    "all_comp_files = os.listdir('data/riders tracking')\n",
    "all_riders_from_files=[]\n",
    "visited=set()\n",
    "for f in all_comp_files:\n",
    "    path = f'data/riders tracking/{f}'\n",
    "    with open(path) as file:\n",
    "        riders_in_files = [e.replace('\\n','') for e in file.readlines()]\n",
    "        if len(visited.intersection(riders_in_files))>0:\n",
    "            print(f)\n",
    "            print(visited.intersection(riders_in_files))\n",
    "        all_riders_from_files.extend(riders_in_files)\n",
    "        visited=visited.union(riders_in_files)\n",
    "print(len(all_riders_from_files))\n",
    "print(len(set(all_riders_from_files)))\n"
   ],
   "metadata": {
    "collapsed": false,
    "pycharm": {
     "name": "#%%\n"
    }
   }
  },
  {
   "cell_type": "code",
   "execution_count": null,
   "outputs": [],
   "source": [],
   "metadata": {
    "collapsed": false,
    "pycharm": {
     "name": "#%%\n"
    }
   }
  }
 ],
 "metadata": {
  "kernelspec": {
   "display_name": "Python 3",
   "language": "python",
   "name": "python3"
  },
  "language_info": {
   "codemirror_mode": {
    "name": "ipython",
    "version": 2
   },
   "file_extension": ".py",
   "mimetype": "text/x-python",
   "name": "python",
   "nbconvert_exporter": "python",
   "pygments_lexer": "ipython2",
   "version": "2.7.6"
  }
 },
 "nbformat": 4,
 "nbformat_minor": 0
}