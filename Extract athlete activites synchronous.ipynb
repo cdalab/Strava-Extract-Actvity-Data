{
 "cells": [
  {
   "cell_type": "code",
   "execution_count": 1,
   "id": "07e6f91e",
   "metadata": {},
   "outputs": [],
   "source": [
    "import re\n",
    "import time as t\n",
    "import pandas as pd\n",
    "import pickle as pk\n",
    "from selenium import webdriver\n",
    "from selenium.webdriver.support.wait import WebDriverWait\n",
    "from bs4 import BeautifulSoup"
   ]
  },
  {
   "cell_type": "code",
   "execution_count": 2,
   "id": "cabcbed6-7014-4d60-ae9f-97f84deb9268",
   "metadata": {},
   "outputs": [],
   "source": [
    "STRAVA_URL = 'https://www.strava.com'\n",
    "password = r'1357WorkWork!'\n",
    "p = '1357Worker!'\n",
    "usernames = [\n",
    "    r'kvspek@gmail.com',\n",
    "    r'spektork@post.bgu.ac.il',\n",
    "    r'kev_backup@yahoo.com',\n",
    "    r'cool_table@yahoo.com',\n",
    "    r'cool_table2@yahoo.com',\n",
    "    r'cool_table3@yahoo.com',\n",
    "    r'cool_table4@yahoo.com',\n",
    "    r'cool_table5@yahoo.com',\n",
    "]\n",
    "\n",
    "username_backup = r'kev_backup@yahoo.com'\n",
    "password = r'1357Backup!'"
   ]
  },
  {
   "cell_type": "markdown",
   "id": "ae4f1147-d58b-4b45-bcfb-982d7cb9eba6",
   "metadata": {},
   "source": [
    "## Prepare chrome driver and sign in to Strava"
   ]
  },
  {
   "cell_type": "code",
   "execution_count": 3,
   "id": "3576298d",
   "metadata": {},
   "outputs": [],
   "source": [
    "def chrome_driver(username, password):\n",
    "    options = webdriver.ChromeOptions()\n",
    "    options.add_argument('headless')\n",
    "\n",
    "    # start chrome browser\n",
    "    browser = webdriver.Chrome(options=options)\n",
    "\n",
    "    browser.get(STRAVA_URL + '/login')\n",
    "    email = browser.find_element_by_id(\"email\")\n",
    "    password = browser.find_element_by_id(\"password\")\n",
    "\n",
    "    email.send_keys(username)\n",
    "    password.send_keys(password)\n",
    "    \n",
    "    browser.find_element_by_id(\"login-button\").click()\n",
    "    print(browser.current_url)\n",
    "    return browser"
   ]
  },
  {
   "cell_type": "markdown",
   "id": "dacd39dd",
   "metadata": {},
   "source": [
    "## Extract rider activities"
   ]
  },
  {
   "cell_type": "code",
   "execution_count": 4,
   "id": "13357bd9",
   "metadata": {},
   "outputs": [],
   "source": [
    " class Rider:\n",
    "    def __init__(self, rider_name, rider_url, rider_id):\n",
    "        self.rider_name = rider_name.lower()\n",
    "        self.rider_url = rider_url\n",
    "        self.rider_id = rider_id\n",
    "        self.activity_links = set()\n",
    "        self.links = []\n",
    "        \n",
    "        # tables\n",
    "        self.workout = []\n",
    "        self.workout_hrs = []\n",
    "        self.workout_cadences = []\n",
    "        self.workout_powers = []\n",
    "        self.workout_speeds = []\n",
    "        \n",
    "    def __repr__(self):\n",
    "        return f'Rider_link: {self.rider_url}, Rider name: {self.rider_name}, Rider ID: {self.rider_id}'"
   ]
  },
  {
   "cell_type": "code",
   "execution_count": 33,
   "id": "c8782e21-1571-4f0d-888c-e8bf3f4125de",
   "metadata": {},
   "outputs": [],
   "source": [
    "class GetActivities(): \n",
    "    \n",
    "    def __init__(self, username, riders, years = list(range(2015,2022)), months = list(range(1,13))):\n",
    "        self.activity_links = set()\n",
    "        self.riders = riders\n",
    "        self.years = years\n",
    "        self.months = months\n",
    "        self.username = username\n",
    "        self.STRAVA_URL = 'https://www.strava.com'\n",
    "        \n",
    "    def _open_driver(self):\n",
    "        \n",
    "        options = webdriver.ChromeOptions()\n",
    "        options.add_argument('headless')\n",
    "        \n",
    "        self.browser = webdriver.Chrome(options=options)\n",
    "        URL = self.STRAVA_URL + '/login'\n",
    "        \n",
    "        self.browser.get(URL)\n",
    "        email = self.browser.find_element_by_id(\"email\")\n",
    "        password = self.browser.find_element_by_id(\"password\")\n",
    "\n",
    "        email.send_keys(self.username)\n",
    "        password.send_keys('12345678')\n",
    "        \n",
    "        self.browser.find_element_by_id(\"login-button\").click()\n",
    "        t.sleep(1)\n",
    "        print(self.browser.current_url)\n",
    "        \n",
    "    def _close_driver(self):\n",
    "        self.browser.close()\n",
    "        \n",
    "    def extract_activities(self):\n",
    "        \n",
    "        self._open_driver()\n",
    "        problematic_riders = []\n",
    "        for rider in self.riders:\n",
    "            \n",
    "            self.browser.get(rider.rider_url)\n",
    "            t.sleep(1)\n",
    "            \n",
    "            print(rider)\n",
    "            try:\n",
    "                # Click on 'monthly' button so that the date inteverals would be smaller\n",
    "                monthly_xpath = '//*[@id=\"interval-graph-controls\"]/ul/li[2]/ul/li[2]/a'\n",
    "                interval_xpath = '//*[@id=\"interval-graph-columns\"]/div/ul[2]'\n",
    "\n",
    "                soup = BeautifulSoup(self.browser.page_source, 'html.parser')\n",
    "                date_intervals = soup.find('div', {'class': 'drop-down-menu drop-down-sm enabled'})\n",
    "                temp_links = date_intervals.find_all('a')\n",
    "\n",
    "                date_links = []\n",
    "                for temp_link in temp_links:\n",
    "                    link = STRAVA_URL + temp_link['href']\n",
    "                    link = link.replace('week', 'month')\n",
    "                    date_links.append(link)\n",
    "\n",
    "\n",
    "                current_link_year = soup.find('h2', {'class': 'text-callout left'}).text[-5:-1]\n",
    "                current_link = date_links[0]\n",
    "                interval_exmaple = re.search(\"interval=.*&\", current_link).group(0)\n",
    "                current_link = current_link.replace(interval_exmaple[-7:-3], current_link_year)\n",
    "                current_link = current_link[:-1] + '0'\n",
    "                date_links.insert(0, current_link)\n",
    "\n",
    "                self.links = []\n",
    "                interval_soups = []\n",
    "                prev_url = self.browser.current_url\n",
    "                for link in date_links:\n",
    "\n",
    "                    interval1 = re.search(\"interval=.*&\", link).group(0)\n",
    "                    year = int(interval1[-7:-3])\n",
    "\n",
    "                    if year-1 in self.years:\n",
    "\n",
    "                        for month in range(7,13):\n",
    "                            if month not in self.months:\n",
    "                                continue\n",
    "\n",
    "                            month_string = str(month) if month >= 10 else f'0{month}'\n",
    "                            interval2 = interval1.replace(str(year)+interval1[-3:-1], str(year-1)+month_string)\n",
    "                            rider.links.append(link.replace(interval1, interval2))\n",
    "\n",
    "                    if year in self.years:\n",
    "\n",
    "                        for month in range(1,8):\n",
    "                            if month not in self.months:\n",
    "                                continue\n",
    "\n",
    "                            interval2 = interval1.replace(str(year)+interval1[-3:-1], str(year)+f'0{month}')\n",
    "                            rider.links.append(link.replace(interval1, interval2))\n",
    "                            \n",
    "            except:\n",
    "                problematic_riders.append(rider)\n",
    "            \n",
    "        self.riders = [rider for rider in self.riders if rider not in problematic_riders]  \n",
    "        self._close_driver()\n",
    "\n",
    "    def run(self):\n",
    "        \n",
    "        self._open_driver()\n",
    "\n",
    "       \n",
    "        for rider in self.riders:\n",
    "            prev = set()\n",
    "            curr = set()\n",
    "            for link in rider.links:\n",
    "                \n",
    "                \n",
    "                year_link = int(re.search('interval=.*&', link).group(0)[9:-3])\n",
    "                if year_link not in self.years:\n",
    "                    continue\n",
    "                \n",
    "               \n",
    "                self.browser.get(link)\n",
    "                site_soup = BeautifulSoup(self.browser.page_source, 'html.parser')\n",
    "\n",
    "                if site_soup.find('html')['class'][0] == 'logged-out': # logged out ...\n",
    "                    print(f'logged out...')\n",
    "                    self._close_driver()\n",
    "                    return\n",
    "\n",
    "                #print(f'{self.browser.current_url}') \n",
    "                t.sleep(2)\n",
    "                timeout = t.time() + 10\n",
    "                new_curr = set()\n",
    "\n",
    "                while curr == prev:\n",
    "                    t.sleep(1)\n",
    "                    graph_soup = BeautifulSoup(self.browser.page_source, 'html.parser')\n",
    "                    group_feed_activities = graph_soup.find_all('div', {'class': 'feed-entry group-activity'})\n",
    "                    normal_activities = graph_soup.find_all('div', {'class': 'activity feed-entry entity-details'})\n",
    "\n",
    "                    for group_feed_activity in group_feed_activities:\n",
    "                        # loop through all group activities\n",
    "                        group_feed_entry_body = group_feed_activity.find('div', {'class': 'entry-body'})\n",
    "                        group_feed_link = group_feed_entry_body.find('a')\n",
    "                        try:\n",
    "                            new_curr.add(self.STRAVA_URL + group_feed_link.get('href'))\n",
    "                        except:\n",
    "                            continue\n",
    "                        \n",
    "                    for normal_activity in normal_activities:\n",
    "                        # loop through all normal activities\n",
    "                        normal_activity_entry_body = normal_activity.find('div', {'class': 'entry-body'})\n",
    "                        normal_activity_link = normal_activity_entry_body.find('a')\n",
    "                        try:\n",
    "                            new_curr.add(self.STRAVA_URL + normal_activity_link.get('href'))\n",
    "                        except:\n",
    "                            continue\n",
    "                    curr = new_curr\n",
    "\n",
    "                    if t.time() > timeout:\n",
    "                        break\n",
    "\n",
    "                prev = curr\n",
    "\n",
    "                rider.activity_links = rider.activity_links.union(curr)\n",
    "            print(f'finished rider: {rider.rider_id}, number of activities: {len(rider.activity_links)}')\n",
    "            \n",
    "        self._close_driver()\n"
   ]
  },
  {
   "cell_type": "code",
   "execution_count": 6,
   "id": "8cf0b613",
   "metadata": {},
   "outputs": [],
   "source": [
    "def valid_rider_url(url):\n",
    "    pattern = re.compile(\"https://www.strava.com/[a-zA-Z]+/[0-9]+$\")\n",
    "    found = pattern.search(url)\n",
    "    if not found:\n",
    "        return False\n",
    "    return True"
   ]
  },
  {
   "cell_type": "markdown",
   "id": "d8dde0cc",
   "metadata": {},
   "source": [
    "## Extract Activity Links "
   ]
  },
  {
   "cell_type": "code",
   "execution_count": 10,
   "id": "bc7adfed",
   "metadata": {},
   "outputs": [],
   "source": [
    "activity_links = set()"
   ]
  },
  {
   "cell_type": "code",
   "execution_count": 7,
   "id": "6d3bba0f-51ee-4867-bcec-58e2a142253a",
   "metadata": {},
   "outputs": [
    {
     "name": "stdout",
     "output_type": "stream",
     "text": [
      "593\n",
      "547\n",
      "46\n"
     ]
    }
   ],
   "source": [
    "df = pd.read_csv('data/Fetch_url_cyclists.csv')\n",
    "df = df[df['url'].notna()]\n",
    "riders = []\n",
    "for index, row in df.iterrows():\n",
    "    rider = Rider(row['full_name'], row['url'], row['cyclist_id'])\n",
    "    if valid_rider_url(rider.rider_url):\n",
    "        riders.append(rider)\n",
    "        \n",
    "print(len(riders))\n",
    "\n",
    "riders_pickle =  open('data/riders.pickle', 'rb')\n",
    "riders_extracted = pk.load(riders_pickle)\n",
    "riders_extracted_ids = [rider.rider_id for rider in riders_extracted]\n",
    "print(len(riders_extracted))\n",
    "riders = [rider for rider in riders if rider.rider_id not in riders_extracted_ids]\n",
    "print(len(riders)) # -> problamatic riders..."
   ]
  },
  {
   "cell_type": "markdown",
   "id": "5277e64a",
   "metadata": {},
   "source": [
    "### Extract links to fetch from the activities links"
   ]
  },
  {
   "cell_type": "code",
   "execution_count": 8,
   "id": "3acc419b-5656-4832-8c18-226d91044378",
   "metadata": {},
   "outputs": [
    {
     "name": "stdout",
     "output_type": "stream",
     "text": [
      "https://www.strava.com/onboarding\n",
      "Rider_link: https://www.strava.com/athletes/12337203, Rider name: arashiro yukiya, Rider ID: 26\n",
      "Rider_link: https://www.strava.com/athletes/4419459, Rider name: badilatti matteo, Rider ID: 45\n",
      "Rider_link: https://www.strava.com/athletes/26007448, Rider name: bartolozzi andrea, Rider ID: 64\n",
      "Rider_link: https://www.strava.com/athletes/3409968, Rider name: ben moshe yuval, Rider ID: 78\n",
      "Rider_link: https://www.strava.com/athletes/13308515, Rider name: berrade urko, Rider ID: 90\n",
      "Rider_link: https://www.strava.com/athletes/41905231, Rider name: bohli tom, Rider ID: 112\n",
      "Rider_link: https://www.strava.com/athletes/4119801, Rider name: chaves esteban, Rider ID: 181\n",
      "Rider_link: https://www.strava.com/athletes/20388790, Rider name: cherkasov nikolay, Rider ID: 183\n",
      "Rider_link: https://www.strava.com/athletes/84189953, Rider name: de buyst jasper, Rider ID: 229\n",
      "Rider_link: https://www.strava.com/pros/1005431, Rider name: earle nathan, Rider ID: 283\n",
      "Rider_link: https://www.strava.com/athletes/5096617, Rider name: einhorn itamar, Rider ID: 291\n",
      "Rider_link: https://www.strava.com/athletes/4743603, Rider name: ezquerra jesús, Rider ID: 301\n",
      "Rider_link: https://www.strava.com/athletes/29568372, Rider name: flórez miguel eduardo, Rider ID: 316\n",
      "Rider_link: https://www.strava.com/athletes/10361292, Rider name: gidich yevgeniy, Rider ID: 361\n",
      "Rider_link: https://www.strava.com/athletes/3875398, Rider name: gilbert philippe, Rider ID: 362\n",
      "Rider_link: https://www.strava.com/athletes/1900044, Rider name: goikoetxea peio, Rider ID: 365\n",
      "Rider_link: https://www.strava.com/athletes/7793378, Rider name: gonçalves josé, Rider ID: 368\n",
      "Rider_link: https://www.strava.com/athletes/12429750, Rider name: herregodts rune, Rider ID: 415\n",
      "Rider_link: https://www.strava.com/athletes/17888092, Rider name: hindsgaul madsen jacob, Rider ID: 418\n",
      "Rider_link: https://www.strava.com/athletes/44576934, Rider name: hulgaard morten, Rider ID: 435\n",
      "Rider_link: https://www.strava.com/athletes/14899637, Rider name: kamp alexander, Rider ID: 468\n",
      "Rider_link: https://www.strava.com/athletes/27682210, Rider name: kragh andersen søren, Rider ID: 487\n",
      "Rider_link: https://www.strava.com/athletes/16044924, Rider name: kuzmin anton, Rider ID: 500\n",
      "Rider_link: https://www.strava.com/athletes/7097988, Rider name: lópez-cózar juan antonio, Rider ID: 536\n",
      "Rider_link: https://www.strava.com/athletes/13233761, Rider name: martín gotzon, Rider ID: 563\n",
      "Rider_link: https://www.strava.com/athletes/15718993, Rider name: minali riccardo, Rider ID: 590\n",
      "Rider_link: https://www.strava.com/athletes/14227221, Rider name: mirza yousif, Rider ID: 591\n",
      "Rider_link: https://www.strava.com/athletes/9836996, Rider name: molano juan sebastián, Rider ID: 594\n",
      "Rider_link: https://www.strava.com/athletes/21235737, Rider name: nakane hideto, Rider ID: 621\n",
      "Rider_link: https://www.strava.com/pros/12243285, Rider name: neilands krists, Rider ID: 624\n",
      "Rider_link: https://www.strava.com/athletes/3520134, Rider name: oliveira ivo, Rider ID: 642\n",
      "Rider_link: https://www.strava.com/athletes/812782, Rider name: perry benjamin, Rider ID: 678\n",
      "Rider_link: https://www.strava.com/athletes/6800300, Rider name: pozzovivo domenico, Rider ID: 704\n",
      "Rider_link: https://www.strava.com/athletes/13090041, Rider name: rubio einer augusto, Rider ID: 758\n",
      "Rider_link: https://www.strava.com/athletes/7309300, Rider name: rumac josip, Rider ID: 760\n",
      "Rider_link: https://www.strava.com/athletes/18777210, Rider name: scaroni cristian, Rider ID: 780\n",
      "Rider_link: https://www.strava.com/athletes/994688, Rider name: skaarseth anders, Rider ID: 811\n",
      "Rider_link: https://www.strava.com/athletes/8901896, Rider name: stalnov nikita, Rider ID: 825\n",
      "Rider_link: https://www.strava.com/athletes/13682757, Rider name: urianstad martin, Rider ID: 884\n",
      "Rider_link: https://www.strava.com/athletes/25407057, Rider name: valverde alejandro, Rider ID: 893\n",
      "Rider_link: https://www.strava.com/athletes/6547917, Rider name: venner quentin, Rider ID: 938\n",
      "Rider_link: https://www.strava.com/athletes/20187980, Rider name: vervloesem xandres, Rider ID: 947\n",
      "Rider_link: https://www.strava.com/athletes/2333960, Rider name: vliegen loïc, Rider ID: 960\n",
      "Rider_link: https://www.strava.com/pros/18849972, Rider name: wackermann luca, Rider ID: 962\n",
      "Rider_link: https://www.strava.com/athletes/39169689, Rider name: zana filippo, Rider ID: 992\n",
      "Rider_link: https://www.strava.com/activities/577057091, Rider name: zeits andrey, Rider ID: 995\n"
     ]
    }
   ],
   "source": [
    "get_activities = GetActivities(usernames[1], riders)\n",
    "get_activities.extract_activities()"
   ]
  },
  {
   "cell_type": "markdown",
   "id": "0bc308e4",
   "metadata": {},
   "source": [
    "### Save riders with pickle"
   ]
  },
  {
   "cell_type": "code",
   "execution_count": 9,
   "id": "c09de658",
   "metadata": {},
   "outputs": [
    {
     "name": "stdout",
     "output_type": "stream",
     "text": [
      "553\n"
     ]
    }
   ],
   "source": [
    "riders_pickle =  open('data/riders.pickle', 'rb')\n",
    "riders_missing = get_activities.riders\n",
    "riders = pk.load(riders_pickle)\n",
    "riders = riders + riders_missing\n",
    "riders.sort(key=lambda x: x.rider_id)\n",
    "print(len(riders))"
   ]
  },
  {
   "cell_type": "code",
   "execution_count": 10,
   "id": "4f00a27f",
   "metadata": {},
   "outputs": [],
   "source": [
    "with open('data/riders.pickle', 'wb') as handle:\n",
    "    pk.dump(riders, handle, protocol=pk.HIGHEST_PROTOCOL)\n",
    "    "
   ]
  },
  {
   "cell_type": "markdown",
   "id": "f2c59f2b",
   "metadata": {},
   "source": [
    "### Extract all activities from the link previously fetched"
   ]
  },
  {
   "cell_type": "code",
   "execution_count": 11,
   "id": "130b2cfc-4697-4087-bd6a-1708e77cdae6",
   "metadata": {},
   "outputs": [
    {
     "name": "stdout",
     "output_type": "stream",
     "text": [
      "35\n"
     ]
    },
    {
     "data": {
      "text/plain": [
       "6"
      ]
     },
     "execution_count": 11,
     "metadata": {},
     "output_type": "execute_result"
    }
   ],
   "source": [
    "# filter ISN riders\n",
    "isn_riders_id = list(pd.read_csv(\"data/ISN_cyclists.csv\").cyclist_id)\n",
    "riders_pickle =  open('data/riders.pickle', 'rb')\n",
    "riders_extracted_pickle = open('data/isn_riders_2021_to_2018.pickle', 'rb')\n",
    "riders = pk.load(riders_pickle)\n",
    "riders_extracted = pk.load(riders_extracted_pickle)\n",
    "\n",
    "temp = []\n",
    "for rider in riders:\n",
    "    if rider.rider_id in isn_riders_id:\n",
    "        temp.append(rider)\n",
    "riders = temp\n",
    "\n",
    "isn_ids_extracted = [rider.rider_id for rider in riders_extracted]\n",
    "print(len(isn_ids_extracted))\n",
    "riders_missing = [rider for rider in riders if rider.rider_id not in isn_ids_extracted]\n",
    "\n",
    "len(riders_missing)"
   ]
  },
  {
   "cell_type": "code",
   "execution_count": 44,
   "id": "8a51248c",
   "metadata": {},
   "outputs": [
    {
     "data": {
      "text/plain": [
       "41"
      ]
     },
     "execution_count": 44,
     "metadata": {},
     "output_type": "execute_result"
    }
   ],
   "source": [
    "isn_riders_pickle = open('data/isn_riders_2021_to_2018.pickle', 'rb')\n",
    "isn_riders = pk.load(isn_riders_pickle)\n",
    "len(isn_riders)"
   ]
  },
  {
   "cell_type": "code",
   "execution_count": 47,
   "id": "3248ac76",
   "metadata": {},
   "outputs": [],
   "source": [
    "get_activities = GetActivities(usernames[1], isn_riders, years=[2015,2016,2017])"
   ]
  },
  {
   "cell_type": "code",
   "execution_count": 48,
   "id": "e5253982",
   "metadata": {},
   "outputs": [
    {
     "name": "stdout",
     "output_type": "stream",
     "text": [
      "https://www.strava.com/onboarding\n",
      "finished rider: 78, number of activities: 1580\n",
      "finished rider: 283, number of activities: 413\n",
      "finished rider: 291, number of activities: 1304\n",
      "finished rider: 590, number of activities: 327\n",
      "finished rider: 624, number of activities: 119\n",
      "finished rider: 678, number of activities: 677\n",
      "finished rider: 40, number of activities: 1366\n",
      "finished rider: 56, number of activities: 201\n",
      "finished rider: 101, number of activities: 130\n",
      "finished rider: 114, number of activities: 1891\n",
      "finished rider: 130, number of activities: 839\n",
      "finished rider: 160, number of activities: 1136\n",
      "finished rider: 170, number of activities: 1425\n",
      "finished rider: 266, number of activities: 1765\n",
      "finished rider: 275, number of activities: 1728\n",
      "finished rider: 326, number of activities: 212\n",
      "finished rider: 367, number of activities: 321\n",
      "finished rider: 377, number of activities: 1373\n",
      "finished rider: 411, number of activities: 133\n",
      "finished rider: 427, number of activities: 387\n",
      "finished rider: 456, number of activities: 874\n",
      "finished rider: 459, number of activities: 996\n",
      "finished rider: 575, number of activities: 1231\n",
      "finished rider: 631, number of activities: 1762\n",
      "finished rider: 687, number of activities: 1238\n",
      "finished rider: 718, number of activities: 1257\n",
      "finished rider: 779, number of activities: 660\n",
      "finished rider: 784, number of activities: 1770\n",
      "finished rider: 876, number of activities: 1538\n",
      "finished rider: 887, number of activities: 1084\n",
      "finished rider: 895, number of activities: 1664\n",
      "finished rider: 924, number of activities: 793\n",
      "finished rider: 981, number of activities: 1441\n",
      "finished rider: 984, number of activities: 1577\n",
      "finished rider: 988, number of activities: 1362\n",
      "finished rider: 191, number of activities: 474\n",
      "finished rider: 238, number of activities: 728\n",
      "finished rider: 393, number of activities: 1379\n",
      "finished rider: 428, number of activities: 1053\n",
      "finished rider: 440, number of activities: 1453\n",
      "finished rider: 699, number of activities: 884\n"
     ]
    }
   ],
   "source": [
    "get_activities.run()"
   ]
  },
  {
   "cell_type": "code",
   "execution_count": 51,
   "id": "610af26f",
   "metadata": {},
   "outputs": [
    {
     "data": {
      "text/plain": [
       "41"
      ]
     },
     "execution_count": 51,
     "metadata": {},
     "output_type": "execute_result"
    }
   ],
   "source": [
    "riders_extracted_pickle = open('data/isn_riders.pickle', 'rb')\n",
    "riders_extracted = pk.load(riders_extracted_pickle)\n",
    "len(riders_extracted)"
   ]
  },
  {
   "cell_type": "code",
   "execution_count": 27,
   "id": "ba7ce638",
   "metadata": {},
   "outputs": [
    {
     "data": {
      "text/plain": [
       "41"
      ]
     },
     "execution_count": 27,
     "metadata": {},
     "output_type": "execute_result"
    }
   ],
   "source": [
    "riders = get_activities.riders + riders_extracted\n",
    "len(riders)"
   ]
  },
  {
   "cell_type": "code",
   "execution_count": 50,
   "id": "cf61558b",
   "metadata": {},
   "outputs": [
    {
     "data": {
      "text/plain": [
       "42545"
      ]
     },
     "execution_count": 50,
     "metadata": {},
     "output_type": "execute_result"
    }
   ],
   "source": [
    "total_activities = 0\n",
    "for rider in get_activities.riders:\n",
    "    total_activities += len(rider.activity_links)\n",
    "total_activities"
   ]
  },
  {
   "cell_type": "code",
   "execution_count": 49,
   "id": "653eef91-f1c7-424e-8cff-36f553936411",
   "metadata": {},
   "outputs": [],
   "source": [
    "with open('data/isn_riders.pickle', 'wb') as handle:\n",
    "    pk.dump(get_activities.riders, handle, protocol=pk.HIGHEST_PROTOCOL)"
   ]
  },
  {
   "cell_type": "code",
   "execution_count": 9,
   "id": "6df59c12",
   "metadata": {},
   "outputs": [],
   "source": [
    "with open('data/riders_2021_to_2018.pickle', 'wb') as handle:\n",
    "    pk.dump(get_activities.riders, handle, protocol=pk.HIGHEST_PROTOCOL)"
   ]
  },
  {
   "cell_type": "code",
   "execution_count": 17,
   "id": "95408c10",
   "metadata": {
    "scrolled": true
   },
   "outputs": [
    {
     "name": "stdout",
     "output_type": "stream",
     "text": [
      "{'https://www.strava.com/activities/1713376858', 'https://www.strava.com/activities/1700189665', 'https://www.strava.com/activities/1727428361', 'https://www.strava.com/activities/1735660156', 'https://www.strava.com/activities/1704519839'}\n",
      "https://www.strava.com/pros/2276607\n"
     ]
    }
   ],
   "source": [
    "r "
   ]
  },
  {
   "cell_type": "markdown",
   "id": "c8b2eaa4",
   "metadata": {},
   "source": [
    "## Finish"
   ]
  },
  {
   "cell_type": "code",
   "execution_count": 82,
   "id": "7907c57f",
   "metadata": {},
   "outputs": [],
   "source": [
    "pickle = pickle.dumps(get_activities.riders)"
   ]
  },
  {
   "cell_type": "code",
   "execution_count": 88,
   "id": "5875a3a5",
   "metadata": {},
   "outputs": [],
   "source": [
    "with open('data/riders.pickle', 'wb') as handle:\n",
    "    pk.dump(get_activities.riders, handle, protocol=pk.HIGHEST_PROTOCOL)"
   ]
  },
  {
   "cell_type": "code",
   "execution_count": 89,
   "id": "8433d62c-2f83-4d8d-8852-cf72b2bded5e",
   "metadata": {},
   "outputs": [],
   "source": [
    "with open('data/riders.pickle', 'rb') as handle:\n",
    "    riders = pk.load(handle)"
   ]
  },
  {
   "cell_type": "code",
   "execution_count": 92,
   "id": "fe4d0f0c",
   "metadata": {},
   "outputs": [
    {
     "name": "stdout",
     "output_type": "stream",
     "text": [
      "433\n"
     ]
    }
   ],
   "source": []
  },
  {
   "cell_type": "code",
   "execution_count": null,
   "id": "d5b09137",
   "metadata": {},
   "outputs": [],
   "source": []
  }
 ],
 "metadata": {
  "kernelspec": {
   "display_name": "Python 3",
   "language": "python",
   "name": "python3"
  },
  "language_info": {
   "codemirror_mode": {
    "name": "ipython",
    "version": 3
   },
   "file_extension": ".py",
   "mimetype": "text/x-python",
   "name": "python",
   "nbconvert_exporter": "python",
   "pygments_lexer": "ipython3",
   "version": "3.8.0"
  }
 },
 "nbformat": 4,
 "nbformat_minor": 5
}
