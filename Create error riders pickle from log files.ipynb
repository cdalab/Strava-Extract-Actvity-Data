{
 "cells": [
  {
   "cell_type": "code",
   "execution_count": 3,
   "id": "cfca8d34",
   "metadata": {},
   "outputs": [],
   "source": [
    "import re\n",
    "import glob\n",
    "import pickle5 as pk\n",
    "from rider import Rider\n",
    "import copy"
   ]
  },
  {
   "cell_type": "code",
   "execution_count": 26,
   "id": "b819cad8",
   "metadata": {},
   "outputs": [],
   "source": [
    "path = r'logs/'\n",
    "all_files = glob.glob(path + \"/*.txt\")\n"
   ]
  },
  {
   "cell_type": "markdown",
   "id": "1e602e4c",
   "metadata": {},
   "source": [
    "# Old ISN log files"
   ]
  },
  {
   "cell_type": "code",
   "execution_count": null,
   "id": "9b55f718",
   "metadata": {},
   "outputs": [],
   "source": [
    "riders_pickle = open(f'ISN_riders.pickle', 'rb')\n",
    "isn_riders = pk.load(riders_pickle)\n",
    "isn_riders_copy = copy.deepcopy(isn_riders)\n",
    "for copy_rider in isn_riders_copy:\n",
    "    copy_rider.activity_links = set()    \n",
    "\n",
    "for f in all_files:\n",
    "    indexes = f.split('_')\n",
    "    index_low = int(indexes[1])\n",
    "    index_high = int(indexes[2][:-4])\n",
    "    \n",
    "    total_links = 0\n",
    "    riders_indexes = {}\n",
    "    prev = 0\n",
    "    i = 0\n",
    "    for rider in isn_riders[index_low:index_high]:\n",
    "        prev = total_links \n",
    "        total_links += len(rider.activity_links)\n",
    "        riders_indexes[rider.rider_id] = f\"{prev}:{total_links}:{i+index_low}\"\n",
    "        i += 1\n",
    "    \n",
    "    text = open(f, \"r\")\n",
    "    \n",
    "    \n",
    "    for x in text:\n",
    "        info = x.split()\n",
    "        \n",
    "        if len(info) > 0 and info[0] == \"ERROR\" and \"BAD LINK\" in x:\n",
    "            try:\n",
    "                r_http = re.compile(\"https://.*/.*/[0-9]+\")\n",
    "                r_link_num = re.compile(\"[0-9]+ / [0-9]+\")\n",
    "                r_nums = r_link_num.search(x).group(0).split(' ')\n",
    "                link_num = r_nums[0]\n",
    "                total_links = r_nums[2]\n",
    "                link = r_http.search(x).group(0)[:-1]\n",
    "\n",
    "                for r_id, val in riders_indexes.items():\n",
    "                    indexes_splits = val.split(\":\")\n",
    "                    rider_index = int(indexes_splits[2])\n",
    "\n",
    "                    if link_num >= indexes_splits[0] and link_num < indexes_splits[1]:\n",
    "                        # add to rider\n",
    "\n",
    "\n",
    "                        isn_riders_copy[rider_index].activity_links.add(link)\n",
    "                \n",
    "                #print(link_num, total_links, link)\n",
    "            except:\n",
    "                continue"
   ]
  },
  {
   "cell_type": "code",
   "execution_count": 108,
   "id": "e2979313",
   "metadata": {},
   "outputs": [
    {
     "name": "stdout",
     "output_type": "stream",
     "text": [
      "2134\n"
     ]
    }
   ],
   "source": [
    "total_error = 0\n",
    "for copy_rider in isn_riders_copy:\n",
    "    total_error += len(copy_rider.activity_links)\n",
    "print(total_error)\n"
   ]
  },
  {
   "cell_type": "markdown",
   "id": "1dd7dc9c",
   "metadata": {},
   "source": [
    "# Upgraded Log file"
   ]
  },
  {
   "cell_type": "code",
   "execution_count": 27,
   "id": "cc9df9ad",
   "metadata": {},
   "outputs": [],
   "source": [
    "problematic_riders_ids = []\n",
    "\n",
    "# search for problematic riders ids...\n",
    "for f in all_files:\n",
    "    text = open(f, \"r\")\n",
    "    for x in text:\n",
    "        if \"Problematic rider\" in x:\n",
    "            info = x.split()\n",
    "            problematic_riders_ids.append(info[-1])\n",
    "    \n",
    "        "
   ]
  },
  {
   "cell_type": "code",
   "execution_count": null,
   "id": "9d5386ad",
   "metadata": {},
   "outputs": [],
   "source": [
    "riders_error_links = []\n",
    "\n",
    "for f in all_files:\n",
    "    text = open(f, \"r\")\n",
    "    \n",
    "    \n",
    "    for x in text:\n",
    "        info = x.split()\n",
    "        \n",
    "        \n",
    "        if \"WATCHING RIDER\" in x:\n",
    "            r_http = re.compile(\"https://.*/.*/[0-9]+\")\n",
    "            rider_link = r_http.search(x).group(0)[:-1]\n",
    "            rider = Rider(\"\", rider_link, info[-1])\n",
    "            riders_error_links.append(rider)\n",
    "        \n",
    "        \n",
    "        elif len(info) > 0 and info[0] == \"ERROR\" and \"BAD LINK\" in x:\n",
    "            try:\n",
    "                r_http = re.compile(\"https://.*/.*/[0-9]+\")\n",
    "                r_link_num = re.compile(\"[0-9]+ / [0-9]+\")\n",
    "                r_nums = r_link_num.search(x).group(0).split(' ')\n",
    "                link_num = r_nums[0]\n",
    "                total_links = r_nums[2]\n",
    "                link = r_http.search(x).group(0)[:-1]\n",
    "\n",
    "                for r_id, val in riders_indexes.items():\n",
    "                    indexes_splits = val.split(\":\")\n",
    "                    rider_index = int(indexes_splits[2])\n",
    "\n",
    "                    if link_num >= indexes_splits[0] and link_num < indexes_splits[1]:\n",
    "                        # add to rider\n",
    "                        riders_error_links[-1].activity_links.add(link)\n",
    "                \n",
    "                #print(link_num, total_links, link)\n",
    "            except:\n",
    "                continue"
   ]
  },
  {
   "cell_type": "code",
   "execution_count": 32,
   "id": "58588207",
   "metadata": {},
   "outputs": [],
   "source": [
    "a = \"INFO 2021-08-17 08:09:30 WATCHING RIDER: Rider_link: https://www.strava.com/pros/2716222, Rider name: turek daniel, Rider ID: 876\"\n",
    "info = a.split()\n",
    "r_http = re.compile(\"https://.*/.*/[0-9]+\")\n",
    "rider_link = r_http.search(a).group(0)[:-1]\n",
    "rider = Rider(\"\",rider_link, info[-1])\n",
    "\n",
    "\n",
    "    "
   ]
  },
  {
   "cell_type": "code",
   "execution_count": 33,
   "id": "b0040852",
   "metadata": {},
   "outputs": [
    {
     "data": {
      "text/plain": [
       "Rider_link: https://www.strava.com/pros/271622, Rider name: , Rider ID: 876"
      ]
     },
     "execution_count": 33,
     "metadata": {},
     "output_type": "execute_result"
    }
   ],
   "source": [
    "rider"
   ]
  },
  {
   "cell_type": "code",
   "execution_count": null,
   "id": "dc6ee8e9",
   "metadata": {},
   "outputs": [],
   "source": []
  }
 ],
 "metadata": {
  "kernelspec": {
   "display_name": "Python 3 (ipykernel)",
   "language": "python",
   "name": "python3"
  },
  "language_info": {
   "codemirror_mode": {
    "name": "ipython",
    "version": 3
   },
   "file_extension": ".py",
   "mimetype": "text/x-python",
   "name": "python",
   "nbconvert_exporter": "python",
   "pygments_lexer": "ipython3",
   "version": "3.7.9"
  }
 },
 "nbformat": 4,
 "nbformat_minor": 5
}
