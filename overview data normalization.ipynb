{
 "cells": [
  {
   "cell_type": "code",
   "execution_count": 89,
   "metadata": {
    "collapsed": true
   },
   "outputs": [
    {
     "data": {
      "text/plain": "    rider_id  activity_id                                               data\n0  2006007.0   1611279159  {'Date': 'Wednesday, May 30, 2018', 'Location'...\n1  2006007.0   1611279670  {'Date': 'Thursday, May 31, 2018', 'Location':...\n2  2006007.0   1611280022  {'Date': 'Friday, June 1, 2018', 'Location': '...\n3  2006007.0   1611540996  {'Date': 'Saturday, June 2, 2018', 'Location':...\n4  2006007.0   1612080421  {'Date': 'Wednesday, March 7, 2018', 'Location...",
      "text/html": "<div>\n<style scoped>\n    .dataframe tbody tr th:only-of-type {\n        vertical-align: middle;\n    }\n\n    .dataframe tbody tr th {\n        vertical-align: top;\n    }\n\n    .dataframe thead th {\n        text-align: right;\n    }\n</style>\n<table border=\"1\" class=\"dataframe\">\n  <thead>\n    <tr style=\"text-align: right;\">\n      <th></th>\n      <th>rider_id</th>\n      <th>activity_id</th>\n      <th>data</th>\n    </tr>\n  </thead>\n  <tbody>\n    <tr>\n      <th>0</th>\n      <td>2006007.0</td>\n      <td>1611279159</td>\n      <td>{'Date': 'Wednesday, May 30, 2018', 'Location'...</td>\n    </tr>\n    <tr>\n      <th>1</th>\n      <td>2006007.0</td>\n      <td>1611279670</td>\n      <td>{'Date': 'Thursday, May 31, 2018', 'Location':...</td>\n    </tr>\n    <tr>\n      <th>2</th>\n      <td>2006007.0</td>\n      <td>1611280022</td>\n      <td>{'Date': 'Friday, June 1, 2018', 'Location': '...</td>\n    </tr>\n    <tr>\n      <th>3</th>\n      <td>2006007.0</td>\n      <td>1611540996</td>\n      <td>{'Date': 'Saturday, June 2, 2018', 'Location':...</td>\n    </tr>\n    <tr>\n      <th>4</th>\n      <td>2006007.0</td>\n      <td>1612080421</td>\n      <td>{'Date': 'Wednesday, March 7, 2018', 'Location...</td>\n    </tr>\n  </tbody>\n</table>\n</div>"
     },
     "execution_count": 89,
     "metadata": {},
     "output_type": "execute_result"
    }
   ],
   "source": [
    "\n",
    "import pandas as pd\n",
    "import json\n",
    "activities_df = pd.read_csv('data/overview_data.csv')\n",
    "activities_df['data']=activities_df['data'].apply(json.loads)\n",
    "activities_df.head()"
   ]
  },
  {
   "cell_type": "code",
   "execution_count": 98,
   "outputs": [
    {
     "data": {
      "text/plain": "      rider_id  activity_id                          Date         Location  \\\n0     384548.0   1025594076          Monday, June 5, 2017   Hürth, Germany   \n1     384548.0   1025596963       Wednesday, June 7, 2017   Hürth, Germany   \n2     384548.0   1026449115        Thursday, June 8, 2017             None   \n3     384548.0   1026853801        Thursday, June 8, 2017   Hürth, Germany   \n4     384548.0   1027844939          Friday, June 9, 2017   Hürth, Germany   \n...        ...          ...                           ...              ...   \n5384  384548.0    990524952         Tuesday, May 16, 2017    Assisi, Italy   \n5385  384548.0    993670796       Wednesday, May 17, 2017  Florence, Italy   \n5386  384548.0    995154393        Thursday, May 18, 2017     Forlì, Italy   \n5387  384548.0   4323093460  Wednesday, November 11, 2020   Hürth, Germany   \n5388  384548.0   4941519106      Saturday, March 13, 2021  Gilette, France   \n\n      Distance  Moving Time  Elevation  Relative Effort  Weighted Avg Power  \\\n0        80.11        2.650      366.0             29.0               219.0   \n1        44.39        2.115      314.0             19.0               201.0   \n2         0.58        0.236        2.0             13.0               245.0   \n3       121.20        3.878      878.0             52.0               245.0   \n4        62.32        1.982      242.0              NaN               234.0   \n...        ...          ...        ...              ...                 ...   \n5384     19.05        0.661       93.0              6.0               219.0   \n5385    158.84        4.814     3674.0              NaN               342.0   \n5386    229.43        5.361     1686.0              NaN               282.0   \n5387     51.90        2.221      579.0             35.0                 NaN   \n5388    121.07        3.628     2879.0              NaN               270.0   \n\n      AvgSpeed  ...  Total Work  MaxPower  Speed  Perceived Exertion  \\\n0         30.2  ...         NaN       NaN    NaN                 NaN   \n1         21.0  ...         NaN       NaN    NaN                 NaN   \n2          2.5  ...         NaN       NaN    NaN                 NaN   \n3         31.3  ...         NaN       NaN    NaN                 NaN   \n4         31.4  ...         NaN       NaN    NaN                 NaN   \n...        ...  ...         ...       ...    ...                 ...   \n5384      28.8  ...         NaN       NaN    NaN                 NaN   \n5385      33.0  ...         NaN       NaN    NaN                 NaN   \n5386      42.8  ...         NaN       NaN    NaN                 NaN   \n5387      23.4  ...         NaN       NaN    NaN            Moderate   \n5388      33.4  ...      2975.0    1565.0    NaN                Easy   \n\n            Weather  Humidity Feels like  Wind Speed Wind Direction  \\\n0               NaN       NaN        NaN         NaN            NaN   \n1               NaN       NaN        NaN         NaN            NaN   \n2               NaN       NaN        NaN         NaN            NaN   \n3               NaN       NaN        NaN         NaN            NaN   \n4               NaN       NaN        NaN         NaN            NaN   \n...             ...       ...        ...         ...            ...   \n5384            NaN       NaN        NaN         NaN            NaN   \n5385            NaN       NaN        NaN         NaN            NaN   \n5386            NaN       NaN        NaN         NaN            NaN   \n5387  Partly Cloudy       79%         14         7.5             SE   \n5388          Clear       25%         12         4.4             SW   \n\n      activity_type  \n0              Ride  \n1              Ride  \n2               NaN  \n3              Ride  \n4              Ride  \n...             ...  \n5384           Ride  \n5385           Ride  \n5386           Ride  \n5387           Ride  \n5388           Ride  \n\n[5389 rows x 36 columns]",
      "text/html": "<div>\n<style scoped>\n    .dataframe tbody tr th:only-of-type {\n        vertical-align: middle;\n    }\n\n    .dataframe tbody tr th {\n        vertical-align: top;\n    }\n\n    .dataframe thead th {\n        text-align: right;\n    }\n</style>\n<table border=\"1\" class=\"dataframe\">\n  <thead>\n    <tr style=\"text-align: right;\">\n      <th></th>\n      <th>rider_id</th>\n      <th>activity_id</th>\n      <th>Date</th>\n      <th>Location</th>\n      <th>Distance</th>\n      <th>Moving Time</th>\n      <th>Elevation</th>\n      <th>Relative Effort</th>\n      <th>Weighted Avg Power</th>\n      <th>AvgSpeed</th>\n      <th>...</th>\n      <th>Total Work</th>\n      <th>MaxPower</th>\n      <th>Speed</th>\n      <th>Perceived Exertion</th>\n      <th>Weather</th>\n      <th>Humidity</th>\n      <th>Feels like</th>\n      <th>Wind Speed</th>\n      <th>Wind Direction</th>\n      <th>activity_type</th>\n    </tr>\n  </thead>\n  <tbody>\n    <tr>\n      <th>0</th>\n      <td>384548.0</td>\n      <td>1025594076</td>\n      <td>Monday, June 5, 2017</td>\n      <td>Hürth, Germany</td>\n      <td>80.11</td>\n      <td>2.650</td>\n      <td>366.0</td>\n      <td>29.0</td>\n      <td>219.0</td>\n      <td>30.2</td>\n      <td>...</td>\n      <td>NaN</td>\n      <td>NaN</td>\n      <td>NaN</td>\n      <td>NaN</td>\n      <td>NaN</td>\n      <td>NaN</td>\n      <td>NaN</td>\n      <td>NaN</td>\n      <td>NaN</td>\n      <td>Ride</td>\n    </tr>\n    <tr>\n      <th>1</th>\n      <td>384548.0</td>\n      <td>1025596963</td>\n      <td>Wednesday, June 7, 2017</td>\n      <td>Hürth, Germany</td>\n      <td>44.39</td>\n      <td>2.115</td>\n      <td>314.0</td>\n      <td>19.0</td>\n      <td>201.0</td>\n      <td>21.0</td>\n      <td>...</td>\n      <td>NaN</td>\n      <td>NaN</td>\n      <td>NaN</td>\n      <td>NaN</td>\n      <td>NaN</td>\n      <td>NaN</td>\n      <td>NaN</td>\n      <td>NaN</td>\n      <td>NaN</td>\n      <td>Ride</td>\n    </tr>\n    <tr>\n      <th>2</th>\n      <td>384548.0</td>\n      <td>1026449115</td>\n      <td>Thursday, June 8, 2017</td>\n      <td>None</td>\n      <td>0.58</td>\n      <td>0.236</td>\n      <td>2.0</td>\n      <td>13.0</td>\n      <td>245.0</td>\n      <td>2.5</td>\n      <td>...</td>\n      <td>NaN</td>\n      <td>NaN</td>\n      <td>NaN</td>\n      <td>NaN</td>\n      <td>NaN</td>\n      <td>NaN</td>\n      <td>NaN</td>\n      <td>NaN</td>\n      <td>NaN</td>\n      <td>NaN</td>\n    </tr>\n    <tr>\n      <th>3</th>\n      <td>384548.0</td>\n      <td>1026853801</td>\n      <td>Thursday, June 8, 2017</td>\n      <td>Hürth, Germany</td>\n      <td>121.20</td>\n      <td>3.878</td>\n      <td>878.0</td>\n      <td>52.0</td>\n      <td>245.0</td>\n      <td>31.3</td>\n      <td>...</td>\n      <td>NaN</td>\n      <td>NaN</td>\n      <td>NaN</td>\n      <td>NaN</td>\n      <td>NaN</td>\n      <td>NaN</td>\n      <td>NaN</td>\n      <td>NaN</td>\n      <td>NaN</td>\n      <td>Ride</td>\n    </tr>\n    <tr>\n      <th>4</th>\n      <td>384548.0</td>\n      <td>1027844939</td>\n      <td>Friday, June 9, 2017</td>\n      <td>Hürth, Germany</td>\n      <td>62.32</td>\n      <td>1.982</td>\n      <td>242.0</td>\n      <td>NaN</td>\n      <td>234.0</td>\n      <td>31.4</td>\n      <td>...</td>\n      <td>NaN</td>\n      <td>NaN</td>\n      <td>NaN</td>\n      <td>NaN</td>\n      <td>NaN</td>\n      <td>NaN</td>\n      <td>NaN</td>\n      <td>NaN</td>\n      <td>NaN</td>\n      <td>Ride</td>\n    </tr>\n    <tr>\n      <th>...</th>\n      <td>...</td>\n      <td>...</td>\n      <td>...</td>\n      <td>...</td>\n      <td>...</td>\n      <td>...</td>\n      <td>...</td>\n      <td>...</td>\n      <td>...</td>\n      <td>...</td>\n      <td>...</td>\n      <td>...</td>\n      <td>...</td>\n      <td>...</td>\n      <td>...</td>\n      <td>...</td>\n      <td>...</td>\n      <td>...</td>\n      <td>...</td>\n      <td>...</td>\n      <td>...</td>\n    </tr>\n    <tr>\n      <th>5384</th>\n      <td>384548.0</td>\n      <td>990524952</td>\n      <td>Tuesday, May 16, 2017</td>\n      <td>Assisi, Italy</td>\n      <td>19.05</td>\n      <td>0.661</td>\n      <td>93.0</td>\n      <td>6.0</td>\n      <td>219.0</td>\n      <td>28.8</td>\n      <td>...</td>\n      <td>NaN</td>\n      <td>NaN</td>\n      <td>NaN</td>\n      <td>NaN</td>\n      <td>NaN</td>\n      <td>NaN</td>\n      <td>NaN</td>\n      <td>NaN</td>\n      <td>NaN</td>\n      <td>Ride</td>\n    </tr>\n    <tr>\n      <th>5385</th>\n      <td>384548.0</td>\n      <td>993670796</td>\n      <td>Wednesday, May 17, 2017</td>\n      <td>Florence, Italy</td>\n      <td>158.84</td>\n      <td>4.814</td>\n      <td>3674.0</td>\n      <td>NaN</td>\n      <td>342.0</td>\n      <td>33.0</td>\n      <td>...</td>\n      <td>NaN</td>\n      <td>NaN</td>\n      <td>NaN</td>\n      <td>NaN</td>\n      <td>NaN</td>\n      <td>NaN</td>\n      <td>NaN</td>\n      <td>NaN</td>\n      <td>NaN</td>\n      <td>Ride</td>\n    </tr>\n    <tr>\n      <th>5386</th>\n      <td>384548.0</td>\n      <td>995154393</td>\n      <td>Thursday, May 18, 2017</td>\n      <td>Forlì, Italy</td>\n      <td>229.43</td>\n      <td>5.361</td>\n      <td>1686.0</td>\n      <td>NaN</td>\n      <td>282.0</td>\n      <td>42.8</td>\n      <td>...</td>\n      <td>NaN</td>\n      <td>NaN</td>\n      <td>NaN</td>\n      <td>NaN</td>\n      <td>NaN</td>\n      <td>NaN</td>\n      <td>NaN</td>\n      <td>NaN</td>\n      <td>NaN</td>\n      <td>Ride</td>\n    </tr>\n    <tr>\n      <th>5387</th>\n      <td>384548.0</td>\n      <td>4323093460</td>\n      <td>Wednesday, November 11, 2020</td>\n      <td>Hürth, Germany</td>\n      <td>51.90</td>\n      <td>2.221</td>\n      <td>579.0</td>\n      <td>35.0</td>\n      <td>NaN</td>\n      <td>23.4</td>\n      <td>...</td>\n      <td>NaN</td>\n      <td>NaN</td>\n      <td>NaN</td>\n      <td>Moderate</td>\n      <td>Partly Cloudy</td>\n      <td>79%</td>\n      <td>14</td>\n      <td>7.5</td>\n      <td>SE</td>\n      <td>Ride</td>\n    </tr>\n    <tr>\n      <th>5388</th>\n      <td>384548.0</td>\n      <td>4941519106</td>\n      <td>Saturday, March 13, 2021</td>\n      <td>Gilette, France</td>\n      <td>121.07</td>\n      <td>3.628</td>\n      <td>2879.0</td>\n      <td>NaN</td>\n      <td>270.0</td>\n      <td>33.4</td>\n      <td>...</td>\n      <td>2975.0</td>\n      <td>1565.0</td>\n      <td>NaN</td>\n      <td>Easy</td>\n      <td>Clear</td>\n      <td>25%</td>\n      <td>12</td>\n      <td>4.4</td>\n      <td>SW</td>\n      <td>Ride</td>\n    </tr>\n  </tbody>\n</table>\n<p>5389 rows × 36 columns</p>\n</div>"
     },
     "execution_count": 98,
     "metadata": {},
     "output_type": "execute_result"
    }
   ],
   "source": [
    "data_path = \"C:\\\\Users\\\\User\\OneDrive - post.bgu.ac.il\\STRAVA data\\data\"\n",
    "\n",
    "data_df  = pd.read_csv(f\"{data_path}\\\\11\\overview_data.csv\")\n",
    "types_df  = pd.read_csv(f\"{data_path}\\\\11\\\\activity_analysis_links.csv\")\n",
    "types_dict = {k:v for k,v in zip(types_df['activity_id'],types_df['activity_type'])}\n",
    "data_df['data']=data_df['data'].apply(json.loads)\n",
    "norm_data_df = pd.json_normalize(data_df['data'], max_level=1)\n",
    "full_df = pd.concat([data_df,norm_data_df],axis=1).drop('data',1)\n",
    "full_df['activity_type'] = full_df['activity_id'].map(types_dict)\n",
    "full_df"
   ],
   "metadata": {
    "collapsed": false,
    "pycharm": {
     "name": "#%%\n"
    }
   }
  },
  {
   "cell_type": "code",
   "execution_count": 101,
   "outputs": [
    {
     "data": {
      "text/plain": "{'Intensity', 'Training Load', 'activity_id', 'activity_type', 'rider_id'}"
     },
     "execution_count": 101,
     "metadata": {},
     "output_type": "execute_result"
    }
   ],
   "source": [
    "WORKOUTS_STRAVA_COLS = ['rider_id','activity_id','activity_type','Date','Duration','Location', 'Moving Time','MaxSpeed',\n",
    "                        'Relative Effort', 'Distance', 'Elevation', 'AvgCadence', 'Temperature', 'AvgHeart Rate', 'Intensity',\n",
    "                        'Historic Relative Effort', 'Elapsed Time', 'Calories', 'AvgSpeed', 'MaxCadence', 'AvgPower', 'Massive Relative Effort',\n",
    "                        'MaxPower', 'Tough Relative Effort', 'Energy Output', 'Weighted Avg Power', 'Total Work', 'Device',\n",
    "                        'Training Load', 'MaxHeart Rate', 'Estimated Avg Power', 'Speed','Perceived Exertion','Feels like',\n",
    "                        'Humidity', 'Weather', 'Wind Direction', 'Wind Speed']\n",
    "\n",
    "set(WORKOUTS_STRAVA_COLS) - set(norm_data_df.columns)"
   ],
   "metadata": {
    "collapsed": false,
    "pycharm": {
     "name": "#%%\n"
    }
   }
  },
  {
   "cell_type": "code",
   "execution_count": 19,
   "outputs": [
    {
     "data": {
      "text/plain": "        rider_id  activity_id                      Date  \\\n0      2006007.0   1611279159   Wednesday, May 30, 2018   \n1      2006007.0   1611279670    Thursday, May 31, 2018   \n2      2006007.0   1611280022      Friday, June 1, 2018   \n3      2006007.0   1611540996    Saturday, June 2, 2018   \n4      2006007.0   1612080421  Wednesday, March 7, 2018   \n...          ...          ...                       ...   \n25047  3419730.0    985928850      Sunday, May 14, 2017   \n25048  3419730.0    993821572    Thursday, May 18, 2017   \n25049  3419730.0    996233460    Saturday, May 20, 2017   \n25050  3419730.0    996300307      Friday, May 19, 2017   \n25051  3419730.0    997795397      Sunday, May 21, 2017   \n\n                             Location  Distance  Moving Time  Elevation  \\\n0             Castelfiorentino, Italy     64.44        2.112      233.0   \n1             Castelfiorentino, Italy    100.43        3.367      764.0   \n2             Castelfiorentino, Italy     63.22        2.161      656.0   \n3             Castelfiorentino, Italy     42.59        1.482      103.0   \n4                     Camaiore, Italy      1.97        0.106        1.0   \n...                               ...       ...          ...        ...   \n25047              Railton, Australia     74.43        1.998     1154.0   \n25048                            None     56.90          NaN        NaN   \n25049  Invercargill City, New Zealand    110.02        3.974      394.0   \n25050                            None     22.00          NaN        NaN   \n25051  Invercargill City, New Zealand     91.48        2.841      328.0   \n\n       Weighted Avg Power  Total Work  AvgSpeed  ...  AvgHeart Rate  \\\n0                   149.0       994.0      30.5  ...            NaN   \n1                   216.0      1928.0      29.8  ...            NaN   \n2                   234.0      1207.0      29.3  ...            NaN   \n3                   117.0       585.0      28.7  ...            NaN   \n4                    71.0        25.0      18.7  ...            NaN   \n...                   ...         ...       ...  ...            ...   \n25047                 NaN         NaN      37.3  ...            NaN   \n25048                 NaN         NaN       NaN  ...            NaN   \n25049                 NaN         NaN      27.7  ...            NaN   \n25050                 NaN         NaN       NaN  ...            NaN   \n25051                 NaN         NaN      32.2  ...            NaN   \n\n       MaxHeart Rate  Training Load  Intensity  Relative Effort  \\\n0                NaN            NaN        NaN              NaN   \n1                NaN            NaN        NaN              NaN   \n2                NaN            NaN        NaN              NaN   \n3                NaN            NaN        NaN              NaN   \n4                NaN            NaN        NaN              NaN   \n...              ...            ...        ...              ...   \n25047            NaN            NaN        NaN              NaN   \n25048            NaN            NaN        NaN              NaN   \n25049            NaN            NaN        NaN              NaN   \n25050            NaN            NaN        NaN              NaN   \n25051            NaN            NaN        NaN              NaN   \n\n       Tough Relative Effort  Historic Relative Effort  \\\n0                        NaN                       NaN   \n1                        NaN                       NaN   \n2                        NaN                       NaN   \n3                        NaN                       NaN   \n4                        NaN                       NaN   \n...                      ...                       ...   \n25047                    NaN                       NaN   \n25048                    NaN                       NaN   \n25049                    NaN                       NaN   \n25050                    NaN                       NaN   \n25051                    NaN                       NaN   \n\n       Massive Relative Effort Duration  Speed  \n0                          NaN      NaN    NaN  \n1                          NaN      NaN    NaN  \n2                          NaN      NaN    NaN  \n3                          NaN      NaN    NaN  \n4                          NaN      NaN    NaN  \n...                        ...      ...    ...  \n25047                      NaN      NaN    NaN  \n25048                      NaN    1.767   32.2  \n25049                      NaN      NaN    NaN  \n25050                      NaN    1.783   12.3  \n25051                      NaN      NaN    NaN  \n\n[25052 rows x 31 columns]",
      "text/html": "<div>\n<style scoped>\n    .dataframe tbody tr th:only-of-type {\n        vertical-align: middle;\n    }\n\n    .dataframe tbody tr th {\n        vertical-align: top;\n    }\n\n    .dataframe thead th {\n        text-align: right;\n    }\n</style>\n<table border=\"1\" class=\"dataframe\">\n  <thead>\n    <tr style=\"text-align: right;\">\n      <th></th>\n      <th>rider_id</th>\n      <th>activity_id</th>\n      <th>Date</th>\n      <th>Location</th>\n      <th>Distance</th>\n      <th>Moving Time</th>\n      <th>Elevation</th>\n      <th>Weighted Avg Power</th>\n      <th>Total Work</th>\n      <th>AvgSpeed</th>\n      <th>...</th>\n      <th>AvgHeart Rate</th>\n      <th>MaxHeart Rate</th>\n      <th>Training Load</th>\n      <th>Intensity</th>\n      <th>Relative Effort</th>\n      <th>Tough Relative Effort</th>\n      <th>Historic Relative Effort</th>\n      <th>Massive Relative Effort</th>\n      <th>Duration</th>\n      <th>Speed</th>\n    </tr>\n  </thead>\n  <tbody>\n    <tr>\n      <th>0</th>\n      <td>2006007.0</td>\n      <td>1611279159</td>\n      <td>Wednesday, May 30, 2018</td>\n      <td>Castelfiorentino, Italy</td>\n      <td>64.44</td>\n      <td>2.112</td>\n      <td>233.0</td>\n      <td>149.0</td>\n      <td>994.0</td>\n      <td>30.5</td>\n      <td>...</td>\n      <td>NaN</td>\n      <td>NaN</td>\n      <td>NaN</td>\n      <td>NaN</td>\n      <td>NaN</td>\n      <td>NaN</td>\n      <td>NaN</td>\n      <td>NaN</td>\n      <td>NaN</td>\n      <td>NaN</td>\n    </tr>\n    <tr>\n      <th>1</th>\n      <td>2006007.0</td>\n      <td>1611279670</td>\n      <td>Thursday, May 31, 2018</td>\n      <td>Castelfiorentino, Italy</td>\n      <td>100.43</td>\n      <td>3.367</td>\n      <td>764.0</td>\n      <td>216.0</td>\n      <td>1928.0</td>\n      <td>29.8</td>\n      <td>...</td>\n      <td>NaN</td>\n      <td>NaN</td>\n      <td>NaN</td>\n      <td>NaN</td>\n      <td>NaN</td>\n      <td>NaN</td>\n      <td>NaN</td>\n      <td>NaN</td>\n      <td>NaN</td>\n      <td>NaN</td>\n    </tr>\n    <tr>\n      <th>2</th>\n      <td>2006007.0</td>\n      <td>1611280022</td>\n      <td>Friday, June 1, 2018</td>\n      <td>Castelfiorentino, Italy</td>\n      <td>63.22</td>\n      <td>2.161</td>\n      <td>656.0</td>\n      <td>234.0</td>\n      <td>1207.0</td>\n      <td>29.3</td>\n      <td>...</td>\n      <td>NaN</td>\n      <td>NaN</td>\n      <td>NaN</td>\n      <td>NaN</td>\n      <td>NaN</td>\n      <td>NaN</td>\n      <td>NaN</td>\n      <td>NaN</td>\n      <td>NaN</td>\n      <td>NaN</td>\n    </tr>\n    <tr>\n      <th>3</th>\n      <td>2006007.0</td>\n      <td>1611540996</td>\n      <td>Saturday, June 2, 2018</td>\n      <td>Castelfiorentino, Italy</td>\n      <td>42.59</td>\n      <td>1.482</td>\n      <td>103.0</td>\n      <td>117.0</td>\n      <td>585.0</td>\n      <td>28.7</td>\n      <td>...</td>\n      <td>NaN</td>\n      <td>NaN</td>\n      <td>NaN</td>\n      <td>NaN</td>\n      <td>NaN</td>\n      <td>NaN</td>\n      <td>NaN</td>\n      <td>NaN</td>\n      <td>NaN</td>\n      <td>NaN</td>\n    </tr>\n    <tr>\n      <th>4</th>\n      <td>2006007.0</td>\n      <td>1612080421</td>\n      <td>Wednesday, March 7, 2018</td>\n      <td>Camaiore, Italy</td>\n      <td>1.97</td>\n      <td>0.106</td>\n      <td>1.0</td>\n      <td>71.0</td>\n      <td>25.0</td>\n      <td>18.7</td>\n      <td>...</td>\n      <td>NaN</td>\n      <td>NaN</td>\n      <td>NaN</td>\n      <td>NaN</td>\n      <td>NaN</td>\n      <td>NaN</td>\n      <td>NaN</td>\n      <td>NaN</td>\n      <td>NaN</td>\n      <td>NaN</td>\n    </tr>\n    <tr>\n      <th>...</th>\n      <td>...</td>\n      <td>...</td>\n      <td>...</td>\n      <td>...</td>\n      <td>...</td>\n      <td>...</td>\n      <td>...</td>\n      <td>...</td>\n      <td>...</td>\n      <td>...</td>\n      <td>...</td>\n      <td>...</td>\n      <td>...</td>\n      <td>...</td>\n      <td>...</td>\n      <td>...</td>\n      <td>...</td>\n      <td>...</td>\n      <td>...</td>\n      <td>...</td>\n      <td>...</td>\n    </tr>\n    <tr>\n      <th>25047</th>\n      <td>3419730.0</td>\n      <td>985928850</td>\n      <td>Sunday, May 14, 2017</td>\n      <td>Railton, Australia</td>\n      <td>74.43</td>\n      <td>1.998</td>\n      <td>1154.0</td>\n      <td>NaN</td>\n      <td>NaN</td>\n      <td>37.3</td>\n      <td>...</td>\n      <td>NaN</td>\n      <td>NaN</td>\n      <td>NaN</td>\n      <td>NaN</td>\n      <td>NaN</td>\n      <td>NaN</td>\n      <td>NaN</td>\n      <td>NaN</td>\n      <td>NaN</td>\n      <td>NaN</td>\n    </tr>\n    <tr>\n      <th>25048</th>\n      <td>3419730.0</td>\n      <td>993821572</td>\n      <td>Thursday, May 18, 2017</td>\n      <td>None</td>\n      <td>56.90</td>\n      <td>NaN</td>\n      <td>NaN</td>\n      <td>NaN</td>\n      <td>NaN</td>\n      <td>NaN</td>\n      <td>...</td>\n      <td>NaN</td>\n      <td>NaN</td>\n      <td>NaN</td>\n      <td>NaN</td>\n      <td>NaN</td>\n      <td>NaN</td>\n      <td>NaN</td>\n      <td>NaN</td>\n      <td>1.767</td>\n      <td>32.2</td>\n    </tr>\n    <tr>\n      <th>25049</th>\n      <td>3419730.0</td>\n      <td>996233460</td>\n      <td>Saturday, May 20, 2017</td>\n      <td>Invercargill City, New Zealand</td>\n      <td>110.02</td>\n      <td>3.974</td>\n      <td>394.0</td>\n      <td>NaN</td>\n      <td>NaN</td>\n      <td>27.7</td>\n      <td>...</td>\n      <td>NaN</td>\n      <td>NaN</td>\n      <td>NaN</td>\n      <td>NaN</td>\n      <td>NaN</td>\n      <td>NaN</td>\n      <td>NaN</td>\n      <td>NaN</td>\n      <td>NaN</td>\n      <td>NaN</td>\n    </tr>\n    <tr>\n      <th>25050</th>\n      <td>3419730.0</td>\n      <td>996300307</td>\n      <td>Friday, May 19, 2017</td>\n      <td>None</td>\n      <td>22.00</td>\n      <td>NaN</td>\n      <td>NaN</td>\n      <td>NaN</td>\n      <td>NaN</td>\n      <td>NaN</td>\n      <td>...</td>\n      <td>NaN</td>\n      <td>NaN</td>\n      <td>NaN</td>\n      <td>NaN</td>\n      <td>NaN</td>\n      <td>NaN</td>\n      <td>NaN</td>\n      <td>NaN</td>\n      <td>1.783</td>\n      <td>12.3</td>\n    </tr>\n    <tr>\n      <th>25051</th>\n      <td>3419730.0</td>\n      <td>997795397</td>\n      <td>Sunday, May 21, 2017</td>\n      <td>Invercargill City, New Zealand</td>\n      <td>91.48</td>\n      <td>2.841</td>\n      <td>328.0</td>\n      <td>NaN</td>\n      <td>NaN</td>\n      <td>32.2</td>\n      <td>...</td>\n      <td>NaN</td>\n      <td>NaN</td>\n      <td>NaN</td>\n      <td>NaN</td>\n      <td>NaN</td>\n      <td>NaN</td>\n      <td>NaN</td>\n      <td>NaN</td>\n      <td>NaN</td>\n      <td>NaN</td>\n    </tr>\n  </tbody>\n</table>\n<p>25052 rows × 31 columns</p>\n</div>"
     },
     "execution_count": 19,
     "metadata": {},
     "output_type": "execute_result"
    }
   ],
   "source": [
    "full_df = pd.concat([activities_df,norm_data_df],axis=1).drop('data',1)\n",
    "full_df"
   ],
   "metadata": {
    "collapsed": false,
    "pycharm": {
     "name": "#%%\n"
    }
   }
  },
  {
   "cell_type": "code",
   "execution_count": 87,
   "outputs": [
    {
     "data": {
      "text/plain": "'Indoor Cycling'"
     },
     "execution_count": 87,
     "metadata": {},
     "output_type": "execute_result"
    }
   ],
   "source": [
    "types_df = pd.read_csv('link/activity_analysis_links.csv')\n",
    "types_df.head()\n",
    "types_dict = {k:v for k,v in zip(types_df['activity_id'],types_df['activity_type'])}\n",
    "types_df_2 = pd.read_csv('link/activity_link_types- full.csv')\n",
    "types_dict.update({k:v for k,v in zip(types_df_2['activity_id'],types_df_2['activity_type'])})\n",
    "types_dict[1612080511]"
   ],
   "metadata": {
    "collapsed": false,
    "pycharm": {
     "name": "#%%\n"
    }
   }
  },
  {
   "cell_type": "code",
   "execution_count": 21,
   "outputs": [],
   "source": [
    "full_df['activity_type'] = full_df['activity_id'].map(types_dict)"
   ],
   "metadata": {
    "collapsed": false,
    "pycharm": {
     "name": "#%%\n"
    }
   }
  },
  {
   "cell_type": "code",
   "execution_count": 24,
   "outputs": [
    {
     "data": {
      "text/plain": "Empty DataFrame\nColumns: [rider_id, activity_id, Date, Location, Distance, Moving Time, Elevation, Weighted Avg Power, Total Work, AvgSpeed, MaxSpeed, AvgCadence, MaxCadence, AvgPower, MaxPower, Calories, Temperature, Elapsed Time, Device, Estimated Avg Power, Energy Output, AvgHeart Rate, MaxHeart Rate, Training Load, Intensity, Relative Effort, Tough Relative Effort, Historic Relative Effort, Massive Relative Effort, Duration, Speed, activity_type]\nIndex: []\n\n[0 rows x 32 columns]",
      "text/html": "<div>\n<style scoped>\n    .dataframe tbody tr th:only-of-type {\n        vertical-align: middle;\n    }\n\n    .dataframe tbody tr th {\n        vertical-align: top;\n    }\n\n    .dataframe thead th {\n        text-align: right;\n    }\n</style>\n<table border=\"1\" class=\"dataframe\">\n  <thead>\n    <tr style=\"text-align: right;\">\n      <th></th>\n      <th>rider_id</th>\n      <th>activity_id</th>\n      <th>Date</th>\n      <th>Location</th>\n      <th>Distance</th>\n      <th>Moving Time</th>\n      <th>Elevation</th>\n      <th>Weighted Avg Power</th>\n      <th>Total Work</th>\n      <th>AvgSpeed</th>\n      <th>...</th>\n      <th>MaxHeart Rate</th>\n      <th>Training Load</th>\n      <th>Intensity</th>\n      <th>Relative Effort</th>\n      <th>Tough Relative Effort</th>\n      <th>Historic Relative Effort</th>\n      <th>Massive Relative Effort</th>\n      <th>Duration</th>\n      <th>Speed</th>\n      <th>activity_type</th>\n    </tr>\n  </thead>\n  <tbody>\n  </tbody>\n</table>\n<p>0 rows × 32 columns</p>\n</div>"
     },
     "execution_count": 24,
     "metadata": {},
     "output_type": "execute_result"
    }
   ],
   "source": [
    "full_df[full_df['activity_type'].isna()]"
   ],
   "metadata": {
    "collapsed": false,
    "pycharm": {
     "name": "#%%\n"
    }
   }
  },
  {
   "cell_type": "code",
   "execution_count": 23,
   "outputs": [],
   "source": [
    "# full_df.to_csv('./data/activity_data_draft.csv',index=False,header=True)"
   ],
   "metadata": {
    "collapsed": false,
    "pycharm": {
     "name": "#%%\n"
    }
   }
  },
  {
   "cell_type": "code",
   "execution_count": 25,
   "outputs": [
    {
     "data": {
      "text/plain": "        rider_id  activity_id                      Date  \\\n0      2006007.0   1611279159   Wednesday, May 30, 2018   \n1      2006007.0   1611279670    Thursday, May 31, 2018   \n2      2006007.0   1611280022      Friday, June 1, 2018   \n3      2006007.0   1611540996    Saturday, June 2, 2018   \n4      2006007.0   1612080421  Wednesday, March 7, 2018   \n...          ...          ...                       ...   \n25047  3419730.0    985928850      Sunday, May 14, 2017   \n25048  3419730.0    993821572    Thursday, May 18, 2017   \n25049  3419730.0    996233460    Saturday, May 20, 2017   \n25050  3419730.0    996300307      Friday, May 19, 2017   \n25051  3419730.0    997795397      Sunday, May 21, 2017   \n\n                             Location  Distance  Moving Time  Elevation  \\\n0             Castelfiorentino, Italy     64.44        2.112      233.0   \n1             Castelfiorentino, Italy    100.43        3.367      764.0   \n2             Castelfiorentino, Italy     63.22        2.161      656.0   \n3             Castelfiorentino, Italy     42.59        1.482      103.0   \n4                     Camaiore, Italy      1.97        0.106        1.0   \n...                               ...       ...          ...        ...   \n25047              Railton, Australia     74.43        1.998     1154.0   \n25048                            None     56.90          NaN        NaN   \n25049  Invercargill City, New Zealand    110.02        3.974      394.0   \n25050                            None     22.00          NaN        NaN   \n25051  Invercargill City, New Zealand     91.48        2.841      328.0   \n\n       Weighted Avg Power  Total Work  AvgSpeed  ...  MaxHeart Rate  \\\n0                   149.0       994.0      30.5  ...            NaN   \n1                   216.0      1928.0      29.8  ...            NaN   \n2                   234.0      1207.0      29.3  ...            NaN   \n3                   117.0       585.0      28.7  ...            NaN   \n4                    71.0        25.0      18.7  ...            NaN   \n...                   ...         ...       ...  ...            ...   \n25047                 NaN         NaN      37.3  ...            NaN   \n25048                 NaN         NaN       NaN  ...            NaN   \n25049                 NaN         NaN      27.7  ...            NaN   \n25050                 NaN         NaN       NaN  ...            NaN   \n25051                 NaN         NaN      32.2  ...            NaN   \n\n       Training Load  Intensity  Relative Effort  Tough Relative Effort  \\\n0                NaN        NaN              NaN                    NaN   \n1                NaN        NaN              NaN                    NaN   \n2                NaN        NaN              NaN                    NaN   \n3                NaN        NaN              NaN                    NaN   \n4                NaN        NaN              NaN                    NaN   \n...              ...        ...              ...                    ...   \n25047            NaN        NaN              NaN                    NaN   \n25048            NaN        NaN              NaN                    NaN   \n25049            NaN        NaN              NaN                    NaN   \n25050            NaN        NaN              NaN                    NaN   \n25051            NaN        NaN              NaN                    NaN   \n\n       Historic Relative Effort  Massive Relative Effort  Duration Speed  \\\n0                           NaN                      NaN       NaN   NaN   \n1                           NaN                      NaN       NaN   NaN   \n2                           NaN                      NaN       NaN   NaN   \n3                           NaN                      NaN       NaN   NaN   \n4                           NaN                      NaN       NaN   NaN   \n...                         ...                      ...       ...   ...   \n25047                       NaN                      NaN       NaN   NaN   \n25048                       NaN                      NaN     1.767  32.2   \n25049                       NaN                      NaN       NaN   NaN   \n25050                       NaN                      NaN     1.783  12.3   \n25051                       NaN                      NaN       NaN   NaN   \n\n       activity_type  \n0               Ride  \n1               Ride  \n2               Ride  \n3               Ride  \n4               Ride  \n...              ...  \n25047           Ride  \n25048           Ride  \n25049           Ride  \n25050           Ride  \n25051           Ride  \n\n[23208 rows x 32 columns]",
      "text/html": "<div>\n<style scoped>\n    .dataframe tbody tr th:only-of-type {\n        vertical-align: middle;\n    }\n\n    .dataframe tbody tr th {\n        vertical-align: top;\n    }\n\n    .dataframe thead th {\n        text-align: right;\n    }\n</style>\n<table border=\"1\" class=\"dataframe\">\n  <thead>\n    <tr style=\"text-align: right;\">\n      <th></th>\n      <th>rider_id</th>\n      <th>activity_id</th>\n      <th>Date</th>\n      <th>Location</th>\n      <th>Distance</th>\n      <th>Moving Time</th>\n      <th>Elevation</th>\n      <th>Weighted Avg Power</th>\n      <th>Total Work</th>\n      <th>AvgSpeed</th>\n      <th>...</th>\n      <th>MaxHeart Rate</th>\n      <th>Training Load</th>\n      <th>Intensity</th>\n      <th>Relative Effort</th>\n      <th>Tough Relative Effort</th>\n      <th>Historic Relative Effort</th>\n      <th>Massive Relative Effort</th>\n      <th>Duration</th>\n      <th>Speed</th>\n      <th>activity_type</th>\n    </tr>\n  </thead>\n  <tbody>\n    <tr>\n      <th>0</th>\n      <td>2006007.0</td>\n      <td>1611279159</td>\n      <td>Wednesday, May 30, 2018</td>\n      <td>Castelfiorentino, Italy</td>\n      <td>64.44</td>\n      <td>2.112</td>\n      <td>233.0</td>\n      <td>149.0</td>\n      <td>994.0</td>\n      <td>30.5</td>\n      <td>...</td>\n      <td>NaN</td>\n      <td>NaN</td>\n      <td>NaN</td>\n      <td>NaN</td>\n      <td>NaN</td>\n      <td>NaN</td>\n      <td>NaN</td>\n      <td>NaN</td>\n      <td>NaN</td>\n      <td>Ride</td>\n    </tr>\n    <tr>\n      <th>1</th>\n      <td>2006007.0</td>\n      <td>1611279670</td>\n      <td>Thursday, May 31, 2018</td>\n      <td>Castelfiorentino, Italy</td>\n      <td>100.43</td>\n      <td>3.367</td>\n      <td>764.0</td>\n      <td>216.0</td>\n      <td>1928.0</td>\n      <td>29.8</td>\n      <td>...</td>\n      <td>NaN</td>\n      <td>NaN</td>\n      <td>NaN</td>\n      <td>NaN</td>\n      <td>NaN</td>\n      <td>NaN</td>\n      <td>NaN</td>\n      <td>NaN</td>\n      <td>NaN</td>\n      <td>Ride</td>\n    </tr>\n    <tr>\n      <th>2</th>\n      <td>2006007.0</td>\n      <td>1611280022</td>\n      <td>Friday, June 1, 2018</td>\n      <td>Castelfiorentino, Italy</td>\n      <td>63.22</td>\n      <td>2.161</td>\n      <td>656.0</td>\n      <td>234.0</td>\n      <td>1207.0</td>\n      <td>29.3</td>\n      <td>...</td>\n      <td>NaN</td>\n      <td>NaN</td>\n      <td>NaN</td>\n      <td>NaN</td>\n      <td>NaN</td>\n      <td>NaN</td>\n      <td>NaN</td>\n      <td>NaN</td>\n      <td>NaN</td>\n      <td>Ride</td>\n    </tr>\n    <tr>\n      <th>3</th>\n      <td>2006007.0</td>\n      <td>1611540996</td>\n      <td>Saturday, June 2, 2018</td>\n      <td>Castelfiorentino, Italy</td>\n      <td>42.59</td>\n      <td>1.482</td>\n      <td>103.0</td>\n      <td>117.0</td>\n      <td>585.0</td>\n      <td>28.7</td>\n      <td>...</td>\n      <td>NaN</td>\n      <td>NaN</td>\n      <td>NaN</td>\n      <td>NaN</td>\n      <td>NaN</td>\n      <td>NaN</td>\n      <td>NaN</td>\n      <td>NaN</td>\n      <td>NaN</td>\n      <td>Ride</td>\n    </tr>\n    <tr>\n      <th>4</th>\n      <td>2006007.0</td>\n      <td>1612080421</td>\n      <td>Wednesday, March 7, 2018</td>\n      <td>Camaiore, Italy</td>\n      <td>1.97</td>\n      <td>0.106</td>\n      <td>1.0</td>\n      <td>71.0</td>\n      <td>25.0</td>\n      <td>18.7</td>\n      <td>...</td>\n      <td>NaN</td>\n      <td>NaN</td>\n      <td>NaN</td>\n      <td>NaN</td>\n      <td>NaN</td>\n      <td>NaN</td>\n      <td>NaN</td>\n      <td>NaN</td>\n      <td>NaN</td>\n      <td>Ride</td>\n    </tr>\n    <tr>\n      <th>...</th>\n      <td>...</td>\n      <td>...</td>\n      <td>...</td>\n      <td>...</td>\n      <td>...</td>\n      <td>...</td>\n      <td>...</td>\n      <td>...</td>\n      <td>...</td>\n      <td>...</td>\n      <td>...</td>\n      <td>...</td>\n      <td>...</td>\n      <td>...</td>\n      <td>...</td>\n      <td>...</td>\n      <td>...</td>\n      <td>...</td>\n      <td>...</td>\n      <td>...</td>\n      <td>...</td>\n    </tr>\n    <tr>\n      <th>25047</th>\n      <td>3419730.0</td>\n      <td>985928850</td>\n      <td>Sunday, May 14, 2017</td>\n      <td>Railton, Australia</td>\n      <td>74.43</td>\n      <td>1.998</td>\n      <td>1154.0</td>\n      <td>NaN</td>\n      <td>NaN</td>\n      <td>37.3</td>\n      <td>...</td>\n      <td>NaN</td>\n      <td>NaN</td>\n      <td>NaN</td>\n      <td>NaN</td>\n      <td>NaN</td>\n      <td>NaN</td>\n      <td>NaN</td>\n      <td>NaN</td>\n      <td>NaN</td>\n      <td>Ride</td>\n    </tr>\n    <tr>\n      <th>25048</th>\n      <td>3419730.0</td>\n      <td>993821572</td>\n      <td>Thursday, May 18, 2017</td>\n      <td>None</td>\n      <td>56.90</td>\n      <td>NaN</td>\n      <td>NaN</td>\n      <td>NaN</td>\n      <td>NaN</td>\n      <td>NaN</td>\n      <td>...</td>\n      <td>NaN</td>\n      <td>NaN</td>\n      <td>NaN</td>\n      <td>NaN</td>\n      <td>NaN</td>\n      <td>NaN</td>\n      <td>NaN</td>\n      <td>1.767</td>\n      <td>32.2</td>\n      <td>Ride</td>\n    </tr>\n    <tr>\n      <th>25049</th>\n      <td>3419730.0</td>\n      <td>996233460</td>\n      <td>Saturday, May 20, 2017</td>\n      <td>Invercargill City, New Zealand</td>\n      <td>110.02</td>\n      <td>3.974</td>\n      <td>394.0</td>\n      <td>NaN</td>\n      <td>NaN</td>\n      <td>27.7</td>\n      <td>...</td>\n      <td>NaN</td>\n      <td>NaN</td>\n      <td>NaN</td>\n      <td>NaN</td>\n      <td>NaN</td>\n      <td>NaN</td>\n      <td>NaN</td>\n      <td>NaN</td>\n      <td>NaN</td>\n      <td>Ride</td>\n    </tr>\n    <tr>\n      <th>25050</th>\n      <td>3419730.0</td>\n      <td>996300307</td>\n      <td>Friday, May 19, 2017</td>\n      <td>None</td>\n      <td>22.00</td>\n      <td>NaN</td>\n      <td>NaN</td>\n      <td>NaN</td>\n      <td>NaN</td>\n      <td>NaN</td>\n      <td>...</td>\n      <td>NaN</td>\n      <td>NaN</td>\n      <td>NaN</td>\n      <td>NaN</td>\n      <td>NaN</td>\n      <td>NaN</td>\n      <td>NaN</td>\n      <td>1.783</td>\n      <td>12.3</td>\n      <td>Ride</td>\n    </tr>\n    <tr>\n      <th>25051</th>\n      <td>3419730.0</td>\n      <td>997795397</td>\n      <td>Sunday, May 21, 2017</td>\n      <td>Invercargill City, New Zealand</td>\n      <td>91.48</td>\n      <td>2.841</td>\n      <td>328.0</td>\n      <td>NaN</td>\n      <td>NaN</td>\n      <td>32.2</td>\n      <td>...</td>\n      <td>NaN</td>\n      <td>NaN</td>\n      <td>NaN</td>\n      <td>NaN</td>\n      <td>NaN</td>\n      <td>NaN</td>\n      <td>NaN</td>\n      <td>NaN</td>\n      <td>NaN</td>\n      <td>Ride</td>\n    </tr>\n  </tbody>\n</table>\n<p>23208 rows × 32 columns</p>\n</div>"
     },
     "execution_count": 25,
     "metadata": {},
     "output_type": "execute_result"
    }
   ],
   "source": [
    "full_df[full_df['activity_type'].isin(['Ride–Commute','Ride'])]"
   ],
   "metadata": {
    "collapsed": false,
    "pycharm": {
     "name": "#%%\n"
    }
   }
  },
  {
   "cell_type": "code",
   "execution_count": 36,
   "outputs": [
    {
     "data": {
      "text/plain": "Empty DataFrame\nColumns: [rider_id, activity_id, Date, Location, Distance, Moving Time, Elevation, Weighted Avg Power, Total Work, AvgSpeed, MaxSpeed, AvgCadence, MaxCadence, AvgPower, MaxPower, Calories, Temperature, Elapsed Time, Device, Estimated Avg Power, Energy Output, AvgHeart Rate, MaxHeart Rate, Training Load, Intensity, Relative Effort, Tough Relative Effort, Historic Relative Effort, Massive Relative Effort, Duration, Speed, activity_type]\nIndex: []\n\n[0 rows x 32 columns]",
      "text/html": "<div>\n<style scoped>\n    .dataframe tbody tr th:only-of-type {\n        vertical-align: middle;\n    }\n\n    .dataframe tbody tr th {\n        vertical-align: top;\n    }\n\n    .dataframe thead th {\n        text-align: right;\n    }\n</style>\n<table border=\"1\" class=\"dataframe\">\n  <thead>\n    <tr style=\"text-align: right;\">\n      <th></th>\n      <th>rider_id</th>\n      <th>activity_id</th>\n      <th>Date</th>\n      <th>Location</th>\n      <th>Distance</th>\n      <th>Moving Time</th>\n      <th>Elevation</th>\n      <th>Weighted Avg Power</th>\n      <th>Total Work</th>\n      <th>AvgSpeed</th>\n      <th>...</th>\n      <th>MaxHeart Rate</th>\n      <th>Training Load</th>\n      <th>Intensity</th>\n      <th>Relative Effort</th>\n      <th>Tough Relative Effort</th>\n      <th>Historic Relative Effort</th>\n      <th>Massive Relative Effort</th>\n      <th>Duration</th>\n      <th>Speed</th>\n      <th>activity_type</th>\n    </tr>\n  </thead>\n  <tbody>\n  </tbody>\n</table>\n<p>0 rows × 32 columns</p>\n</div>"
     },
     "execution_count": 36,
     "metadata": {},
     "output_type": "execute_result"
    }
   ],
   "source": [
    "outdoor_only_df= full_df[full_df['activity_type'].isin(['Ride–Commute','Ride'])]\n",
    "\n",
    "outdoor_only_df[(outdoor_only_df['Moving Time'].isna()) & (outdoor_only_df['Duration'].isna())]"
   ],
   "metadata": {
    "collapsed": false,
    "pycharm": {
     "name": "#%%\n"
    }
   }
  },
  {
   "cell_type": "code",
   "execution_count": 38,
   "outputs": [
    {
     "data": {
      "text/plain": "(23208, 32)"
     },
     "execution_count": 38,
     "metadata": {},
     "output_type": "execute_result"
    }
   ],
   "source": [
    "outdoor_only_df.shape"
   ],
   "metadata": {
    "collapsed": false,
    "pycharm": {
     "name": "#%%\n"
    }
   }
  },
  {
   "cell_type": "code",
   "execution_count": 53,
   "outputs": [],
   "source": [],
   "metadata": {
    "collapsed": false,
    "pycharm": {
     "name": "#%%\n"
    }
   }
  },
  {
   "cell_type": "code",
   "execution_count": 57,
   "outputs": [],
   "source": [],
   "metadata": {
    "collapsed": false,
    "pycharm": {
     "name": "#%%\n"
    }
   }
  },
  {
   "cell_type": "code",
   "execution_count": 65,
   "outputs": [],
   "source": [],
   "metadata": {
    "collapsed": false,
    "pycharm": {
     "name": "#%%\n"
    }
   }
  },
  {
   "cell_type": "code",
   "execution_count": 74,
   "outputs": [
    {
     "name": "stderr",
     "output_type": "stream",
     "text": [
      "C:\\Users\\User\\AppData\\Local\\Temp/ipykernel_61888/2972470490.py:1: SettingWithCopyWarning: \n",
      "A value is trying to be set on a copy of a slice from a DataFrame.\n",
      "Try using .loc[row_indexer,col_indexer] = value instead\n",
      "\n",
      "See the caveats in the documentation: https://pandas.pydata.org/pandas-docs/stable/user_guide/indexing.html#returning-a-view-versus-a-copy\n",
      "  outdoor_only_df['Total Time'] = outdoor_only_df[['Moving Time','Duration']].apply(func,axis=1)\n",
      "C:\\Users\\User\\AppData\\Local\\Temp/ipykernel_61888/2972470490.py:2: SettingWithCopyWarning: \n",
      "A value is trying to be set on a copy of a slice from a DataFrame.\n",
      "Try using .loc[row_indexer,col_indexer] = value instead\n",
      "\n",
      "See the caveats in the documentation: https://pandas.pydata.org/pandas-docs/stable/user_guide/indexing.html#returning-a-view-versus-a-copy\n",
      "  outdoor_only_df['Dist Elev Pythagoras'] = outdoor_only_df[['Distance','Elevation']].apply(func_p,axis=1)\n",
      "C:\\Users\\User\\AppData\\Local\\Temp/ipykernel_61888/3477611283.py:5: RuntimeWarning: invalid value encountered in double_scalars\n",
      "  return r[0]/r[1]\n",
      "C:\\Users\\User\\AppData\\Local\\Temp/ipykernel_61888/3477611283.py:5: RuntimeWarning: divide by zero encountered in double_scalars\n",
      "  return r[0]/r[1]\n",
      "C:\\Users\\User\\AppData\\Local\\Temp/ipykernel_61888/2972470490.py:3: SettingWithCopyWarning: \n",
      "A value is trying to be set on a copy of a slice from a DataFrame.\n",
      "Try using .loc[row_indexer,col_indexer] = value instead\n",
      "\n",
      "See the caveats in the documentation: https://pandas.pydata.org/pandas-docs/stable/user_guide/indexing.html#returning-a-view-versus-a-copy\n",
      "  outdoor_only_df['Dist Elev Time'] = outdoor_only_df[['Dist Elev Pythagoras','Total Time']].apply(div_ignore_nan,axis=1)\n"
     ]
    }
   ],
   "source": [
    "outdoor_only_df['Total Time'] = outdoor_only_df[['Moving Time','Duration']].apply(func,axis=1)\n",
    "outdoor_only_df['Dist Elev Pythagoras'] = outdoor_only_df[['Distance','Elevation']].apply(func_p,axis=1)\n",
    "outdoor_only_df['Dist Elev Time'] = outdoor_only_df[['Dist Elev Pythagoras','Total Time']].apply(div_ignore_nan,axis=1)"
   ],
   "metadata": {
    "collapsed": false,
    "pycharm": {
     "name": "#%%\n"
    }
   }
  },
  {
   "cell_type": "code",
   "execution_count": 84,
   "outputs": [],
   "source": [
    "def sqrt(x):\n",
    "    if str(x) == 'nan':\n",
    "        return None\n",
    "    else:\n",
    "        return math.sqrt(x)\n",
    "outdoor_only_df['sqrt(Dist Elev Time)'] = outdoor_only_df['Dist Elev Time'].apply(sqrt)"
   ],
   "metadata": {
    "collapsed": false,
    "pycharm": {
     "name": "#%%\n"
    }
   }
  },
  {
   "cell_type": "code",
   "execution_count": 85,
   "outputs": [
    {
     "data": {
      "text/plain": "    rider_id  activity_id                      Date                 Location  \\\n0  2006007.0   1611279159   Wednesday, May 30, 2018  Castelfiorentino, Italy   \n1  2006007.0   1611279670    Thursday, May 31, 2018  Castelfiorentino, Italy   \n2  2006007.0   1611280022      Friday, June 1, 2018  Castelfiorentino, Italy   \n3  2006007.0   1611540996    Saturday, June 2, 2018  Castelfiorentino, Italy   \n4  2006007.0   1612080421  Wednesday, March 7, 2018          Camaiore, Italy   \n\n   Distance  Moving Time  Elevation  Weighted Avg Power  Total Work  AvgSpeed  \\\n0     64.44        2.112      233.0               149.0       994.0      30.5   \n1    100.43        3.367      764.0               216.0      1928.0      29.8   \n2     63.22        2.161      656.0               234.0      1207.0      29.3   \n3     42.59        1.482      103.0               117.0       585.0      28.7   \n4      1.97        0.106        1.0                71.0        25.0      18.7   \n\n   ...  Tough Relative Effort  Historic Relative Effort  \\\n0  ...                    NaN                       NaN   \n1  ...                    NaN                       NaN   \n2  ...                    NaN                       NaN   \n3  ...                    NaN                       NaN   \n4  ...                    NaN                       NaN   \n\n   Massive Relative Effort  Duration  Speed  activity_type  Total Time  \\\n0                      NaN       NaN    NaN           Ride       2.112   \n1                      NaN       NaN    NaN           Ride       3.367   \n2                      NaN       NaN    NaN           Ride       2.161   \n3                      NaN       NaN    NaN           Ride       1.482   \n4                      NaN       NaN    NaN           Ride       0.106   \n\n   Dist Elev Pythagoras Dist Elev Time  sqrt(Dist Elev Time)  \n0            241.746796     114.463445             10.698759  \n1            770.572634     228.860301             15.128129  \n2            659.039277     304.969587             17.463378  \n3            111.458100      75.207895              8.672249  \n4              2.209276      20.842225              4.565329  \n\n[5 rows x 36 columns]",
      "text/html": "<div>\n<style scoped>\n    .dataframe tbody tr th:only-of-type {\n        vertical-align: middle;\n    }\n\n    .dataframe tbody tr th {\n        vertical-align: top;\n    }\n\n    .dataframe thead th {\n        text-align: right;\n    }\n</style>\n<table border=\"1\" class=\"dataframe\">\n  <thead>\n    <tr style=\"text-align: right;\">\n      <th></th>\n      <th>rider_id</th>\n      <th>activity_id</th>\n      <th>Date</th>\n      <th>Location</th>\n      <th>Distance</th>\n      <th>Moving Time</th>\n      <th>Elevation</th>\n      <th>Weighted Avg Power</th>\n      <th>Total Work</th>\n      <th>AvgSpeed</th>\n      <th>...</th>\n      <th>Tough Relative Effort</th>\n      <th>Historic Relative Effort</th>\n      <th>Massive Relative Effort</th>\n      <th>Duration</th>\n      <th>Speed</th>\n      <th>activity_type</th>\n      <th>Total Time</th>\n      <th>Dist Elev Pythagoras</th>\n      <th>Dist Elev Time</th>\n      <th>sqrt(Dist Elev Time)</th>\n    </tr>\n  </thead>\n  <tbody>\n    <tr>\n      <th>0</th>\n      <td>2006007.0</td>\n      <td>1611279159</td>\n      <td>Wednesday, May 30, 2018</td>\n      <td>Castelfiorentino, Italy</td>\n      <td>64.44</td>\n      <td>2.112</td>\n      <td>233.0</td>\n      <td>149.0</td>\n      <td>994.0</td>\n      <td>30.5</td>\n      <td>...</td>\n      <td>NaN</td>\n      <td>NaN</td>\n      <td>NaN</td>\n      <td>NaN</td>\n      <td>NaN</td>\n      <td>Ride</td>\n      <td>2.112</td>\n      <td>241.746796</td>\n      <td>114.463445</td>\n      <td>10.698759</td>\n    </tr>\n    <tr>\n      <th>1</th>\n      <td>2006007.0</td>\n      <td>1611279670</td>\n      <td>Thursday, May 31, 2018</td>\n      <td>Castelfiorentino, Italy</td>\n      <td>100.43</td>\n      <td>3.367</td>\n      <td>764.0</td>\n      <td>216.0</td>\n      <td>1928.0</td>\n      <td>29.8</td>\n      <td>...</td>\n      <td>NaN</td>\n      <td>NaN</td>\n      <td>NaN</td>\n      <td>NaN</td>\n      <td>NaN</td>\n      <td>Ride</td>\n      <td>3.367</td>\n      <td>770.572634</td>\n      <td>228.860301</td>\n      <td>15.128129</td>\n    </tr>\n    <tr>\n      <th>2</th>\n      <td>2006007.0</td>\n      <td>1611280022</td>\n      <td>Friday, June 1, 2018</td>\n      <td>Castelfiorentino, Italy</td>\n      <td>63.22</td>\n      <td>2.161</td>\n      <td>656.0</td>\n      <td>234.0</td>\n      <td>1207.0</td>\n      <td>29.3</td>\n      <td>...</td>\n      <td>NaN</td>\n      <td>NaN</td>\n      <td>NaN</td>\n      <td>NaN</td>\n      <td>NaN</td>\n      <td>Ride</td>\n      <td>2.161</td>\n      <td>659.039277</td>\n      <td>304.969587</td>\n      <td>17.463378</td>\n    </tr>\n    <tr>\n      <th>3</th>\n      <td>2006007.0</td>\n      <td>1611540996</td>\n      <td>Saturday, June 2, 2018</td>\n      <td>Castelfiorentino, Italy</td>\n      <td>42.59</td>\n      <td>1.482</td>\n      <td>103.0</td>\n      <td>117.0</td>\n      <td>585.0</td>\n      <td>28.7</td>\n      <td>...</td>\n      <td>NaN</td>\n      <td>NaN</td>\n      <td>NaN</td>\n      <td>NaN</td>\n      <td>NaN</td>\n      <td>Ride</td>\n      <td>1.482</td>\n      <td>111.458100</td>\n      <td>75.207895</td>\n      <td>8.672249</td>\n    </tr>\n    <tr>\n      <th>4</th>\n      <td>2006007.0</td>\n      <td>1612080421</td>\n      <td>Wednesday, March 7, 2018</td>\n      <td>Camaiore, Italy</td>\n      <td>1.97</td>\n      <td>0.106</td>\n      <td>1.0</td>\n      <td>71.0</td>\n      <td>25.0</td>\n      <td>18.7</td>\n      <td>...</td>\n      <td>NaN</td>\n      <td>NaN</td>\n      <td>NaN</td>\n      <td>NaN</td>\n      <td>NaN</td>\n      <td>Ride</td>\n      <td>0.106</td>\n      <td>2.209276</td>\n      <td>20.842225</td>\n      <td>4.565329</td>\n    </tr>\n  </tbody>\n</table>\n<p>5 rows × 36 columns</p>\n</div>"
     },
     "execution_count": 85,
     "metadata": {},
     "output_type": "execute_result"
    }
   ],
   "source": [
    "outdoor_only_df.to_csv('./data/outdoor_only_with_pythagoras.csv',index=False,header=True)\n",
    "outdoor_only_df.head()"
   ],
   "metadata": {
    "collapsed": false,
    "pycharm": {
     "name": "#%%\n"
    }
   }
  },
  {
   "cell_type": "code",
   "execution_count": 77,
   "outputs": [
    {
     "data": {
      "text/plain": "Summarize dataset:   0%|          | 0/5 [00:00<?, ?it/s]",
      "application/vnd.jupyter.widget-view+json": {
       "version_major": 2,
       "version_minor": 0,
       "model_id": "d632c5eb2aa74e7ea5d0c4e80cc19093"
      }
     },
     "metadata": {},
     "output_type": "display_data"
    },
    {
     "name": "stderr",
     "output_type": "stream",
     "text": [
      "C:\\Users\\User\\PycharmProjects\\velodrome-backend\\venv\\lib\\site-packages\\numpy\\core\\_methods.py:229: RuntimeWarning: invalid value encountered in subtract\n",
      "  x = asanyarray(arr - arrmean)\n"
     ]
    },
    {
     "data": {
      "text/plain": "Generate report structure:   0%|          | 0/1 [00:00<?, ?it/s]",
      "application/vnd.jupyter.widget-view+json": {
       "version_major": 2,
       "version_minor": 0,
       "model_id": "6ebb7619d20147f793cef31ccec93428"
      }
     },
     "metadata": {},
     "output_type": "display_data"
    },
    {
     "data": {
      "text/plain": "Render HTML:   0%|          | 0/1 [00:00<?, ?it/s]",
      "application/vnd.jupyter.widget-view+json": {
       "version_major": 2,
       "version_minor": 0,
       "model_id": "84322a7fb7d34958b7b41ed503e06f2a"
      }
     },
     "metadata": {},
     "output_type": "display_data"
    },
    {
     "data": {
      "text/plain": "Export report to file:   0%|          | 0/1 [00:00<?, ?it/s]",
      "application/vnd.jupyter.widget-view+json": {
       "version_major": 2,
       "version_minor": 0,
       "model_id": "ed9f72c3b1c34200ac2f094fd9b061e4"
      }
     },
     "metadata": {},
     "output_type": "display_data"
    }
   ],
   "source": [
    "from pandas_profiling import ProfileReport\n",
    "\n",
    "\n",
    "profile_W = ProfileReport(outdoor_only_df[['Distance','Elevation','Total Time','Dist Elev Time']], title=\"Workouts - Pandas Profiling Report\")\n",
    "profile_W.to_file(\"STRAVA_workouts_profile.html\")"
   ],
   "metadata": {
    "collapsed": false,
    "pycharm": {
     "name": "#%%\n"
    }
   }
  },
  {
   "cell_type": "code",
   "execution_count": null,
   "outputs": [],
   "source": [
    "# import json\n",
    "#\n",
    "# activities_norm_df = pd.DataFrame(columns=WORKOUTS_STRAVA_COLS)\n",
    "# for i,r in activities_df.iterrows():\n",
    "#     data = json.loads(r['data'])\n",
    "#     for col in WORKOUTS_STRAVA_COLS:\n",
    "#         if col in ['rider_id','activity_id']:\n",
    "#             activities_norm_df.at[i,col] = r[col]\n",
    "#         else:\n",
    "#             if col in data:\n",
    "#                 activities_norm_df.at[i,col] = data[col]\n",
    "#             else:\n",
    "#                 activities_norm_df.at[i,col] = None\n",
    "#\n",
    "#"
   ],
   "metadata": {
    "collapsed": false,
    "pycharm": {
     "name": "#%%\n"
    }
   }
  },
  {
   "cell_type": "code",
   "execution_count": null,
   "outputs": [],
   "source": [
    "# activities_norm_df['activity_type'].head()\n",
    "#"
   ],
   "metadata": {
    "collapsed": false,
    "pycharm": {
     "name": "#%%\n"
    }
   }
  },
  {
   "cell_type": "code",
   "execution_count": null,
   "outputs": [],
   "source": [
    "# activities_norm_df.to_csv('./data/activity_data_draft.csv',index=False,header=True)"
   ],
   "metadata": {
    "collapsed": false,
    "pycharm": {
     "name": "#%%\n"
    }
   }
  },
  {
   "cell_type": "code",
   "execution_count": null,
   "outputs": [],
   "source": [
    "# activities_norm_df[['activity_id','Distance','Moving Time','Duration']][activities_norm_df['Duration'].isna() & activities_norm_df['Moving Time'].isna()]\n",
    "#\n",
    "# types_df = pd.read_csv('link/activity_analysis_links.csv')\n",
    "# types_df.head()\n",
    "# types_dict = {k:v for k,v in zip(types_df['activity_id'],types_df['activity_type'])}\n",
    "# types_df_2 = pd.read_csv('link/activity_link_types- full.csv')\n",
    "# types_dict.update({k:v for k,v in zip(types_df_2['activity_id'],types_df_2['activity_type'])})\n",
    "# types_dict[1612080511]\n",
    "#\n",
    "# activities_norm_df\n",
    "# activities_norm_df[activities_norm_df['activity_type'].isin(['Ride–Commute','Ride'])]\n",
    "# activities_norm_df[activities_norm_df['activity_type']\n",
    "#\n",
    "#\n",
    "# pd.DataFrame()"
   ],
   "metadata": {
    "collapsed": false,
    "pycharm": {
     "name": "#%%\n"
    }
   }
  },
  {
   "cell_type": "code",
   "execution_count": 109,
   "outputs": [],
   "source": [
    "import os\n",
    "csv_path='./data/total_data.csv'\n",
    "pd.DataFrame(columns=WORKOUTS_STRAVA_COLS).to_csv(csv_path,index=False,header=True)\n",
    "processed=['10']\n",
    "data_path = \"C:\\\\Users\\\\User\\OneDrive - post.bgu.ac.il\\STRAVA data\\data\"\n",
    "for dir in os.listdir(data_path):\n",
    "    if dir in processed:\n",
    "        continue\n",
    "    try:\n",
    "        data_df  = pd.read_csv(f\"{data_path}\\\\{dir}\\overview_data.csv\")\n",
    "        types_df  = pd.read_csv(f\"{data_path}\\\\{dir}\\\\activity_analysis_links.csv\")\n",
    "        types_dict = {k:v for k,v in zip(types_df['activity_id'],types_df['activity_type'])}\n",
    "        data_df['data']=data_df['data'].apply(json.loads)\n",
    "        norm_data_df = pd.json_normalize(data_df['data'], max_level=1)\n",
    "        full_df = pd.concat([data_df,norm_data_df],axis=1).drop('data',1)\n",
    "        full_df = pd.DataFrame(full_df,columns=WORKOUTS_STRAVA_COLS)\n",
    "        full_df['activity_type'] = full_df['activity_id'].map(types_dict)\n",
    "        full_df.to_csv(csv_path,index=False,mode='a',header=False)\n",
    "        processed.append(dir)\n",
    "    except:\n",
    "        print(dir)\n",
    "        print(processed)"
   ],
   "metadata": {
    "collapsed": false,
    "pycharm": {
     "name": "#%%\n"
    }
   }
  },
  {
   "cell_type": "code",
   "execution_count": 110,
   "outputs": [
    {
     "data": {
      "text/plain": "['10',\n '11',\n '12',\n '13',\n '14',\n '15',\n '18',\n '19',\n '20',\n '3',\n '4',\n '5',\n '6',\n '7',\n '8',\n '9',\n 'mine']"
     },
     "execution_count": 110,
     "metadata": {},
     "output_type": "execute_result"
    }
   ],
   "source": [
    "processed\n"
   ],
   "metadata": {
    "collapsed": false,
    "pycharm": {
     "name": "#%%\n"
    }
   }
  },
  {
   "cell_type": "code",
   "execution_count": 111,
   "outputs": [
    {
     "name": "stderr",
     "output_type": "stream",
     "text": [
      "C:\\Users\\User\\PycharmProjects\\velodrome-backend\\venv\\lib\\site-packages\\IPython\\core\\interactiveshell.py:3185: DtypeWarning: Columns (32,34,35,36) have mixed types.Specify dtype option on import or set low_memory=False.\n",
      "  has_raised = await self.run_ast_nodes(code_ast.body, cell_name,\n"
     ]
    },
    {
     "data": {
      "text/plain": "160259"
     },
     "execution_count": 111,
     "metadata": {},
     "output_type": "execute_result"
    }
   ],
   "source": [
    "\n",
    "total_data_df  = pd.read_csv(csv_path)\n",
    "len(total_data_df)"
   ],
   "metadata": {
    "collapsed": false,
    "pycharm": {
     "name": "#%%\n"
    }
   }
  },
  {
   "cell_type": "code",
   "execution_count": 112,
   "outputs": [
    {
     "data": {
      "text/plain": "60"
     },
     "execution_count": 112,
     "metadata": {},
     "output_type": "execute_result"
    }
   ],
   "source": [
    "len(total_data_df['rider_id'].unique())"
   ],
   "metadata": {
    "collapsed": false,
    "pycharm": {
     "name": "#%%\n"
    }
   }
  },
  {
   "cell_type": "code",
   "execution_count": 113,
   "outputs": [
    {
     "data": {
      "text/plain": "         rider_id  activity_id activity_type                      Date  \\\n0        384548.0   1025594076          Ride      Monday, June 5, 2017   \n1        384548.0   1025596963          Ride   Wednesday, June 7, 2017   \n3        384548.0   1026853801          Ride    Thursday, June 8, 2017   \n4        384548.0   1027844939          Ride      Friday, June 9, 2017   \n5        384548.0    110591998          Ride  Sunday, February 2, 2014   \n...           ...          ...           ...                       ...   \n160252  3419730.0    983816685          Ride    Saturday, May 13, 2017   \n160253  3419730.0    985928541          Ride      Sunday, May 14, 2017   \n160254  3419730.0    985928850          Ride      Sunday, May 14, 2017   \n160256  3419730.0    996233460          Ride    Saturday, May 20, 2017   \n160258  3419730.0    997795397          Ride      Sunday, May 21, 2017   \n\n        Duration                        Location  Moving Time  MaxSpeed  \\\n0            NaN                  Hürth, Germany        2.650      56.2   \n1            NaN                  Hürth, Germany        2.115      64.8   \n3            NaN                  Hürth, Germany        3.878      69.1   \n4            NaN                  Hürth, Germany        1.982      65.2   \n5            NaN                  Hürth, Germany        3.812      62.3   \n...          ...                             ...          ...       ...   \n160252       NaN                Riana, Australia        0.118      50.8   \n160253       NaN              Railton, Australia        0.244      54.0   \n160254       NaN              Railton, Australia        1.998      85.0   \n160256       NaN  Invercargill City, New Zealand        3.974      47.5   \n160258       NaN  Invercargill City, New Zealand        2.841      52.9   \n\n        Relative Effort  Distance  ...  Training Load  MaxHeart Rate  \\\n0                  29.0     80.11  ...            NaN          131.0   \n1                  19.0     44.39  ...            NaN          138.0   \n3                  52.0    121.20  ...            NaN          145.0   \n4                   NaN     62.32  ...            NaN            NaN   \n5                   NaN    115.45  ...            NaN            NaN   \n...                 ...       ...  ...            ...            ...   \n160252              NaN      2.72  ...            NaN            NaN   \n160253              NaN      6.62  ...            NaN            NaN   \n160254              NaN     74.43  ...            NaN            NaN   \n160256              NaN    110.02  ...            NaN            NaN   \n160258              NaN     91.48  ...            NaN            NaN   \n\n        Estimated Avg Power  Speed  Perceived Exertion  Feels like  Humidity  \\\n0                       NaN    NaN                 NaN         NaN       NaN   \n1                       NaN    NaN                 NaN         NaN       NaN   \n3                       NaN    NaN                 NaN         NaN       NaN   \n4                       NaN    NaN                 NaN         NaN       NaN   \n5                     204.0    NaN                 NaN         NaN       NaN   \n...                     ...    ...                 ...         ...       ...   \n160252                 94.0    NaN                 NaN         NaN       NaN   \n160253                145.0    NaN                 NaN         NaN       NaN   \n160254                329.0    NaN                 NaN         NaN       NaN   \n160256                120.0    NaN                 NaN         NaN       NaN   \n160258                172.0    NaN                 NaN         NaN       NaN   \n\n        Weather  Wind Direction  Wind Speed  \n0           NaN             NaN         NaN  \n1           NaN             NaN         NaN  \n3           NaN             NaN         NaN  \n4           NaN             NaN         NaN  \n5           NaN             NaN         NaN  \n...         ...             ...         ...  \n160252      NaN             NaN         NaN  \n160253      NaN             NaN         NaN  \n160254      NaN             NaN         NaN  \n160256      NaN             NaN         NaN  \n160258      NaN             NaN         NaN  \n\n[147006 rows x 38 columns]",
      "text/html": "<div>\n<style scoped>\n    .dataframe tbody tr th:only-of-type {\n        vertical-align: middle;\n    }\n\n    .dataframe tbody tr th {\n        vertical-align: top;\n    }\n\n    .dataframe thead th {\n        text-align: right;\n    }\n</style>\n<table border=\"1\" class=\"dataframe\">\n  <thead>\n    <tr style=\"text-align: right;\">\n      <th></th>\n      <th>rider_id</th>\n      <th>activity_id</th>\n      <th>activity_type</th>\n      <th>Date</th>\n      <th>Duration</th>\n      <th>Location</th>\n      <th>Moving Time</th>\n      <th>MaxSpeed</th>\n      <th>Relative Effort</th>\n      <th>Distance</th>\n      <th>...</th>\n      <th>Training Load</th>\n      <th>MaxHeart Rate</th>\n      <th>Estimated Avg Power</th>\n      <th>Speed</th>\n      <th>Perceived Exertion</th>\n      <th>Feels like</th>\n      <th>Humidity</th>\n      <th>Weather</th>\n      <th>Wind Direction</th>\n      <th>Wind Speed</th>\n    </tr>\n  </thead>\n  <tbody>\n    <tr>\n      <th>0</th>\n      <td>384548.0</td>\n      <td>1025594076</td>\n      <td>Ride</td>\n      <td>Monday, June 5, 2017</td>\n      <td>NaN</td>\n      <td>Hürth, Germany</td>\n      <td>2.650</td>\n      <td>56.2</td>\n      <td>29.0</td>\n      <td>80.11</td>\n      <td>...</td>\n      <td>NaN</td>\n      <td>131.0</td>\n      <td>NaN</td>\n      <td>NaN</td>\n      <td>NaN</td>\n      <td>NaN</td>\n      <td>NaN</td>\n      <td>NaN</td>\n      <td>NaN</td>\n      <td>NaN</td>\n    </tr>\n    <tr>\n      <th>1</th>\n      <td>384548.0</td>\n      <td>1025596963</td>\n      <td>Ride</td>\n      <td>Wednesday, June 7, 2017</td>\n      <td>NaN</td>\n      <td>Hürth, Germany</td>\n      <td>2.115</td>\n      <td>64.8</td>\n      <td>19.0</td>\n      <td>44.39</td>\n      <td>...</td>\n      <td>NaN</td>\n      <td>138.0</td>\n      <td>NaN</td>\n      <td>NaN</td>\n      <td>NaN</td>\n      <td>NaN</td>\n      <td>NaN</td>\n      <td>NaN</td>\n      <td>NaN</td>\n      <td>NaN</td>\n    </tr>\n    <tr>\n      <th>3</th>\n      <td>384548.0</td>\n      <td>1026853801</td>\n      <td>Ride</td>\n      <td>Thursday, June 8, 2017</td>\n      <td>NaN</td>\n      <td>Hürth, Germany</td>\n      <td>3.878</td>\n      <td>69.1</td>\n      <td>52.0</td>\n      <td>121.20</td>\n      <td>...</td>\n      <td>NaN</td>\n      <td>145.0</td>\n      <td>NaN</td>\n      <td>NaN</td>\n      <td>NaN</td>\n      <td>NaN</td>\n      <td>NaN</td>\n      <td>NaN</td>\n      <td>NaN</td>\n      <td>NaN</td>\n    </tr>\n    <tr>\n      <th>4</th>\n      <td>384548.0</td>\n      <td>1027844939</td>\n      <td>Ride</td>\n      <td>Friday, June 9, 2017</td>\n      <td>NaN</td>\n      <td>Hürth, Germany</td>\n      <td>1.982</td>\n      <td>65.2</td>\n      <td>NaN</td>\n      <td>62.32</td>\n      <td>...</td>\n      <td>NaN</td>\n      <td>NaN</td>\n      <td>NaN</td>\n      <td>NaN</td>\n      <td>NaN</td>\n      <td>NaN</td>\n      <td>NaN</td>\n      <td>NaN</td>\n      <td>NaN</td>\n      <td>NaN</td>\n    </tr>\n    <tr>\n      <th>5</th>\n      <td>384548.0</td>\n      <td>110591998</td>\n      <td>Ride</td>\n      <td>Sunday, February 2, 2014</td>\n      <td>NaN</td>\n      <td>Hürth, Germany</td>\n      <td>3.812</td>\n      <td>62.3</td>\n      <td>NaN</td>\n      <td>115.45</td>\n      <td>...</td>\n      <td>NaN</td>\n      <td>NaN</td>\n      <td>204.0</td>\n      <td>NaN</td>\n      <td>NaN</td>\n      <td>NaN</td>\n      <td>NaN</td>\n      <td>NaN</td>\n      <td>NaN</td>\n      <td>NaN</td>\n    </tr>\n    <tr>\n      <th>...</th>\n      <td>...</td>\n      <td>...</td>\n      <td>...</td>\n      <td>...</td>\n      <td>...</td>\n      <td>...</td>\n      <td>...</td>\n      <td>...</td>\n      <td>...</td>\n      <td>...</td>\n      <td>...</td>\n      <td>...</td>\n      <td>...</td>\n      <td>...</td>\n      <td>...</td>\n      <td>...</td>\n      <td>...</td>\n      <td>...</td>\n      <td>...</td>\n      <td>...</td>\n      <td>...</td>\n    </tr>\n    <tr>\n      <th>160252</th>\n      <td>3419730.0</td>\n      <td>983816685</td>\n      <td>Ride</td>\n      <td>Saturday, May 13, 2017</td>\n      <td>NaN</td>\n      <td>Riana, Australia</td>\n      <td>0.118</td>\n      <td>50.8</td>\n      <td>NaN</td>\n      <td>2.72</td>\n      <td>...</td>\n      <td>NaN</td>\n      <td>NaN</td>\n      <td>94.0</td>\n      <td>NaN</td>\n      <td>NaN</td>\n      <td>NaN</td>\n      <td>NaN</td>\n      <td>NaN</td>\n      <td>NaN</td>\n      <td>NaN</td>\n    </tr>\n    <tr>\n      <th>160253</th>\n      <td>3419730.0</td>\n      <td>985928541</td>\n      <td>Ride</td>\n      <td>Sunday, May 14, 2017</td>\n      <td>NaN</td>\n      <td>Railton, Australia</td>\n      <td>0.244</td>\n      <td>54.0</td>\n      <td>NaN</td>\n      <td>6.62</td>\n      <td>...</td>\n      <td>NaN</td>\n      <td>NaN</td>\n      <td>145.0</td>\n      <td>NaN</td>\n      <td>NaN</td>\n      <td>NaN</td>\n      <td>NaN</td>\n      <td>NaN</td>\n      <td>NaN</td>\n      <td>NaN</td>\n    </tr>\n    <tr>\n      <th>160254</th>\n      <td>3419730.0</td>\n      <td>985928850</td>\n      <td>Ride</td>\n      <td>Sunday, May 14, 2017</td>\n      <td>NaN</td>\n      <td>Railton, Australia</td>\n      <td>1.998</td>\n      <td>85.0</td>\n      <td>NaN</td>\n      <td>74.43</td>\n      <td>...</td>\n      <td>NaN</td>\n      <td>NaN</td>\n      <td>329.0</td>\n      <td>NaN</td>\n      <td>NaN</td>\n      <td>NaN</td>\n      <td>NaN</td>\n      <td>NaN</td>\n      <td>NaN</td>\n      <td>NaN</td>\n    </tr>\n    <tr>\n      <th>160256</th>\n      <td>3419730.0</td>\n      <td>996233460</td>\n      <td>Ride</td>\n      <td>Saturday, May 20, 2017</td>\n      <td>NaN</td>\n      <td>Invercargill City, New Zealand</td>\n      <td>3.974</td>\n      <td>47.5</td>\n      <td>NaN</td>\n      <td>110.02</td>\n      <td>...</td>\n      <td>NaN</td>\n      <td>NaN</td>\n      <td>120.0</td>\n      <td>NaN</td>\n      <td>NaN</td>\n      <td>NaN</td>\n      <td>NaN</td>\n      <td>NaN</td>\n      <td>NaN</td>\n      <td>NaN</td>\n    </tr>\n    <tr>\n      <th>160258</th>\n      <td>3419730.0</td>\n      <td>997795397</td>\n      <td>Ride</td>\n      <td>Sunday, May 21, 2017</td>\n      <td>NaN</td>\n      <td>Invercargill City, New Zealand</td>\n      <td>2.841</td>\n      <td>52.9</td>\n      <td>NaN</td>\n      <td>91.48</td>\n      <td>...</td>\n      <td>NaN</td>\n      <td>NaN</td>\n      <td>172.0</td>\n      <td>NaN</td>\n      <td>NaN</td>\n      <td>NaN</td>\n      <td>NaN</td>\n      <td>NaN</td>\n      <td>NaN</td>\n      <td>NaN</td>\n    </tr>\n  </tbody>\n</table>\n<p>147006 rows × 38 columns</p>\n</div>"
     },
     "execution_count": 113,
     "metadata": {},
     "output_type": "execute_result"
    }
   ],
   "source": [
    "\n",
    "total_data_df[total_data_df['activity_type'].isin(['Ride–Commute','Ride'])]"
   ],
   "metadata": {
    "collapsed": false,
    "pycharm": {
     "name": "#%%\n"
    }
   }
  },
  {
   "cell_type": "code",
   "execution_count": 114,
   "outputs": [],
   "source": [
    "types_df_2 = pd.read_csv('link/activity_link_types- full.csv')"
   ],
   "metadata": {
    "collapsed": false,
    "pycharm": {
     "name": "#%%\n"
    }
   }
  },
  {
   "cell_type": "code",
   "execution_count": 117,
   "outputs": [],
   "source": [
    "types_df_2=types_df_2.drop_duplicates()"
   ],
   "metadata": {
    "collapsed": false,
    "pycharm": {
     "name": "#%%\n"
    }
   }
  },
  {
   "cell_type": "code",
   "execution_count": 119,
   "outputs": [
    {
     "data": {
      "text/plain": "        rider_id                                  activity_link  activity_id\n0       134614.0     https://www.strava.com/activities/54132654     54132654\n1       134614.0   https://www.strava.com/activities/1325763142   1325763142\n2       134614.0   https://www.strava.com/activities/1348111434   1348111434\n3       134614.0   https://www.strava.com/activities/1348110945   1348110945\n4       134614.0   https://www.strava.com/activities/1322943680   1322943680\n...          ...                                            ...          ...\n88750  9545283.0  https://www.strava.com//activities/6378802203   6378802203\n88751  9545283.0  https://www.strava.com//activities/6422800084   6422800084\n88752  9545283.0  https://www.strava.com//activities/6418666225   6418666225\n88753  9545283.0  https://www.strava.com//activities/6418719753   6418719753\n88754  9545283.0  https://www.strava.com//activities/6406488148   6406488148\n\n[88755 rows x 3 columns]",
      "text/html": "<div>\n<style scoped>\n    .dataframe tbody tr th:only-of-type {\n        vertical-align: middle;\n    }\n\n    .dataframe tbody tr th {\n        vertical-align: top;\n    }\n\n    .dataframe thead th {\n        text-align: right;\n    }\n</style>\n<table border=\"1\" class=\"dataframe\">\n  <thead>\n    <tr style=\"text-align: right;\">\n      <th></th>\n      <th>rider_id</th>\n      <th>activity_link</th>\n      <th>activity_id</th>\n    </tr>\n  </thead>\n  <tbody>\n    <tr>\n      <th>0</th>\n      <td>134614.0</td>\n      <td>https://www.strava.com/activities/54132654</td>\n      <td>54132654</td>\n    </tr>\n    <tr>\n      <th>1</th>\n      <td>134614.0</td>\n      <td>https://www.strava.com/activities/1325763142</td>\n      <td>1325763142</td>\n    </tr>\n    <tr>\n      <th>2</th>\n      <td>134614.0</td>\n      <td>https://www.strava.com/activities/1348111434</td>\n      <td>1348111434</td>\n    </tr>\n    <tr>\n      <th>3</th>\n      <td>134614.0</td>\n      <td>https://www.strava.com/activities/1348110945</td>\n      <td>1348110945</td>\n    </tr>\n    <tr>\n      <th>4</th>\n      <td>134614.0</td>\n      <td>https://www.strava.com/activities/1322943680</td>\n      <td>1322943680</td>\n    </tr>\n    <tr>\n      <th>...</th>\n      <td>...</td>\n      <td>...</td>\n      <td>...</td>\n    </tr>\n    <tr>\n      <th>88750</th>\n      <td>9545283.0</td>\n      <td>https://www.strava.com//activities/6378802203</td>\n      <td>6378802203</td>\n    </tr>\n    <tr>\n      <th>88751</th>\n      <td>9545283.0</td>\n      <td>https://www.strava.com//activities/6422800084</td>\n      <td>6422800084</td>\n    </tr>\n    <tr>\n      <th>88752</th>\n      <td>9545283.0</td>\n      <td>https://www.strava.com//activities/6418666225</td>\n      <td>6418666225</td>\n    </tr>\n    <tr>\n      <th>88753</th>\n      <td>9545283.0</td>\n      <td>https://www.strava.com//activities/6418719753</td>\n      <td>6418719753</td>\n    </tr>\n    <tr>\n      <th>88754</th>\n      <td>9545283.0</td>\n      <td>https://www.strava.com//activities/6406488148</td>\n      <td>6406488148</td>\n    </tr>\n  </tbody>\n</table>\n<p>88755 rows × 3 columns</p>\n</div>"
     },
     "execution_count": 119,
     "metadata": {},
     "output_type": "execute_result"
    }
   ],
   "source": [
    "test = pd.read_csv('link/riders_activity_links.csv')\n",
    "test"
   ],
   "metadata": {
    "collapsed": false,
    "pycharm": {
     "name": "#%%\n"
    }
   }
  },
  {
   "cell_type": "code",
   "execution_count": 120,
   "outputs": [
    {
     "data": {
      "text/plain": "{1599905804,\n 989118477,\n 1278640143,\n 2375213071,\n 4181090323,\n 1592786964,\n 1032937493,\n 1515618324,\n 2993053721,\n 2994806812,\n 2208661533,\n 3523493925,\n 2123857958,\n 376873000,\n 6366429225,\n 440606762,\n 4315299883,\n 1342930985,\n 973578284,\n 3813335088,\n 2774286385,\n 3266838581,\n 3803840565,\n 1935245367,\n 1209483317,\n 989118521,\n 2054373432,\n 2525151291,\n 5847367734,\n 609345597,\n 4682891327,\n 1920073793,\n 4933951556,\n 989118535,\n 2072559690,\n 609247308,\n 717856845,\n 4715102284,\n 3885465679,\n 2774286416,\n 989118544,\n 6408306769,\n 717856851,\n 4519632981,\n 1109459029,\n 3642974293,\n 3171532888,\n 3301400666,\n 3212034138,\n 3583574110,\n 3294511199,\n 4725710947,\n 2724946021,\n 4429250664,\n 652656744,\n 2371862633,\n 2244092011,\n 4441849965,\n 3365175407,\n 989118577,\n 2567512182,\n 4356186232,\n 3513254009,\n 922853498,\n 2033156221,\n 1073438846,\n 1218822271,\n 3501260929,\n 4033609858,\n 1072259207,\n 3163988107,\n 989118605,\n 989118608,\n 1109459088,\n 3383320720,\n 2148892816,\n 989118612,\n 1011777686,\n 4184252566,\n 1515610264,\n 3119063196,\n 1515618460,\n 5441364127,\n 4507263135,\n 861298849,\n 989118626,\n 2489131171,\n 1927774373,\n 989118631,\n 1298694312,\n 6173409450,\n 3261513898,\n 989118636,\n 1331691694,\n 2524815534,\n 989118641,\n 672424114,\n 1624637620,\n 4670881975,\n 3721371839,\n 532398272,\n 989118660,\n 2446901447,\n 3382657225,\n 2279555276,\n 4366950607,\n 1498177744,\n 989118672,\n 1685790931,\n 3567419605,\n 1515610327,\n 2296848604,\n 5170839773,\n 3558678751,\n 4649435361,\n 2309390565,\n 6158901481,\n 2467651819,\n 633848045,\n 1746977006,\n 583909615,\n 5494235376,\n 4363452657,\n 3917422834,\n 2489131251,\n 556204277,\n 3871146230,\n 3474874616,\n 2992316664,\n 4758315263,\n 1771544831,\n 1008517377,\n 5768454405,\n 920879368,\n 2452275466,\n 423420171,\n 1515618576,\n 5876424978,\n 1787568405,\n 989118741,\n 1468670229,\n 633848088,\n 5950480666,\n 989118752,\n 2525151521,\n 5587812647,\n 4429324584,\n 2024751401,\n 4325409070,\n 3399467312,\n 6006645052,\n 3617841469,\n 642400574,\n 5876425022,\n 3424297280,\n 1141547329,\n 3141763390,\n 4311228741,\n 6340796747,\n 690454859,\n 6283141453,\n 3534758222,\n 2114969935,\n 1158717776,\n 372621648,\n 5964816720,\n 5494235477,\n 3009814870,\n 5964816725,\n 5657231706,\n 3351642465,\n 2487222626,\n 2365014373,\n 3789603175,\n 1327407465,\n 882336105,\n 989118834,\n 1008517494,\n 4564812157,\n 4625064318,\n 715006336,\n 5431099779,\n 1008517510,\n 4586111368,\n 1008517517,\n 4429226386,\n 5201330581,\n 5910512024,\n 2452275609,\n 2839912860,\n 1684578717,\n 4818755998,\n 2346819998,\n 409837989,\n 1376108966,\n 4000252326,\n 589447594,\n 788742573,\n 1296654769,\n 4698251698,\n 591200692,\n 1650295222,\n 4840817081,\n 6480355772,\n 1687404989,\n 2137678272,\n 2279555522,\n 402514371,\n 2039505348,\n 523903429,\n 2388894147,\n 973578693,\n 912253381,\n 6130745804,\n 1043710414,\n 2032566735,\n 6264881620,\n 3813679574,\n 2348278233,\n 1447559644,\n 531628516,\n 2077581796,\n 3197010405,\n 650297830,\n 4454416872,\n 6006645224,\n 1515610602,\n 2525143530,\n 6393651692,\n 4317356525,\n 1290125810,\n 765682164,\n 531628533,\n 360063480,\n 3181363706,\n 800408061,\n 3349160446,\n 5494333951,\n 531628544,\n 2994807294,\n 3784425984,\n 3310805501,\n 5876425213,\n 3378487815,\n 2279555592,\n 1515618826,\n 1481720331,\n 4389970444,\n 1141547531,\n 4629651978,\n 3804439056,\n 4481991186,\n 2274238994,\n 6366462484,\n 447668755,\n 856908309,\n 3348881943,\n 1994998298,\n 531628572,\n 3694559772,\n 5212545576,\n 778109481,\n 1218822699,\n 2117083692,\n 778109488,\n 5479383606,\n 3980395070,\n 1396113982,\n 778109504,\n 2349728321,\n 5876425280,\n 2404819523,\n 2162172486,\n 1505886792,\n 1794269769,\n 2315043405,\n 3314131540,\n 6288556629,\n 3163988567,\n 996368986,\n 2167145051,\n 3282313819,\n 4125041244,\n 2096210527,\n 5731467872,\n 502522466,\n 922853988,\n 6042092140,\n 1708565111,\n 2502468217,\n 1079378554,\n 1463804539,\n 3306898044,\n 3351528062,\n 4835279486,\n 907461246,\n 5936439938,\n 778109573,\n 1079378566,\n 6247203464,\n 3170583177,\n 4208034443,\n 5847368335,\n 4533699216,\n 681714323,\n 2165154454,\n 1206911639,\n 2606727831,\n 1034879645,\n 1376109214,\n 827122335,\n 2515206814,\n 6286828193,\n 2419491489,\n 1866637987,\n 4257858212,\n 4336992933,\n 1396114079,\n 996369057,\n 2019566252,\n 2077827758,\n 2173887151,\n 5079270064,\n 3200697009,\n 4619231922,\n 1687405236,\n 1791222452,\n 1785012920,\n 1744880313,\n 6200492730,\n 2524816057,\n 609338044,\n 2026054335,\n 4267524803,\n 409240261,\n 1133732550,\n 2661360327,\n 5970125512,\n 1840415431,\n 1343873740,\n 3241296589,\n 1515619022,\n 4397384398,\n 3551339216,\n 2779415249,\n 3270099668,\n 778109653,\n 1343873748,\n 855917274,\n 681714396,\n 3261432541,\n 996369117,\n 1298694881,\n 1582670564,\n 5578826468,\n 778109671,\n 3368592104,\n 1133732586,\n 6232720107,\n 3274605295,\n 4075864819,\n 1620615924,\n 1433944821,\n 4429226742,\n 2169848565,\n 649724661,\n 3759022839,\n 4741833472,\n 4284728068,\n 1340441352,\n 5037237000,\n 3990364940,\n 3296305935,\n 405127953,\n 2021540625,\n 3422577427,\n 3306717971,\n 4818756374,\n 4051518232,\n 3741303576,\n 1515619110,\n 1337344809,\n 2199175978,\n 1133732651,\n 3156714284,\n 4212204333,\n 1075299117,\n 5245371183,\n 1001317169,\n 1076388659,\n 1481720636,\n 4449051455,\n 1785013059,\n 1075299140,\n 5322097480,\n 1513743179,\n 3742262091,\n 1781244749,\n 4858143572,\n 1479508826,\n 4794401628,\n 4118807391,\n 2123858785,\n 5873050466,\n 3029590882,\n 1141547878,\n 6288622440,\n 418997099,\n 3305669484,\n 1233372016,\n 2524816242,\n 4035445619,\n 3150447475,\n 2077582195,\n 3127624562,\n 2088338295,\n 662078327,\n 3492733819,\n 3701597053,\n 3622527871,\n 1075299200,\n 1687405439,\n 519144322,\n 2021540743,\n 1457161095,\n 927458183,\n 637387659,\n 4201227149,\n 4833502100,\n 2586067861,\n 2743862168,\n 886031256,\n 5626110876,\n 2436424605,\n 2111374237,\n 6326141854,\n 2754044829,\n 2291344289,\n 3165987747,\n 3695854500,\n 4759978916,\n 2525152168,\n 1732617132,\n 1677468590,\n 637387694,\n 2706793393,\n 1933501363,\n 2023990195,\n 6417589173,\n 2582250422,\n 1113457592,\n 5587813306,\n 637387707,\n 1645855679,\n 1687405507,\n 2397660100,\n 6452478920,\n 908370889,\n 1515619278,\n 1933501393,\n 1825276881,\n 3010536403,\n 3325371348,\n 1073423318,\n 1048290262,\n 6321292249,\n 5371782109,\n 2257339361,\n 3457827809,\n 4715979751,\n 3105530855,\n 2601223145,\n 464282605,\n 1723196397,\n 1662583792,\n 750306290,\n 2828387316,\n 2266825717,\n 3075679220,\n 3553387511,\n 4753613816,\n 1191035897,\n 2478982138,\n 1145259001,\n 2021409789,\n 3764126717,\n 1773454333,\n 1145259006,\n 3063677953,\n 1515619329,\n 2430870532,\n 3052471303,\n 1145259015,\n 1145259016,\n 1840440337,\n 3876758548,\n 1155343382,\n 1734132760,\n 5774066714,\n 1501914138,\n 1145259035,\n 2177664030,\n 5126865952,\n 5000971299,\n 5376558116,\n 3378357286,\n 603972649,\n 3319104556,\n 1396114476,\n 603972661,\n 5915042870,\n 5765055542,\n 4364100664,\n 3718997051,\n 1940767804,\n 3150447677,\n 1912030268,\n 3269821505,\n 3730187338,\n 1717470285,\n 887317584,\n 855917655,\n 2288927831,\n 3271582811,\n 1708237917,\n 5847368797,\n 5213652063,\n 1825277025,\n 2287101030,\n 5685281894,\n 5835760744,\n 1113457770,\n 4677772395,\n 1073423468,\n 4317357165,\n 894379119,\n 1708237942,\n 5502690423,\n 3042337911,\n 609256569,\n 2664203386,\n 3677078646,\n 2011784318,\n 837346432,\n 5830009984,\n 2001470594,\n 2397660290,\n 2978964609,\n 1636017288,\n 2021541002,\n 1010803854,\n 3891676305,\n 1654301841,\n 3858130067,\n 4033610900,\n 4614931605,\n 1428243606,\n 3110478998,\n 3807814803,\n 5980464275,\n 1454032018,\n 1715905691,\n 3514680476,\n 837346461,\n 2467652765,\n 6352192668,\n 5792564375,\n 3311412385,\n 2489304227,\n 4201227428,\n 2148230309,\n 1537402024,\n 1515611305,\n 1325769900,\n 4356179117,\n 2205967534,\n 3084592301,\n 2489132212,\n 829564084,\n 5986002101,\n 6106178747,\n 150922427,\n 3657508029,\n 5365679297,\n 150922434,\n 2478982339,\n 5299659971,\n 1245996230,\n 3152200902,\n 4646528203,\n 1708238030,\n 6296962257,\n 1018586322,\n 1418454225,\n 150922453,\n 1490257111,\n 150922458,\n 150922459,\n 2411095260,\n 5847368928,\n 3284755681,\n 150922469,\n 5954077926,\n 150922473,\n 150922474,\n 603448553,\n 150922477,\n 2078688495,\n 3138888943,\n 1741399280,\n 150922482,\n 3269862644,\n 837346549,\n 4721943797,\n 150922491,\n 150922492,\n 3369575676,\n 1343874302,\n 1515611391,\n 2662286596,\n 4731233541,\n 1641260292,\n 1433945351,\n 1812587786,\n 603448590,\n 928793871,\n 1933501711,\n 630506769,\n 150922512,\n 2638947602,\n 2279556372,\n 3256345872,\n 4080690454,\n 603448599,\n 150922521,\n 1627538715,\n 886048028,\n 5300552989,\n 5086168349,\n 570795293,\n 150922526,\n 150922529,\n 3931309340,\n 3692004636,\n 497567012,\n 2583676188,\n 4372325670,\n 1489675558,\n 4284728611,\n 4045464878,\n 4641113390,\n 2596857138,\n 5037237554,\n 3379201336,\n 837346619,\n 2525144380,\n 1253721405,\n 150922558,\n 1493763392,\n 4704912706,\n 2224784707,\n 4429227332,\n 3245393220,\n 2254857541,\n 4235109705,\n 1795056970,\n 2587649357,\n 1940768077,\n 150922573,\n 2141242705,\n 2199266643,\n 1912030547,\n 1877001557,\n 2469979477,\n 1245865301,\n 6214452571,\n 2925700444,\n 1515611488,\n 3340600676,\n 2483946853,\n 1933501797,\n 1708238183,\n 3825624423,\n 1515619689,\n 2026669418,\n 1265075556,\n 3296306540,\n 2077582705,\n 1935689074,\n 2078688627,\n 5365679477,\n 1874175355,\n 3684722044,\n 570795388,\n 3726517627,\n 1637623173,\n 150922634,\n 401859980,\n 2730321295,\n 2050270613,\n 3422578072,\n 4486858137,\n 3355157912,\n 1652303262,\n 4186416542,\n 1400464805,\n 2288215467,\n 493877956,\n 4715218350,\n 2476210885,\n 4585440689,\n 807773617,\n 1942767027,\n 5626111414,\n 4732962232,\n 1410270652,\n 5773256126,\n 2288215489,\n 3354871237,\n 5432370630,\n 1215956423,\n 2287101383,\n 850429390,\n 1338262994,\n 1215956435,\n 4044924372,\n 2524816853,\n 3793216978,\n 1400464855,\n 1708565976,\n 4579526111,\n 1324082655,\n 2143118817,\n 1515611618,\n 5856921068,\n 554067436,\n 2005583342,\n 4763788784,\n 1844291061,\n 2091279865,\n 5222671867,\n 2950915581,\n 4541203966,\n 2119034366,\n 1708238336,\n 4061308416,\n 2072471038,\n 3962283527,\n 3732776458,\n 3976963596,\n 1537402387,\n 3302696468,\n 553141781,\n 5240686101,\n 3113076249,\n 4356179482,\n 1847502370,\n 1478084131,\n 1366599208,\n 2063623722,\n 1522615851,\n 6350857773,\n 2678564398,\n 6021129776,\n 6342723121,\n 3807413812,\n 1515619893,\n 3412919863,\n 2519647800,\n 1416824380,\n 4333577792,\n 5847369281,\n 2104116802,\n 4045465156,\n 2028144198,\n 4201227847,\n 4633241160,\n 3531687497,\n 4094895691,\n 360785484,\n 4410287691,\n 1623426641,\n 3902858835,\n 2143331924,\n 3147736661,\n 3201697367,\n 1522615897,\n 3846964826,\n 3274532441,\n 4029654618,\n 1634248285,\n 5610735200,\n 1780131426,\n 3055871587,\n 3141756516,\n 518768231,\n 4252509800,\n 794822249,\n 3234702960,\n 2007762546,\n 521283186,\n 2627544692,\n 609338996,\n 4405339766,\n 3302696562,\n 272492152,\n 3922314873,\n 1256711797,\n 4522542715,\n 1732339323,\n 3140380286,\n 271165056,\n 2197661314,\n 5021304450,\n 1332659850,\n 3147851405,\n 1445258896,\n 3019237009,\n 2989024918,\n 2907997848,\n 518768280,\n 1676158622,\n 5737588385,\n 3581658787,\n 612165284,\n 1560880809,\n 2141046442,\n 518768307,\n 3179071156,\n 1332659895,\n 3743786680,\n 1515620026,\n 3714500285,\n 1723205312,\n 5737588419,\n 525338310,\n 2143332038,\n 1623426759,\n 4899972808,\n 5030627024,\n 3330049746,\n 2196842198,\n 3551340246,\n 4327900887,\n 3171641048,\n 2896897754,\n 4519741147,\n 4963124964,\n 4166346471,\n 2441103080,\n 2214635240,\n 5737588471,\n 2136581879,\n 1728833271,\n 1020987134,\n 2227209984,\n 2077583106,\n 2322130693,\n 1515620101,\n 1332659973,\n 6354405131,\n 1521452812,\n 2210858773,\n 5812913942,\n 1418897178,\n 1444235035,\n 4576896797,\n 798336801,\n 1050437413,\n 3586877221,\n 3764406056,\n 1020987177,\n 2011031339,\n 2039506734,\n 1708238639,\n 1758480178,\n 2397660978,\n 1153189684,\n 3316868914,\n 5847369526,\n 2697283384,\n 2557142841,\n 3231524667,\n 3265357627,\n 2525144891,\n 5909169993,\n 5737588554,\n 3604113226,\n 2433681227,\n 3784427345,\n 1515620177,\n 4498581332,\n 4067428182,\n 2587649885,\n 5206665057,\n 4530079588,\n 5002938213,\n 887318374,\n 3121579877,\n 6301394789,\n 1730963305,\n 2086979436,\n 1442228081,\n 779659123,\n 1065781109,\n 3252316022,\n 3817695096,\n 2555611001,\n 2333329272,\n 4591101819,\n 1901733760,\n 558876544,\n 2983954306,\n 1776707459,\n 3467822980,\n 6333130626,\n 2093459336,\n 3003115404,\n 1687406481,\n 1732339606,\n 1153189787,\n 1444235163,\n 1446930332,\n 5909170075,\n 1446930335,\n 2069284766,\n 1708238754,\n 1432389540,\n 3975694251,\n 989120427,\n 2349172652,\n 1485875118,\n 3032582060,\n 2681604016,\n 2704459691,\n 763717554,\n 3033196466,\n 1445513140,\n 5737588664,\n 4185589692,\n 1788610493,\n 4994459582,\n 989120447,\n 4109436863,\n 2143332289,\n 2069284798,\n 3983525827,\n 2141243332,\n 3202672582,\n 1485875143,\n 1200719815,\n 989120457,\n 2638948301,\n 1400465359,\n 3634530255,\n 6256207830,\n 4137453527,\n 989120471,\n 5847361494,\n 2615666647,\n 989120477,\n 5578827743,\n 1697302499,\n 1687406563,\n 6234245093,\n 3201697766,\n 2234230759,\n 4923025384,\n 1387562985,\n 3781552106,\n 4448569322,\n 756525037,\n 1687406574,\n 1213319153,\n 1605601265,\n 3771377652,\n 1195304953,\n 3858343932,\n 6084929533,\n 2063656957,\n 546695164,\n 2176428034,\n 756525059,\n 5695916036,\n 3118925828,\n 989120521,\n 1387563018,\n 4800997386,\n 2059626511,\n 908863504,\n 5825038352,\n 989120532,\n 2299398165,\n 756525077,\n 3800483864,\n 5958395929,\n 549881881,\n 2462255132,\n 756525087,\n 3454445601,\n ...}"
     },
     "execution_count": 120,
     "metadata": {},
     "output_type": "execute_result"
    }
   ],
   "source": [
    "\n",
    "set(test['activity_id']) - set(types_df_2['activity_id'])"
   ],
   "metadata": {
    "collapsed": false,
    "pycharm": {
     "name": "#%%\n"
    }
   }
  },
  {
   "cell_type": "code",
   "execution_count": 122,
   "outputs": [],
   "source": [
    "test[~test['activity_id'].isin(list(types_df_2['activity_id']))].to_csv('./link/additional_riders_activity_links.csv',index=False,header=True)"
   ],
   "metadata": {
    "collapsed": false,
    "pycharm": {
     "name": "#%%\n"
    }
   }
  },
  {
   "cell_type": "code",
   "execution_count": 9,
   "outputs": [
    {
     "data": {
      "text/plain": "array(['Ride', 'Indoor Cycling', 'Nordic Ski', 'Run', 'Ride – Commute',\n       'Walk', 'Hike', 'Workout', 'Roller Ski', 'Virtual Ride', 'Race',\n       'Weight Training', 'Ice Skate', 'Crossfit', 'Winter Sport',\n       'Treadmill workout', 'Run – Commute', 'Yoga', 'Swim', 'Rowing',\n       'Long Run', 'Virtual Run', 'Stand Up Paddling', 'Backcountry Ski',\n       'Alpine Ski', 'E-Bike Ride', 'Velomobile', 'Inline Skate',\n       'Workout – Commute', 'Golf'], dtype=object)"
     },
     "execution_count": 9,
     "metadata": {},
     "output_type": "execute_result"
    }
   ],
   "source": [
    "import pandas as pd\n",
    "types_df_full = pd.read_csv('link/activity_link_types- full.csv')\n",
    "types_df_full['activity_type'].unique()"
   ],
   "metadata": {
    "collapsed": false,
    "pycharm": {
     "name": "#%%\n"
    }
   }
  },
  {
   "cell_type": "code",
   "execution_count": 3,
   "outputs": [],
   "source": [
    "\n",
    "types_df_full[types_df_full['activity_type']=='Race'].to_csv('races_activity_links.csv',index=False,header=True)"
   ],
   "metadata": {
    "collapsed": false,
    "pycharm": {
     "name": "#%%\n"
    }
   }
  },
  {
   "cell_type": "code",
   "execution_count": 4,
   "outputs": [],
   "source": [
    "\n",
    "import pandas as pd\n",
    "types_df_full = pd.read_csv('link/additional_riders_activity_links.csv')"
   ],
   "metadata": {
    "collapsed": false,
    "pycharm": {
     "name": "#%%\n"
    }
   }
  },
  {
   "cell_type": "code",
   "execution_count": null,
   "outputs": [],
   "source": [],
   "metadata": {
    "collapsed": false,
    "pycharm": {
     "name": "#%%\n"
    }
   }
  }
 ],
 "metadata": {
  "kernelspec": {
   "display_name": "Python 3",
   "language": "python",
   "name": "python3"
  },
  "language_info": {
   "codemirror_mode": {
    "name": "ipython",
    "version": 2
   },
   "file_extension": ".py",
   "mimetype": "text/x-python",
   "name": "python",
   "nbconvert_exporter": "python",
   "pygments_lexer": "ipython2",
   "version": "2.7.6"
  }
 },
 "nbformat": 4,
 "nbformat_minor": 0
}