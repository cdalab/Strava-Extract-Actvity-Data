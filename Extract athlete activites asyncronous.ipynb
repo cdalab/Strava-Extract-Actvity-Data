{
 "cells": [
  {
   "cell_type": "code",
   "execution_count": 91,
   "id": "07e6f91e",
   "metadata": {},
   "outputs": [],
   "source": [
    "import re\n",
    "import time as t\n",
    "import threading\n",
    "from selenium import webdriver\n",
    "from selenium.webdriver.support.wait import WebDriverWait\n",
    "from bs4 import BeautifulSoup"
   ]
  },
  {
   "cell_type": "code",
   "execution_count": 92,
   "id": "cabcbed6-7014-4d60-ae9f-97f84deb9268",
   "metadata": {},
   "outputs": [],
   "source": [
    "STRAVA_URL = 'https://www.strava.com'\n",
    "password = r'1357WorkWork!'\n",
    "p = '1357Worker!'\n",
    "usernames = [\n",
    "    ('spektork@post.bgu.ac.il'),\n",
    "#     (r'cool_table@yahoo.com'),\n",
    "#     (r'cool_table2@yahoo.com'),\n",
    "#     (r'cool_table3@yahoo.com'),\n",
    "#     (r'cool_table4@yahoo.com'),\n",
    "#     (r'cool_table5@yahoo.com'),\n",
    "]\n",
    "\n",
    "username_backup = r'kev_backup@yahoo.com'\n",
    "password = r'1357Backup!'"
   ]
  },
  {
   "cell_type": "markdown",
   "id": "ae4f1147-d58b-4b45-bcfb-982d7cb9eba6",
   "metadata": {},
   "source": [
    "## Prepare chrome driver and ign in to Strava"
   ]
  },
  {
   "cell_type": "code",
   "execution_count": 93,
   "id": "3576298d",
   "metadata": {},
   "outputs": [],
   "source": [
    "def chrome_driver():\n",
    "    options = webdriver.ChromeOptions()\n",
    "    options.add_argument('headless')\n",
    "\n",
    "    # start chrome browser\n",
    "    browser = webdriver.Chrome(options=options)\n",
    "\n",
    "    browser.get(STRAVA_URL + '/login')\n",
    "    email = browser.find_element_by_id(\"email\")\n",
    "    password = browser.find_element_by_id(\"password\")\n",
    "\n",
    "    email.send_keys('kev_backup@yahoo.com')\n",
    "    password.send_keys('12345678')\n",
    "    \n",
    "    browser.find_element_by_id(\"login-button\").click()\n",
    "    return browser"
   ]
  },
  {
   "cell_type": "code",
   "execution_count": 102,
   "id": "cf233f97-1db1-49a2-9d40-9a840f9a294e",
   "metadata": {},
   "outputs": [],
   "source": [
    "semaphore = threading.Semaphore(len(usernames))\n",
    "mutex = threading.Lock()"
   ]
  },
  {
   "cell_type": "markdown",
   "id": "dacd39dd",
   "metadata": {},
   "source": [
    "## Extract rider activities"
   ]
  },
  {
   "cell_type": "code",
   "execution_count": 103,
   "id": "c8782e21-1571-4f0d-888c-e8bf3f4125de",
   "metadata": {},
   "outputs": [],
   "source": [
    "class GetActivitiesThread(threading.Thread):        \n",
    "\n",
    "    def __init__(self, links, username):\n",
    "        self.activity_links = set()\n",
    "        self.links = links\n",
    "        self.username = username\n",
    "        self.STRAVA_URL = 'https://www.strava.com'\n",
    "        super(GetActivitiesThread, self).__init__()\n",
    "        \n",
    "    def open_driver(self):\n",
    "        \n",
    "        options = webdriver.ChromeOptions()\n",
    "        options.add_argument('headless')\n",
    "        \n",
    "        self.browser = webdriver.Chrome(options=options)\n",
    "        URL = self.STRAVA_URL + '/login'\n",
    "        \n",
    "        self.browser.get(URL)\n",
    "        email = self.browser.find_element_by_id(\"email\")\n",
    "        password = self.browser.find_element_by_id(\"password\")\n",
    "\n",
    "        email.send_keys(self.username)\n",
    "        password.send_keys('12345678')\n",
    "        \n",
    "        self.browser.find_element_by_id(\"login-button\").click()\n",
    "        t.sleep(1)\n",
    "        print(self.browser.current_url)\n",
    "       # print(f'thread: {self.name}, id: {browser.session_id}, logged in:  {browser.current_url}')\n",
    "        \n",
    "    def close_driver(self):\n",
    "        self.browser.close()\n",
    "\n",
    "\n",
    "    def run(self):\n",
    "        \n",
    "        semaphore.acquire()\n",
    "        self.open_driver()\n",
    "\n",
    "        prev = set()\n",
    "        curr = set()\n",
    "        for link in self.links:\n",
    "            \n",
    "            self.browser.get(link)\n",
    "            t.sleep(5)\n",
    "            if self.browser.current_url == 'https://www.strava.com/login': # logged out ...\n",
    "                print(f'thread: {self.name}, logged out...')\n",
    "                self.close_driver()\n",
    "                semaphore.release()\n",
    "                return\n",
    "            timeout = t.time() + 15\n",
    "            new_curr = set()\n",
    "            \n",
    "            while curr == prev:\n",
    "                \n",
    "               # print(f'thread: {self.name}, {self.browser.current_url}')   \n",
    "                t.sleep(1)\n",
    "                graph_soup = BeautifulSoup(self.browser.page_source, 'html.parser')\n",
    "                group_feed_activities = graph_soup.find_all('div', {'class': 'feed-entry group-activity'})\n",
    "                normal_activities = graph_soup.find_all('div', {'class': 'activity feed-entry entity-details'})\n",
    "\n",
    "                for group_feed_activity in group_feed_activities:\n",
    "                    # loop through all group activities\n",
    "                    group_feed_entry_body = group_feed_activity.find('div', {'class': 'entry-body'})\n",
    "                    group_feed_link = group_feed_entry_body.find('a')\n",
    "                    new_curr.add(self.STRAVA_URL + group_feed_link.get('href'))\n",
    "                \n",
    "                for normal_activity in normal_activities:\n",
    "                    # loop through all normal activities\n",
    "                    normal_activity_entry_body = normal_activity.find('div', {'class': 'entry-body'})\n",
    "                    normal_activity_link = normal_activity_entry_body.find('a')\n",
    "                    new_curr.add(self.STRAVA_URL + normal_activity_link.get('href'))\n",
    "                curr = new_curr\n",
    "                \n",
    "                if t.time() > timeout:\n",
    "                    break\n",
    "                \n",
    "            prev = curr\n",
    "            \n",
    "            self.activity_links = self.activity_links.union(curr)\n",
    "            \n",
    "        self.close_driver()\n",
    "        semaphore.release()\n"
   ]
  },
  {
   "cell_type": "code",
   "execution_count": 96,
   "id": "bb9fbdc7",
   "metadata": {},
   "outputs": [],
   "source": [
    "def extract_activities(url, years, months):\n",
    "    activity_links = set()\n",
    "    actvity_links_list = []\n",
    "    STRAVA_URL = 'https://www.strava.com'\n",
    "    browser.get(url)\n",
    "    \n",
    "    # Click on 'monthly' button so that the date inteverals would be smaller\n",
    "    monthly_xpath = '//*[@id=\"interval-graph-controls\"]/ul/li[2]/ul/li[2]/a'\n",
    "    interval_xpath = '//*[@id=\"interval-graph-columns\"]/div/ul[2]'\n",
    "\n",
    "    soup = BeautifulSoup(browser.page_source, 'html.parser')\n",
    "    date_intervals = soup.find('div', {'class': 'drop-down-menu drop-down-sm enabled'})\n",
    "    date_links = date_intervals.find_all('a')\n",
    "    \n",
    "    threads_links = []\n",
    "    interval_soups = []\n",
    "    i = 0\n",
    "    prev_url = browser.current_url\n",
    "    for date_link in date_links:\n",
    "        \n",
    "        link = STRAVA_URL + date_link['href']\n",
    "        link = link.replace('week', 'month')\n",
    "        interval1 = re.search(\"interval=.*&\",link).group(0)\n",
    "        year = int(interval1[-7:-3])\n",
    "        \n",
    "        if year not in years:\n",
    "            continue\n",
    "        threads_links.append([])\n",
    "        for month in range(7,13):\n",
    "            \n",
    "            if month not in months:\n",
    "                continue\n",
    "                \n",
    "            month_string = str(month) if month >= 10 else f'0{month}'\n",
    "            interval2 = interval1.replace(str(year)+interval1[-3:-1], str(year-1)+month_string)\n",
    "            threads_links[i].append(link.replace(interval1, interval2))\n",
    "            \n",
    "        for month in range(1,8):\n",
    "            \n",
    "            if month not in months:\n",
    "                continue\n",
    "                \n",
    "            interval2 = interval1.replace(str(year)+interval1[-3:-1], str(year)+f'0{month}')\n",
    "            threads_links[i].append(link.replace(interval1, interval2))\n",
    "\n",
    "       \n",
    "        i += 1\n",
    "        \n",
    "    return threads_links"
   ]
  },
  {
   "cell_type": "code",
   "execution_count": 97,
   "id": "3f9992f6-f69f-472d-b477-c224d5895db5",
   "metadata": {},
   "outputs": [
    {
     "data": {
      "text/plain": [
       "'https://www.strava.com/onboarding'"
      ]
     },
     "execution_count": 97,
     "metadata": {},
     "output_type": "execute_result"
    }
   ],
   "source": [
    "browser = chrome_driver()\n",
    "browser.current_url"
   ]
  },
  {
   "cell_type": "code",
   "execution_count": 104,
   "id": "bc7adfed",
   "metadata": {},
   "outputs": [],
   "source": [
    "def extract_athelete_activities(url, years=[2021, 2020, 2019, 2018, 2017, 2016, 2015, 2014], months=[1,2,3,4,5,6,7,8,9,10,11,12]):\n",
    "    threads_links = extract_activities(url, years, months)\n",
    "    threads = []\n",
    "    activity_links = set()\n",
    "    \n",
    "    i = 0\n",
    "    for links in threads_links:\n",
    "        thread = GetActivitiesThread(links, usernames[i % len(usernames)])\n",
    "        thread.name = str(i)\n",
    "        threads.append(thread)\n",
    "        thread.start()\n",
    "        i += 1\n",
    "\n",
    "    for thread in threads:\n",
    "        thread.join()\n",
    "        print(f'thread: {thread.name}, links: {len(thread.activity_links)}')\n",
    "        activity_links = activity_links.union(thread.activity_links)\n",
    "    return activity_links"
   ]
  },
  {
   "cell_type": "code",
   "execution_count": 105,
   "id": "3acc419b-5656-4832-8c18-226d91044378",
   "metadata": {},
   "outputs": [
    {
     "name": "stdout",
     "output_type": "stream",
     "text": [
      "https://www.strava.com/onboarding\n",
      "thread: 0, links: 0\n"
     ]
    }
   ],
   "source": [
    "se = extract_athelete_activities('https://www.strava.com/athletes/9207204', years=[2020],months=[1,2,3])\n"
   ]
  },
  {
   "cell_type": "code",
   "execution_count": 106,
   "id": "c9f7d0e1-a40c-44ab-94b4-3534f923ad97",
   "metadata": {},
   "outputs": [
    {
     "data": {
      "text/plain": [
       "set()"
      ]
     },
     "execution_count": 106,
     "metadata": {},
     "output_type": "execute_result"
    }
   ],
   "source": [
    "se"
   ]
  },
  {
   "cell_type": "code",
   "execution_count": null,
   "id": "8433d62c-2f83-4d8d-8852-cf72b2bded5e",
   "metadata": {},
   "outputs": [],
   "source": []
  }
 ],
 "metadata": {
  "kernelspec": {
   "display_name": "Python 3",
   "language": "python",
   "name": "python3"
  },
  "language_info": {
   "codemirror_mode": {
    "name": "ipython",
    "version": 3
   },
   "file_extension": ".py",
   "mimetype": "text/x-python",
   "name": "python",
   "nbconvert_exporter": "python",
   "pygments_lexer": "ipython3",
   "version": "3.8.0"
  }
 },
 "nbformat": 4,
 "nbformat_minor": 5
}
